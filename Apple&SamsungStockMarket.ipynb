{
 "cells": [
  {
   "cell_type": "markdown",
   "metadata": {},
   "source": [
    "# COGS 108 - Apple and Samsung Stock Market Performance and Employment as a Predictive Factor\n",
    "\n",
    "Final Video Link: https://youtu.be/Jm06WSTTC74?si=tIn6Si8vHXqU3JfQ \n",
    "\n",
    "\n",
    "# Permissions\n",
    "\n",
    "Place an `X` in the appropriate bracket below to specify if you would like your group's project to be made available to the public. (Note that student names will be included (but PIDs will be scraped from any groups who include their PIDs).\n",
    "\n",
    "* [ X ] YES - make available\n",
    "* [  ] NO - keep private\n",
    "\n",
    "# Names\n",
    "\n",
    "- Nikita Shinde (A17643607)\n",
    "- Ashley Chavarria (A16833972)\n",
    "- Kim Ho (A17625462)\n",
    "- Grace Lam (A16393696)\n",
    "- Adrianna Vilaysith (A14923721)\n",
    "\n",
    "# Abstract\n",
    "\n",
    "In this project, our group wants to explore the intricate relationship between the financial trajectories and workforce dynamics of tech giants, Apple and Samsung. This topic piqued our interest particularly because we are all attending university to, in the end, follow a path that leads us to work in a technology science field. Since the start of the project, our group wanted to indulge in a topic that was relevant to young people like ourselves, therefore, studying and tracking trends with these large companies would significantly improve our experience with finding a secure position in one of these companies, whether that be working for the company or investing in its stock. \n",
    "\n",
    "To achieve our goal of finding a relationship between stock in competitor companies and using employment to see trends in stock fluctuations, our group merged and analyzed datasets. Leveraging Pearson correlation coefficients to discern relationships within and between the companies. Not only that, but we use visualizations to show correlations between stock prices and employment variation. Finally, we performed predictive analysis on our data to which we would create a predictive model and see if monthly changes in Apple’s stock prices can predict the direction of Samsung’s stock prices. \n",
    "\n",
    "Though we initially wanted to take employment data into consideration for our analysis, we discussed limitations to the usage of that dataset specifically in that there would not be sufficient data. Instead we created a model to see if monthly changes in the stock of our competitor companies could predict changes in one another’s stocks. This is made up for, however, by the usage of the correlations coefficient. What we found from our predictive analysis however, is that our accuracy is quite skewed due to other limitations, but as of right now our precision sits at 64%. \n",
    "\n",
    "In our findings, we note that while both Apple and Samsung exhibited positive slopes in their stock prices, Apple demonstrated a much more significant positive trajectory compared to Samsung’s which was much more turbulent. The inverse relationship in the stocks did not materialize. Rather, we observed a greater positive correlation indicating aligned movement of stocks as well as a decline in Apple’s trading volume over the decade between 2012 to 2022. With employment, we found that Apple had consistently increased its workforce while Samsung was, similar to its stocks, was much more erratic. \n"
   ]
  },
  {
   "cell_type": "markdown",
   "metadata": {},
   "source": [
    "# Research Question"
   ]
  },
  {
   "cell_type": "markdown",
   "metadata": {},
   "source": [
    "Is there a statistically significant relationship between the worldwide Samsung and Apple stock markets between 2012-2022? Using worldwide employment rate data for each company, can this relationship be leveraged to build a predictive model for stock price trends in either company to help others determine when each stock is more secure to purchase?"
   ]
  },
  {
   "cell_type": "markdown",
   "metadata": {},
   "source": [
    "## Background and Prior Work"
   ]
  },
  {
   "cell_type": "markdown",
   "metadata": {},
   "source": [
    "### Introduction\n",
    "All financial market performance in any company’s stocks are subject and vulnerable to the interest of investors and analysts. When one notices a company doing well in sales, a shareholder will most likely consider investing in such a company. Such as the rise in Tesla stocks purchased over the last years as it has become one of the most recognized brands of electrical vehicles in North America. However, a very intriguing set of stocks to observe is that of competitor companies, such as Samsung and Apple. It is not just a debate between users on which company produces better electronic products, but rather as two global leaders in the technology sector of products, these company's financial performance has often been a topic of speculation.\n",
    "\n",
    "In our analysis, we try to find a relationship between the history of stock prices for both Samsung and Apple and note if there are any trends that could possibly be used to predict future trends for both companies that may assist in investment decisions. Our group would like to take a look at employment as a possible factor for a company's stock price as the observed generalization of how stocks change in price is all dependent on who is investing. That said, investors penalizing companies for layoffs is quite common, causing the stock of the company to decrease in value 1. All this said, an analysis of a relationship between stocks in these two companies as well as the trends in employment can be used to build a predictive model to determine the value of security in stock in either company. \n",
    "\n",
    "Here, the process of analyzing the relationship between these two stocks will involve gathering 10 years worth of price data from 2012-2022 and employing statistical methods to assess the strength of any correlation that is observed. We believe that retrieving data from 2012-2022 is acceptable because this decade-long data set will provide a substantial timeframe to observe patterns and fluctuations in both company’s stock prices. Not only that, but it is a significant point in time after the legal feud between Samsung and Apple in April of 2011 to which Apple had filed a lawsuit against Samsung for allegedly infringing on Apple’s designs and trademarks, eventually leading to Samsung countersuing </a>[<sup>1</sup>](#cite_note-1). Therefore, this decade holds not just an opportunity to see stock changes after the announcement and release of products, but also marks the beginning of a clash between Samsung and Apple users and investors.\n",
    "\n",
    "1. <a name=\"cite_note-1\"></a>[^](#cite_ref-1) Eshghi, K., Astvansh, V. (21 Sept 2023) Stock Investors' Reaction to Layoff Announcements: A Meta-analysis. *Human Resource Management Journal*. https://onlinelibrary.wiley.com/doi/full/10.1111/1748-8583.12532\\n,\n",
    "\n",
    "### Prior Work\n",
    "\n",
    "In one piece of literature, it is explained that Apple and Samsung for the past 12 years have been in stiff competition with each other with Apple beginning the revolution with the release of the one of the first smartphones in 2007 with Samsung soon following since then, both companies constantly try to out-market each other. Although Apple outspends Samsung in its advertising for new products, Samsung’s creativity in campaigns has proven itself to be extraordinary </a>[<sup>2</sup>](#cite_note-2). Because of this tension between the two companies, investors all keep a close eye on public reception of these two companies. In turn, heightening motivation from Apple and Samsung alike to innovate and pioneer a new lineage of technology.\n",
    "\n",
    "In our research on this topic, we came across the news that Apple announced the new release of M3 chips for MacBook Pro laptops and a new iMac model during a launch event Monday, October 30, 2023 </a>[<sup>3</sup>](#cite_note-3). The awaited news of significant enhancements in Apple’s software, such as longer battery life and amazing horsepower speeds for AI applications, has created so much buzz for the company that as of 1:52 PM EDT their stock had increased 0.21% to a stock price of 170.66 USD </a>[<sup>4</sup>](#cite_note-4). Then when we take a look at the stock price for Samsung as of 3:30 PM KST, stock has decreased 0.59% to a stock price of about 49.46 USD per stock </a>[<sup>5</sup>](#cite_note-5). Just from the stock changes we see overnight with Apple’s new announcement of upgrades, with Apple’s stocks increasing, Samsung’s decrease.\n",
    "\n",
    "While this is only a trend we see 17 hours after Apple’s announcement, we can see an inverse correlation between the two stock prices. It is also worth noting that competition between the two companies is also recognized by the public, which is made evident by the plethora of yahoo finance articles such as their article explaining the pros and cons of each company and admitting that the release cycles for Apple and Samsung “compliment each other”, but it is also recognized by the company themselves </a>[<sup>6</sup>](#cite_note-6).Their mutual lawsuits since 2011 have proven the companies’ constant battle to prove that the other either copies design or software, their most recent lawsuit being in May 2018 where the jury found Samsung to pay over $500 million for “slavishly” copying features on the iPhone </a>[<sup>7</sup>](#cite_note-7). In May 2018, Apple’s stocks closed at 47.04 USD per share while Samsung’s closed at 37.99 USD. Again, we can see that as one stock increases the other decreases, here the decrease in stock price for Apple following their victory in their 2018 lawsuit against Samsung.\n",
    "\n",
    "Additionally, there was quite a change in the employment rates of these two companies when comparing them pre and post lawsuit settlement. From 2017 and going into the end of the lawsuit in 2018, Apple had an increase in employment of 7.32%. Then in 2019, a year after their victory, had another increase of 3.79% </a>[<sup>8</sup>](#cite_note-8).  For Samsung, 2017 going into 2018 the rate of employment increased at 3.31%, however, post lawsuit in 2019 there was a significant decrease as the rate of employment plummeted to -10.67% </a>[<sup>9</sup>](#cite_note-9). Demonstrating that a year after the loss in the lawsuit of the May 2018 the settlement resulted in some investors thoughts faltered in the viability Samsung stocks which would also explain the decrease of the company’s stock price to a selling price of 32.34 USD and Apple’s decrease of price at a selling point price of 44.74 USD, nonetheless outweighing Samsung by a significant amount.\n",
    "\n",
    "While the movement of stock prices for these two companies could be coincidences, it is still a phenomenon that we are interested in exploring. The two occurrences presented don’t necessarily answer our question if the relationship is truly significant and if the changes in stock could be used to build a predictive model. In the first observation, Apple’s announcement of upgrades led to their increase in stock while Samsung’s decreased. In the second observation, Apple’s victory caused their stock price to decrease and Samsung’s to increase.While we are not here to track battles and tribulations between Apple and Samsung, we are here to determine if there is any kind of relationship between their stocks.\n",
    "\n",
    "\n",
    "2. <a name=\"cite_note-2\"></a>[^](#cite_ref-2) Bajarin, T. (2022, November 9). \"Why Apple and Samsung’s device competition is great for consumers.\" *Forbes.* https://www.forbes.com/sites/timbajarin/2021/08/12/why-apple-and-samsungs-device-competition-is-great-for-consumers/?sh=73094d8d5e22\n",
    "\n",
    "3. <a name=\"cite_note-3\"></a>[^](#cite_ref-3) Leswig, K. (2023, October 30). Apple announces new M3 chips and cuts the price of the entry-level MacBook Pro. *CNBC.* https://www.cnbc.com/2023/10/30/apple-announces-new-m3-chips-cuts-price-of-entry-level-macbook-pro-.html\n",
    "\n",
    "4. <a name=\"cite_note-4\"></a>[^](#cite_ref-4)  Apple Inc. (AAPL) stock price, news, Quote & History *Yahoo! Finance.* https://finance.yahoo.com/quote/AAPL?p=AAPL\n",
    "\n",
    "5. <a name=\"cite_note-5\"></a>[^](#cite_ref-5) Samsung Electronics Co., Ltd. (005930.KS) stock price, news, Quote & History *Yahoo! Finance.* https://finance.yahoo.com/quote/005930.KS/\n",
    "\n",
    "6. <a name=\"cite_note-6\"></a>[^](#cite_ref-6) Menzies, S. (2016, March 2). Apple vs Samsung: which is best? *Yahoo! Finance.* https://au.finance.yahoo.com/news/apple-vs-samsung--which-is-best-234941730.html\n",
    "\n",
    "7. <a name=\"cite_note-7\"></a>[^](#cite_ref-7) Reuters. (2018, May 24). Jury Awards Apple $539 Million in Samsung Patent Case. *The New York Times.* https://www.nytimes.com/2018/05/24/business/apple-samsung-patent-trial.html\n",
    "\n",
    "8. <a name=\"cite_note-8\"></a>[^](#cite_ref-8) Sher, D. (2023, October 30) Samsung: Empowering Athletes with Mobile Innovations. Investing.com. https://www.investing.com/academy/statistics/samsung-facts/\n",
    "\n",
    "9. <a name=\"cite_note-9\"></a>[^](#cite_ref-9) Samsung Electronics CO., Ltd.. (Accessed 2023, November 10). Apple: Number of Employees 2010-2023 | AAPL. Macrotrends. https://www.investing.com/equities/samsung-electronics-co-ltd-historical-data"
   ]
  },
  {
   "cell_type": "markdown",
   "metadata": {},
   "source": [
    "# Hypothesis\n"
   ]
  },
  {
   "cell_type": "markdown",
   "metadata": {},
   "source": [
    "We hypothesize that there will be a significant relationship between both Apple and Samsung stock markets, particularly an inverse correlation. When Apple’s stocks decrease by any amount Samsung’s will increase by any value, and vice versa. Due to this assumption, it is reasonable to believe that since either stock can fluctuate negatively or positively, both Samsung and Apple stock are reasonably secured to invest in. Positive employment rates usually indicate growth in the company and, in turn, the value of the company increases as well. Therefore, with the positive stock and/or employment rate increase, the company would be much more attractive to invest in. Thus, from an investor standpoint, since these two companies grow and fall inversely, the predictive model would suggest that at the peak of one company’s stock, it would be advantageous  to purchase stock from the rival company and vice versa. As mentioned, from just the two instances of fluctuations between the stock of Samsung and Apple it is seen that their association is quite opposite. Competitiveness is not usually about being equal with a rival, more often than not one aims to be better than the other. Seeing as Samsung and Apple have a history of lawsuits, we would assume that their relationship will not be parallel or positive."
   ]
  },
  {
   "cell_type": "markdown",
   "metadata": {},
   "source": [
    "# Data"
   ]
  },
  {
   "cell_type": "markdown",
   "metadata": {},
   "source": [
    "- The ideal data set we are looking for includes historical stock pricing and trading volume data for both Apple and - Samsung. In regards to historical stock pricing, we are hoping to find data from the last decade which will allow us to interpret how well the two companies did over time. We are using employment datasets and stock history to cross-examine. Doing this will allow us to determine the more successful company. \n",
    "\n",
    "\n",
    "- There are many variables to interpret when analyzing the stock market, however we are using employment rates and stock prices to find trends/patterns between the two. \n",
    "\n",
    "\n",
    "- For our data collection method, this can be obtained from Bloomberg or Yahoo Finance. Government agencies, corporate reports, and financial databases are available to us to help answer our hypothesis.\n",
    "\n",
    "\n",
    "- Our data set should be organized in a structured format such as a relational database or spreadsheet (CSV format). Each variable should have its own column and each observation should have a row. Timestamps and date fields are to be included so we can track when each observation was recorded. We are also considering creating a unique identifier for each company and the time period to facilitate data retrieval and analysis.\n",
    "\n",
    "\n",
    "- Since we are examining the relationship between Samsung and Apple stock markets we would want the stock data from these 2 companies. We were able to find both of them on Kaggle.\n",
    "\n",
    "\n",
    "- For our employment data, we are going to create our own dataset, due to the fact that Samsung’s employment datasets are unavailable."
   ]
  },
  {
   "cell_type": "markdown",
   "metadata": {},
   "source": [
    "##### Dataset 1: Apple stock\n",
    "https://www.kaggle.com/datasets/ranugadisansagamage/apple-stocks/data \n",
    "The data frame has the shape (10449, 7), which means 10449 rows and 7 columns. Columns: Date, Open, High, Low, Close, Adj Close, Volume This has really similar columns as the above data, also clean and without missing values. This also consists of a “Date” column which will help us merge the data later on.\n",
    "We have decided to also look into Apple and Samsung’s annual employment data to help answer our research question and to determine which stock is more secure to purchase. \n",
    "\n",
    "##### Dataset 2: Samsung Stock\n",
    "https://www.kaggle.com/datasets/ranugadisansagamage/samsung-stocks \n",
    "The data frame has the shape (5621, 7), which means 5621 rows and 7 columns. The columns in this dataset are: Date, Open, High, Low, Close, Adj Close, and Volume, it consists of the features we are looking for which are pretty ideal. Moreover, the data looks clean and without missing values which is also what we are looking for. Later in the project, we would have to merge these 2 data sets to perform our analysis so we are also looking for data that have unique identifiers to help join the 2 data frames. We were able to get that from these 2 data sets since they all have the “Date” Column.\n",
    "\n",
    "##### Dataset 3: Apple Employment Data \n",
    "https://www.macrotrends.net/stocks/charts/AAPL/apple/number-of-employees#:~:text=Apple%20total%20number%20of%20employees,a%204.76%25%20increase%20from%202020.\n",
    "\n",
    "This is the data for annual Apple employment from 2010 to 2023. The data consists of 14 rows and 2 columns. The columns are years and the annual number of Employees. We were unable to find data in the format of a CSV, but we found reports online that present data in the form of tables. We will later transform it into a CSV so that we can use and load this data. \n",
    "\n",
    "\n",
    "##### Dataset 4: Samsung Employment Data:  create through report \n",
    "https://www.investing.com/academy/statistics/samsung-facts/\n",
    "\n",
    "This is the data for annual Samsung employment from 2009  to 2023. The data on this website consists of 15 rows and 2 columns. The columns are years and the annual number of Employees. We can later use the year variable to merge this data into datasets 1 and 2. We were also unable to find data in the format of a CSV for Samsung employment, so we found data on a website. We will also have to transform it into a CSV later so that we can load this data. "
   ]
  },
  {
   "cell_type": "markdown",
   "metadata": {},
   "source": [
    "Since we were unable to find annual employment data for Apple and Samsung on websites such as Kaggle. We had to rely on other websites that do not provide data in the form of a CSV, instead, it is displayed as a table embedded in the HTML. This is different from our ideal dataset since we were not able to find them in the form of semi-structured data, therefore it requires more work before we can merge/use it in our project.\n",
    "\n",
    "Moreover, since dataset 3 and 4 was found on websites/articles through Google search, we do not know how reliable this data set is. Making it less ideal as compared to data found on Kaggle."
   ]
  },
  {
   "cell_type": "markdown",
   "metadata": {},
   "source": [
    "## Data Overview"
   ]
  },
  {
   "cell_type": "markdown",
   "metadata": {},
   "source": [
    "##### Dataset #1\n",
    "- Dataset Name: apple_stocks\n",
    "- Link to the dataset: https://www.kaggle.com/datasets/ranugadisansagamage/apple-stocks/data \n",
    "- Number of observations: 10449\n",
    "- Number of variables: 7\n",
    "\n",
    "\n",
    "##### Dataset #2\n",
    "- Dataset Name: Samsung_stocks\n",
    "- Link to the dataset:\n",
    "https://www.kaggle.com/datasets/ranugadisansagamage/samsung-stocks  \n",
    "- Number of observations: 5621\n",
    "- Number of variables: 7\n",
    "\n",
    "\n",
    "##### Dataset #3\n",
    "- Dataset Name: Compilation of Employment Metrics at Apple and Samsung \n",
    "- Link to the individual raw datasets: \n",
    "    - https://www.macrotrends.net/stocks/charts/AAPL/apple/number-of-employees#:~:text=Apple%20total%20number%20of%20employees,a%204.76%25%20increase%20from%202020.\n",
    "    - https://www.investing.com/academy/statistics/samsung-facts/\n",
    "    \n",
    "- Link to the individual csv files on GitHub: \n",
    "    - https://github.com/COGS108/Group059_FA23/blob/master/aapl-employees.csv\n",
    "    - https://github.com/COGS108/Group059_FA23/blob/master/Samsung.csv\n",
    "\n",
    "- Number of observations: 20\n",
    "- Number of variables: 3"
   ]
  },
  {
   "cell_type": "markdown",
   "metadata": {},
   "source": [
    "### Stock Dictionary\n",
    "- Open: The initial price at which a stock starts trading when the market opens for the day.\n",
    "\n",
    "- Close: The price of the stock at the end of the trading day.\n",
    "\n",
    "- High: The highest price the stock reached during the trading day.\n",
    "\n",
    "- Low: The lowest price the stock reached during the trading day.\n",
    "\n",
    "- Volume: The total number of shares or contracts traded during a certain day/period. This shows the activity or level of interest for that stock.\n",
    "\n",
    "- Adjusted Close (Adj Close): The adjusted closing price accounts for corporate actions like dividends, stock splits, and other adjustments. It reflects the true value of a stock after accounting for such events."
   ]
  },
  {
   "cell_type": "code",
   "execution_count": 2,
   "metadata": {},
   "outputs": [],
   "source": [
    "import pandas as pd\n",
    "import numpy as np\n",
    "import seaborn as sns\n",
    "import matplotlib.pyplot as plt"
   ]
  },
  {
   "cell_type": "markdown",
   "metadata": {},
   "source": [
    "## Dataset 1: Apple_stocks"
   ]
  },
  {
   "cell_type": "code",
   "execution_count": 3,
   "metadata": {},
   "outputs": [],
   "source": [
    "Apple_stocks=pd.read_csv(\"Apple.csv\")"
   ]
  },
  {
   "cell_type": "code",
   "execution_count": 4,
   "metadata": {
    "scrolled": false
   },
   "outputs": [
    {
     "data": {
      "text/html": [
       "<div>\n",
       "<style scoped>\n",
       "    .dataframe tbody tr th:only-of-type {\n",
       "        vertical-align: middle;\n",
       "    }\n",
       "\n",
       "    .dataframe tbody tr th {\n",
       "        vertical-align: top;\n",
       "    }\n",
       "\n",
       "    .dataframe thead th {\n",
       "        text-align: right;\n",
       "    }\n",
       "</style>\n",
       "<table border=\"1\" class=\"dataframe\">\n",
       "  <thead>\n",
       "    <tr style=\"text-align: right;\">\n",
       "      <th></th>\n",
       "      <th>Date</th>\n",
       "      <th>Open</th>\n",
       "      <th>High</th>\n",
       "      <th>Low</th>\n",
       "      <th>Close</th>\n",
       "      <th>Adj Close</th>\n",
       "      <th>Volume</th>\n",
       "    </tr>\n",
       "  </thead>\n",
       "  <tbody>\n",
       "    <tr>\n",
       "      <th>0</th>\n",
       "      <td>1980-12-12</td>\n",
       "      <td>0.128348</td>\n",
       "      <td>0.128906</td>\n",
       "      <td>0.128348</td>\n",
       "      <td>0.128348</td>\n",
       "      <td>0.100178</td>\n",
       "      <td>469033600</td>\n",
       "    </tr>\n",
       "    <tr>\n",
       "      <th>1</th>\n",
       "      <td>1980-12-15</td>\n",
       "      <td>0.122210</td>\n",
       "      <td>0.122210</td>\n",
       "      <td>0.121652</td>\n",
       "      <td>0.121652</td>\n",
       "      <td>0.094952</td>\n",
       "      <td>175884800</td>\n",
       "    </tr>\n",
       "    <tr>\n",
       "      <th>2</th>\n",
       "      <td>1980-12-16</td>\n",
       "      <td>0.113281</td>\n",
       "      <td>0.113281</td>\n",
       "      <td>0.112723</td>\n",
       "      <td>0.112723</td>\n",
       "      <td>0.087983</td>\n",
       "      <td>105728000</td>\n",
       "    </tr>\n",
       "    <tr>\n",
       "      <th>3</th>\n",
       "      <td>1980-12-17</td>\n",
       "      <td>0.115513</td>\n",
       "      <td>0.116071</td>\n",
       "      <td>0.115513</td>\n",
       "      <td>0.115513</td>\n",
       "      <td>0.090160</td>\n",
       "      <td>86441600</td>\n",
       "    </tr>\n",
       "    <tr>\n",
       "      <th>4</th>\n",
       "      <td>1980-12-18</td>\n",
       "      <td>0.118862</td>\n",
       "      <td>0.119420</td>\n",
       "      <td>0.118862</td>\n",
       "      <td>0.118862</td>\n",
       "      <td>0.092774</td>\n",
       "      <td>73449600</td>\n",
       "    </tr>\n",
       "    <tr>\n",
       "      <th>...</th>\n",
       "      <td>...</td>\n",
       "      <td>...</td>\n",
       "      <td>...</td>\n",
       "      <td>...</td>\n",
       "      <td>...</td>\n",
       "      <td>...</td>\n",
       "      <td>...</td>\n",
       "    </tr>\n",
       "    <tr>\n",
       "      <th>10444</th>\n",
       "      <td>2022-05-16</td>\n",
       "      <td>145.550003</td>\n",
       "      <td>147.520004</td>\n",
       "      <td>144.179993</td>\n",
       "      <td>145.539993</td>\n",
       "      <td>145.539993</td>\n",
       "      <td>86643800</td>\n",
       "    </tr>\n",
       "    <tr>\n",
       "      <th>10445</th>\n",
       "      <td>2022-05-17</td>\n",
       "      <td>148.860001</td>\n",
       "      <td>149.770004</td>\n",
       "      <td>146.679993</td>\n",
       "      <td>149.240005</td>\n",
       "      <td>149.240005</td>\n",
       "      <td>78336300</td>\n",
       "    </tr>\n",
       "    <tr>\n",
       "      <th>10446</th>\n",
       "      <td>2022-05-18</td>\n",
       "      <td>146.850006</td>\n",
       "      <td>147.360001</td>\n",
       "      <td>139.899994</td>\n",
       "      <td>140.820007</td>\n",
       "      <td>140.820007</td>\n",
       "      <td>109742900</td>\n",
       "    </tr>\n",
       "    <tr>\n",
       "      <th>10447</th>\n",
       "      <td>2022-05-19</td>\n",
       "      <td>139.880005</td>\n",
       "      <td>141.660004</td>\n",
       "      <td>136.600006</td>\n",
       "      <td>137.350006</td>\n",
       "      <td>137.350006</td>\n",
       "      <td>136095600</td>\n",
       "    </tr>\n",
       "    <tr>\n",
       "      <th>10448</th>\n",
       "      <td>2022-05-20</td>\n",
       "      <td>139.089996</td>\n",
       "      <td>140.699997</td>\n",
       "      <td>132.610001</td>\n",
       "      <td>137.589996</td>\n",
       "      <td>137.589996</td>\n",
       "      <td>137194600</td>\n",
       "    </tr>\n",
       "  </tbody>\n",
       "</table>\n",
       "<p>10449 rows × 7 columns</p>\n",
       "</div>"
      ],
      "text/plain": [
       "             Date        Open        High         Low       Close   Adj Close  \\\n",
       "0      1980-12-12    0.128348    0.128906    0.128348    0.128348    0.100178   \n",
       "1      1980-12-15    0.122210    0.122210    0.121652    0.121652    0.094952   \n",
       "2      1980-12-16    0.113281    0.113281    0.112723    0.112723    0.087983   \n",
       "3      1980-12-17    0.115513    0.116071    0.115513    0.115513    0.090160   \n",
       "4      1980-12-18    0.118862    0.119420    0.118862    0.118862    0.092774   \n",
       "...           ...         ...         ...         ...         ...         ...   \n",
       "10444  2022-05-16  145.550003  147.520004  144.179993  145.539993  145.539993   \n",
       "10445  2022-05-17  148.860001  149.770004  146.679993  149.240005  149.240005   \n",
       "10446  2022-05-18  146.850006  147.360001  139.899994  140.820007  140.820007   \n",
       "10447  2022-05-19  139.880005  141.660004  136.600006  137.350006  137.350006   \n",
       "10448  2022-05-20  139.089996  140.699997  132.610001  137.589996  137.589996   \n",
       "\n",
       "          Volume  \n",
       "0      469033600  \n",
       "1      175884800  \n",
       "2      105728000  \n",
       "3       86441600  \n",
       "4       73449600  \n",
       "...          ...  \n",
       "10444   86643800  \n",
       "10445   78336300  \n",
       "10446  109742900  \n",
       "10447  136095600  \n",
       "10448  137194600  \n",
       "\n",
       "[10449 rows x 7 columns]"
      ]
     },
     "execution_count": 4,
     "metadata": {},
     "output_type": "execute_result"
    }
   ],
   "source": [
    "Apple_stocks"
   ]
  },
  {
   "cell_type": "code",
   "execution_count": 5,
   "metadata": {},
   "outputs": [
    {
     "data": {
      "text/plain": [
       "(10449, 7)"
      ]
     },
     "execution_count": 5,
     "metadata": {},
     "output_type": "execute_result"
    }
   ],
   "source": [
    "Apple_stocks.shape"
   ]
  },
  {
   "cell_type": "code",
   "execution_count": 6,
   "metadata": {},
   "outputs": [
    {
     "data": {
      "text/plain": [
       "Date          object\n",
       "Open         float64\n",
       "High         float64\n",
       "Low          float64\n",
       "Close        float64\n",
       "Adj Close    float64\n",
       "Volume         int64\n",
       "dtype: object"
      ]
     },
     "execution_count": 6,
     "metadata": {},
     "output_type": "execute_result"
    }
   ],
   "source": [
    "Apple_stocks.dtypes"
   ]
  },
  {
   "cell_type": "code",
   "execution_count": 7,
   "metadata": {
    "scrolled": true
   },
   "outputs": [
    {
     "data": {
      "text/html": [
       "<div>\n",
       "<style scoped>\n",
       "    .dataframe tbody tr th:only-of-type {\n",
       "        vertical-align: middle;\n",
       "    }\n",
       "\n",
       "    .dataframe tbody tr th {\n",
       "        vertical-align: top;\n",
       "    }\n",
       "\n",
       "    .dataframe thead th {\n",
       "        text-align: right;\n",
       "    }\n",
       "</style>\n",
       "<table border=\"1\" class=\"dataframe\">\n",
       "  <thead>\n",
       "    <tr style=\"text-align: right;\">\n",
       "      <th></th>\n",
       "      <th>Open</th>\n",
       "      <th>High</th>\n",
       "      <th>Low</th>\n",
       "      <th>Close</th>\n",
       "      <th>Adj Close</th>\n",
       "      <th>Volume</th>\n",
       "    </tr>\n",
       "  </thead>\n",
       "  <tbody>\n",
       "    <tr>\n",
       "      <th>count</th>\n",
       "      <td>10449.000000</td>\n",
       "      <td>10449.000000</td>\n",
       "      <td>10449.000000</td>\n",
       "      <td>10449.000000</td>\n",
       "      <td>10449.000000</td>\n",
       "      <td>1.044900e+04</td>\n",
       "    </tr>\n",
       "    <tr>\n",
       "      <th>mean</th>\n",
       "      <td>14.528026</td>\n",
       "      <td>14.687285</td>\n",
       "      <td>14.367262</td>\n",
       "      <td>14.532380</td>\n",
       "      <td>13.898127</td>\n",
       "      <td>3.312849e+08</td>\n",
       "    </tr>\n",
       "    <tr>\n",
       "      <th>std</th>\n",
       "      <td>31.482584</td>\n",
       "      <td>31.846280</td>\n",
       "      <td>31.117675</td>\n",
       "      <td>31.493225</td>\n",
       "      <td>31.191671</td>\n",
       "      <td>3.389943e+08</td>\n",
       "    </tr>\n",
       "    <tr>\n",
       "      <th>min</th>\n",
       "      <td>0.049665</td>\n",
       "      <td>0.049665</td>\n",
       "      <td>0.049107</td>\n",
       "      <td>0.049107</td>\n",
       "      <td>0.038329</td>\n",
       "      <td>0.000000e+00</td>\n",
       "    </tr>\n",
       "    <tr>\n",
       "      <th>25%</th>\n",
       "      <td>0.283482</td>\n",
       "      <td>0.289063</td>\n",
       "      <td>0.275893</td>\n",
       "      <td>0.282924</td>\n",
       "      <td>0.235283</td>\n",
       "      <td>1.240512e+08</td>\n",
       "    </tr>\n",
       "    <tr>\n",
       "      <th>50%</th>\n",
       "      <td>0.473214</td>\n",
       "      <td>0.482143</td>\n",
       "      <td>0.464286</td>\n",
       "      <td>0.473214</td>\n",
       "      <td>0.389613</td>\n",
       "      <td>2.187472e+08</td>\n",
       "    </tr>\n",
       "    <tr>\n",
       "      <th>75%</th>\n",
       "      <td>14.531786</td>\n",
       "      <td>14.618929</td>\n",
       "      <td>14.341429</td>\n",
       "      <td>14.504643</td>\n",
       "      <td>12.556103</td>\n",
       "      <td>4.114992e+08</td>\n",
       "    </tr>\n",
       "    <tr>\n",
       "      <th>max</th>\n",
       "      <td>182.630005</td>\n",
       "      <td>182.940002</td>\n",
       "      <td>179.119995</td>\n",
       "      <td>182.009995</td>\n",
       "      <td>181.511703</td>\n",
       "      <td>7.421641e+09</td>\n",
       "    </tr>\n",
       "  </tbody>\n",
       "</table>\n",
       "</div>"
      ],
      "text/plain": [
       "               Open          High           Low         Close     Adj Close  \\\n",
       "count  10449.000000  10449.000000  10449.000000  10449.000000  10449.000000   \n",
       "mean      14.528026     14.687285     14.367262     14.532380     13.898127   \n",
       "std       31.482584     31.846280     31.117675     31.493225     31.191671   \n",
       "min        0.049665      0.049665      0.049107      0.049107      0.038329   \n",
       "25%        0.283482      0.289063      0.275893      0.282924      0.235283   \n",
       "50%        0.473214      0.482143      0.464286      0.473214      0.389613   \n",
       "75%       14.531786     14.618929     14.341429     14.504643     12.556103   \n",
       "max      182.630005    182.940002    179.119995    182.009995    181.511703   \n",
       "\n",
       "             Volume  \n",
       "count  1.044900e+04  \n",
       "mean   3.312849e+08  \n",
       "std    3.389943e+08  \n",
       "min    0.000000e+00  \n",
       "25%    1.240512e+08  \n",
       "50%    2.187472e+08  \n",
       "75%    4.114992e+08  \n",
       "max    7.421641e+09  "
      ]
     },
     "execution_count": 7,
     "metadata": {},
     "output_type": "execute_result"
    }
   ],
   "source": [
    "Apple_stocks.describe()"
   ]
  },
  {
   "cell_type": "markdown",
   "metadata": {},
   "source": [
    "## Dataset 2: Samsung_stocks"
   ]
  },
  {
   "cell_type": "code",
   "execution_count": 8,
   "metadata": {},
   "outputs": [],
   "source": [
    "Samsung_stocks=pd.read_csv(\"Samsung.csv\")"
   ]
  },
  {
   "cell_type": "code",
   "execution_count": 9,
   "metadata": {},
   "outputs": [
    {
     "data": {
      "text/plain": [
       "(5621, 7)"
      ]
     },
     "execution_count": 9,
     "metadata": {},
     "output_type": "execute_result"
    }
   ],
   "source": [
    "Samsung_stocks.shape"
   ]
  },
  {
   "cell_type": "code",
   "execution_count": 10,
   "metadata": {
    "scrolled": true
   },
   "outputs": [
    {
     "data": {
      "text/plain": [
       "Date          object\n",
       "Open         float64\n",
       "High         float64\n",
       "Low          float64\n",
       "Close        float64\n",
       "Adj Close    float64\n",
       "Volume         int64\n",
       "dtype: object"
      ]
     },
     "execution_count": 10,
     "metadata": {},
     "output_type": "execute_result"
    }
   ],
   "source": [
    "Samsung_stocks.dtypes"
   ]
  },
  {
   "cell_type": "code",
   "execution_count": 11,
   "metadata": {
    "scrolled": true
   },
   "outputs": [
    {
     "data": {
      "text/html": [
       "<div>\n",
       "<style scoped>\n",
       "    .dataframe tbody tr th:only-of-type {\n",
       "        vertical-align: middle;\n",
       "    }\n",
       "\n",
       "    .dataframe tbody tr th {\n",
       "        vertical-align: top;\n",
       "    }\n",
       "\n",
       "    .dataframe thead th {\n",
       "        text-align: right;\n",
       "    }\n",
       "</style>\n",
       "<table border=\"1\" class=\"dataframe\">\n",
       "  <thead>\n",
       "    <tr style=\"text-align: right;\">\n",
       "      <th></th>\n",
       "      <th>Open</th>\n",
       "      <th>High</th>\n",
       "      <th>Low</th>\n",
       "      <th>Close</th>\n",
       "      <th>Adj Close</th>\n",
       "      <th>Volume</th>\n",
       "    </tr>\n",
       "  </thead>\n",
       "  <tbody>\n",
       "    <tr>\n",
       "      <th>count</th>\n",
       "      <td>5621.000000</td>\n",
       "      <td>5621.000000</td>\n",
       "      <td>5621.000000</td>\n",
       "      <td>5621.000000</td>\n",
       "      <td>5621.000000</td>\n",
       "      <td>5.621000e+03</td>\n",
       "    </tr>\n",
       "    <tr>\n",
       "      <th>mean</th>\n",
       "      <td>24884.228785</td>\n",
       "      <td>25135.306885</td>\n",
       "      <td>24627.612524</td>\n",
       "      <td>24879.640633</td>\n",
       "      <td>21729.421164</td>\n",
       "      <td>2.176271e+07</td>\n",
       "    </tr>\n",
       "    <tr>\n",
       "      <th>std</th>\n",
       "      <td>20108.258909</td>\n",
       "      <td>20274.093474</td>\n",
       "      <td>19934.697294</td>\n",
       "      <td>20094.098853</td>\n",
       "      <td>19740.261271</td>\n",
       "      <td>1.545201e+07</td>\n",
       "    </tr>\n",
       "    <tr>\n",
       "      <th>min</th>\n",
       "      <td>2540.000000</td>\n",
       "      <td>2760.000000</td>\n",
       "      <td>2420.000000</td>\n",
       "      <td>2730.000000</td>\n",
       "      <td>2078.436279</td>\n",
       "      <td>0.000000e+00</td>\n",
       "    </tr>\n",
       "    <tr>\n",
       "      <th>25%</th>\n",
       "      <td>10160.000000</td>\n",
       "      <td>10320.000000</td>\n",
       "      <td>10020.000000</td>\n",
       "      <td>10160.000000</td>\n",
       "      <td>7780.813477</td>\n",
       "      <td>1.179815e+07</td>\n",
       "    </tr>\n",
       "    <tr>\n",
       "      <th>50%</th>\n",
       "      <td>16580.000000</td>\n",
       "      <td>16800.000000</td>\n",
       "      <td>16420.000000</td>\n",
       "      <td>16600.000000</td>\n",
       "      <td>13287.424805</td>\n",
       "      <td>1.774055e+07</td>\n",
       "    </tr>\n",
       "    <tr>\n",
       "      <th>75%</th>\n",
       "      <td>31320.000000</td>\n",
       "      <td>31600.000000</td>\n",
       "      <td>30940.000000</td>\n",
       "      <td>31340.000000</td>\n",
       "      <td>26643.304688</td>\n",
       "      <td>2.722500e+07</td>\n",
       "    </tr>\n",
       "    <tr>\n",
       "      <th>max</th>\n",
       "      <td>90300.000000</td>\n",
       "      <td>96800.000000</td>\n",
       "      <td>89500.000000</td>\n",
       "      <td>91000.000000</td>\n",
       "      <td>88908.179688</td>\n",
       "      <td>1.642150e+08</td>\n",
       "    </tr>\n",
       "  </tbody>\n",
       "</table>\n",
       "</div>"
      ],
      "text/plain": [
       "               Open          High           Low         Close     Adj Close  \\\n",
       "count   5621.000000   5621.000000   5621.000000   5621.000000   5621.000000   \n",
       "mean   24884.228785  25135.306885  24627.612524  24879.640633  21729.421164   \n",
       "std    20108.258909  20274.093474  19934.697294  20094.098853  19740.261271   \n",
       "min     2540.000000   2760.000000   2420.000000   2730.000000   2078.436279   \n",
       "25%    10160.000000  10320.000000  10020.000000  10160.000000   7780.813477   \n",
       "50%    16580.000000  16800.000000  16420.000000  16600.000000  13287.424805   \n",
       "75%    31320.000000  31600.000000  30940.000000  31340.000000  26643.304688   \n",
       "max    90300.000000  96800.000000  89500.000000  91000.000000  88908.179688   \n",
       "\n",
       "             Volume  \n",
       "count  5.621000e+03  \n",
       "mean   2.176271e+07  \n",
       "std    1.545201e+07  \n",
       "min    0.000000e+00  \n",
       "25%    1.179815e+07  \n",
       "50%    1.774055e+07  \n",
       "75%    2.722500e+07  \n",
       "max    1.642150e+08  "
      ]
     },
     "execution_count": 11,
     "metadata": {},
     "output_type": "execute_result"
    }
   ],
   "source": [
    "Samsung_stocks.describe()"
   ]
  },
  {
   "cell_type": "markdown",
   "metadata": {},
   "source": [
    "#### Datasets 1 and 2:\n",
    "- Variables used from this dataset will be the timeframe of the stocks and their trends. We will analyze how successful Samsung and Apple Stocks were over the timeframe we are looking into. \n",
    "- We also plan on comparing the two stocks to see which company is better investing in, however we plan on cross-referencing these with the employment datasets.\n",
    "- For both data sets, data wrangling may involve handling missing values, converting date formats, and ensuring consistency within the stock prices. \n",
    "- Additionally, we are also checking for outliers and normalizing numerical values. \n"
   ]
  },
  {
   "cell_type": "markdown",
   "metadata": {},
   "source": [
    "## Dataset 3: Compilation of Employment Metrics at Apple and Samsung"
   ]
  },
  {
   "cell_type": "markdown",
   "metadata": {},
   "source": [
    "- Here, our group has created our own dataset consisting of emloyment data from both companies, essentially combining dataset 3 and 4. \n",
    "- For the Apple employment dataset, our key variables will be employee roles, salaries, and tenure. Important metrics can encompass average income, turnover rates, and the current year headcount. We will also include any trends over the timeframe we are researching. We are also going to look at missing data, standardizing job titles/descriptions, and calculating any additional variables like employment satisfaction and layoffs. \n",
    "- For the Samsung employment dataset, our key variables will be employee roles, employment locations, and performance ratings. Important metrics can encompass workforce diversity (due to Samsung being a global company), regional distribution, and productivity indicators. We are also going to look at missing data, regional disparities, and deal with any outliers in performance ratings and/or layoffs. \n",
    "- The dataset required standardizing date formats, duplicate entries, and ensuring consistency in defining variables across the interested timeframe, from 2012 to 2022.\n",
    "- Nuances we looked for in the employment datasets involved variations in job titles and descriptions across different years. These changes in reporting standards or data collection methods, can cause discrepancies in how certain metrics are calculated. For example specific job titles like \"Software Engineer\" might be represented differently over time.\n",
    "- Additionally, fluctuations in economic conditions or industry trends could impact hiring patterns or salary structures. Addressing these nuances during data wrangling is important to ensure we are doing accurate and consistent analyses. Regular updates to roles or policies within each company might also introduce complexities that need careful consideration. Understanding and handling these nuances contribute to the reliability of our analysis. "
   ]
  },
  {
   "cell_type": "code",
   "execution_count": 12,
   "metadata": {},
   "outputs": [
    {
     "data": {
      "text/html": [
       "<div>\n",
       "<style scoped>\n",
       "    .dataframe tbody tr th:only-of-type {\n",
       "        vertical-align: middle;\n",
       "    }\n",
       "\n",
       "    .dataframe tbody tr th {\n",
       "        vertical-align: top;\n",
       "    }\n",
       "\n",
       "    .dataframe thead th {\n",
       "        text-align: right;\n",
       "    }\n",
       "</style>\n",
       "<table border=\"1\" class=\"dataframe\">\n",
       "  <thead>\n",
       "    <tr style=\"text-align: right;\">\n",
       "      <th></th>\n",
       "      <th>Apple_Year</th>\n",
       "      <th>Apple_Employees</th>\n",
       "    </tr>\n",
       "  </thead>\n",
       "  <tbody>\n",
       "    <tr>\n",
       "      <th>0</th>\n",
       "      <td>2009</td>\n",
       "      <td>34300</td>\n",
       "    </tr>\n",
       "    <tr>\n",
       "      <th>1</th>\n",
       "      <td>2010</td>\n",
       "      <td>46600</td>\n",
       "    </tr>\n",
       "    <tr>\n",
       "      <th>2</th>\n",
       "      <td>2011</td>\n",
       "      <td>60400</td>\n",
       "    </tr>\n",
       "    <tr>\n",
       "      <th>3</th>\n",
       "      <td>2012</td>\n",
       "      <td>72800</td>\n",
       "    </tr>\n",
       "    <tr>\n",
       "      <th>4</th>\n",
       "      <td>2013</td>\n",
       "      <td>80300</td>\n",
       "    </tr>\n",
       "    <tr>\n",
       "      <th>5</th>\n",
       "      <td>2014</td>\n",
       "      <td>92600</td>\n",
       "    </tr>\n",
       "    <tr>\n",
       "      <th>6</th>\n",
       "      <td>2015</td>\n",
       "      <td>110000</td>\n",
       "    </tr>\n",
       "    <tr>\n",
       "      <th>7</th>\n",
       "      <td>2016</td>\n",
       "      <td>116000</td>\n",
       "    </tr>\n",
       "    <tr>\n",
       "      <th>8</th>\n",
       "      <td>2017</td>\n",
       "      <td>123000</td>\n",
       "    </tr>\n",
       "    <tr>\n",
       "      <th>9</th>\n",
       "      <td>2018</td>\n",
       "      <td>132000</td>\n",
       "    </tr>\n",
       "    <tr>\n",
       "      <th>10</th>\n",
       "      <td>2019</td>\n",
       "      <td>137000</td>\n",
       "    </tr>\n",
       "    <tr>\n",
       "      <th>11</th>\n",
       "      <td>2020</td>\n",
       "      <td>147000</td>\n",
       "    </tr>\n",
       "    <tr>\n",
       "      <th>12</th>\n",
       "      <td>2021</td>\n",
       "      <td>154000</td>\n",
       "    </tr>\n",
       "    <tr>\n",
       "      <th>13</th>\n",
       "      <td>2022</td>\n",
       "      <td>164000</td>\n",
       "    </tr>\n",
       "    <tr>\n",
       "      <th>14</th>\n",
       "      <td>2023</td>\n",
       "      <td>161000</td>\n",
       "    </tr>\n",
       "  </tbody>\n",
       "</table>\n",
       "</div>"
      ],
      "text/plain": [
       "    Apple_Year  Apple_Employees\n",
       "0         2009            34300\n",
       "1         2010            46600\n",
       "2         2011            60400\n",
       "3         2012            72800\n",
       "4         2013            80300\n",
       "5         2014            92600\n",
       "6         2015           110000\n",
       "7         2016           116000\n",
       "8         2017           123000\n",
       "9         2018           132000\n",
       "10        2019           137000\n",
       "11        2020           147000\n",
       "12        2021           154000\n",
       "13        2022           164000\n",
       "14        2023           161000"
      ]
     },
     "execution_count": 12,
     "metadata": {},
     "output_type": "execute_result"
    }
   ],
   "source": [
    "Apple_Employment=pd.read_csv(\"aapl-employees.csv\").drop(15).sort_values(by='Apple_Year', ascending=True).reset_index().drop('index', axis=1)\n",
    "Apple_Employment"
   ]
  },
  {
   "cell_type": "code",
   "execution_count": 13,
   "metadata": {
    "scrolled": false
   },
   "outputs": [
    {
     "data": {
      "text/html": [
       "<div>\n",
       "<style scoped>\n",
       "    .dataframe tbody tr th:only-of-type {\n",
       "        vertical-align: middle;\n",
       "    }\n",
       "\n",
       "    .dataframe tbody tr th {\n",
       "        vertical-align: top;\n",
       "    }\n",
       "\n",
       "    .dataframe thead th {\n",
       "        text-align: right;\n",
       "    }\n",
       "</style>\n",
       "<table border=\"1\" class=\"dataframe\">\n",
       "  <thead>\n",
       "    <tr style=\"text-align: right;\">\n",
       "      <th></th>\n",
       "      <th>Samsung_Year</th>\n",
       "      <th>Samsung_Employees</th>\n",
       "    </tr>\n",
       "  </thead>\n",
       "  <tbody>\n",
       "    <tr>\n",
       "      <th>0</th>\n",
       "      <td>2009</td>\n",
       "      <td>157700</td>\n",
       "    </tr>\n",
       "    <tr>\n",
       "      <th>1</th>\n",
       "      <td>2010</td>\n",
       "      <td>190460</td>\n",
       "    </tr>\n",
       "    <tr>\n",
       "      <th>2</th>\n",
       "      <td>2011</td>\n",
       "      <td>221730</td>\n",
       "    </tr>\n",
       "    <tr>\n",
       "      <th>3</th>\n",
       "      <td>2012</td>\n",
       "      <td>235870</td>\n",
       "    </tr>\n",
       "    <tr>\n",
       "      <th>4</th>\n",
       "      <td>2013</td>\n",
       "      <td>95798</td>\n",
       "    </tr>\n",
       "    <tr>\n",
       "      <th>5</th>\n",
       "      <td>2014</td>\n",
       "      <td>319210</td>\n",
       "    </tr>\n",
       "    <tr>\n",
       "      <th>6</th>\n",
       "      <td>2015</td>\n",
       "      <td>325680</td>\n",
       "    </tr>\n",
       "    <tr>\n",
       "      <th>7</th>\n",
       "      <td>2016</td>\n",
       "      <td>308750</td>\n",
       "    </tr>\n",
       "    <tr>\n",
       "      <th>8</th>\n",
       "      <td>2017</td>\n",
       "      <td>320670</td>\n",
       "    </tr>\n",
       "    <tr>\n",
       "      <th>9</th>\n",
       "      <td>2018</td>\n",
       "      <td>309630</td>\n",
       "    </tr>\n",
       "    <tr>\n",
       "      <th>10</th>\n",
       "      <td>2019</td>\n",
       "      <td>278000</td>\n",
       "    </tr>\n",
       "    <tr>\n",
       "      <th>11</th>\n",
       "      <td>2020</td>\n",
       "      <td>267937</td>\n",
       "    </tr>\n",
       "    <tr>\n",
       "      <th>12</th>\n",
       "      <td>2021</td>\n",
       "      <td>266673</td>\n",
       "    </tr>\n",
       "    <tr>\n",
       "      <th>13</th>\n",
       "      <td>2022</td>\n",
       "      <td>113604</td>\n",
       "    </tr>\n",
       "    <tr>\n",
       "      <th>14</th>\n",
       "      <td>2023</td>\n",
       "      <td>113604</td>\n",
       "    </tr>\n",
       "  </tbody>\n",
       "</table>\n",
       "</div>"
      ],
      "text/plain": [
       "    Samsung_Year  Samsung_Employees\n",
       "0           2009             157700\n",
       "1           2010             190460\n",
       "2           2011             221730\n",
       "3           2012             235870\n",
       "4           2013              95798\n",
       "5           2014             319210\n",
       "6           2015             325680\n",
       "7           2016             308750\n",
       "8           2017             320670\n",
       "9           2018             309630\n",
       "10          2019             278000\n",
       "11          2020             267937\n",
       "12          2021             266673\n",
       "13          2022             113604\n",
       "14          2023             113604"
      ]
     },
     "execution_count": 13,
     "metadata": {},
     "output_type": "execute_result"
    }
   ],
   "source": [
    "Samsung_Employment=pd.read_csv('samsung_employees.csv')\n",
    "Samsung_Employment"
   ]
  },
  {
   "cell_type": "markdown",
   "metadata": {},
   "source": [
    "In the cell below, we merged the two data sets and combined the 'Samsung_Year' and 'Apple_Year' columns to create a singlular dataset we can work with."
   ]
  },
  {
   "cell_type": "code",
   "execution_count": 14,
   "metadata": {
    "scrolled": false
   },
   "outputs": [
    {
     "data": {
      "text/html": [
       "<div>\n",
       "<style scoped>\n",
       "    .dataframe tbody tr th:only-of-type {\n",
       "        vertical-align: middle;\n",
       "    }\n",
       "\n",
       "    .dataframe tbody tr th {\n",
       "        vertical-align: top;\n",
       "    }\n",
       "\n",
       "    .dataframe thead th {\n",
       "        text-align: right;\n",
       "    }\n",
       "</style>\n",
       "<table border=\"1\" class=\"dataframe\">\n",
       "  <thead>\n",
       "    <tr style=\"text-align: right;\">\n",
       "      <th></th>\n",
       "      <th>Years</th>\n",
       "      <th>Apple_Employees</th>\n",
       "      <th>Samsung_Employees</th>\n",
       "    </tr>\n",
       "  </thead>\n",
       "  <tbody>\n",
       "    <tr>\n",
       "      <th>0</th>\n",
       "      <td>2009</td>\n",
       "      <td>34300</td>\n",
       "      <td>157700</td>\n",
       "    </tr>\n",
       "    <tr>\n",
       "      <th>1</th>\n",
       "      <td>2010</td>\n",
       "      <td>46600</td>\n",
       "      <td>190460</td>\n",
       "    </tr>\n",
       "    <tr>\n",
       "      <th>2</th>\n",
       "      <td>2011</td>\n",
       "      <td>60400</td>\n",
       "      <td>221730</td>\n",
       "    </tr>\n",
       "    <tr>\n",
       "      <th>3</th>\n",
       "      <td>2012</td>\n",
       "      <td>72800</td>\n",
       "      <td>235870</td>\n",
       "    </tr>\n",
       "    <tr>\n",
       "      <th>4</th>\n",
       "      <td>2013</td>\n",
       "      <td>80300</td>\n",
       "      <td>95798</td>\n",
       "    </tr>\n",
       "    <tr>\n",
       "      <th>5</th>\n",
       "      <td>2014</td>\n",
       "      <td>92600</td>\n",
       "      <td>319210</td>\n",
       "    </tr>\n",
       "    <tr>\n",
       "      <th>6</th>\n",
       "      <td>2015</td>\n",
       "      <td>110000</td>\n",
       "      <td>325680</td>\n",
       "    </tr>\n",
       "    <tr>\n",
       "      <th>7</th>\n",
       "      <td>2016</td>\n",
       "      <td>116000</td>\n",
       "      <td>308750</td>\n",
       "    </tr>\n",
       "    <tr>\n",
       "      <th>8</th>\n",
       "      <td>2017</td>\n",
       "      <td>123000</td>\n",
       "      <td>320670</td>\n",
       "    </tr>\n",
       "    <tr>\n",
       "      <th>9</th>\n",
       "      <td>2018</td>\n",
       "      <td>132000</td>\n",
       "      <td>309630</td>\n",
       "    </tr>\n",
       "    <tr>\n",
       "      <th>10</th>\n",
       "      <td>2019</td>\n",
       "      <td>137000</td>\n",
       "      <td>278000</td>\n",
       "    </tr>\n",
       "    <tr>\n",
       "      <th>11</th>\n",
       "      <td>2020</td>\n",
       "      <td>147000</td>\n",
       "      <td>267937</td>\n",
       "    </tr>\n",
       "    <tr>\n",
       "      <th>12</th>\n",
       "      <td>2021</td>\n",
       "      <td>154000</td>\n",
       "      <td>266673</td>\n",
       "    </tr>\n",
       "    <tr>\n",
       "      <th>13</th>\n",
       "      <td>2022</td>\n",
       "      <td>164000</td>\n",
       "      <td>113604</td>\n",
       "    </tr>\n",
       "    <tr>\n",
       "      <th>14</th>\n",
       "      <td>2023</td>\n",
       "      <td>161000</td>\n",
       "      <td>113604</td>\n",
       "    </tr>\n",
       "  </tbody>\n",
       "</table>\n",
       "</div>"
      ],
      "text/plain": [
       "    Years  Apple_Employees  Samsung_Employees\n",
       "0    2009            34300             157700\n",
       "1    2010            46600             190460\n",
       "2    2011            60400             221730\n",
       "3    2012            72800             235870\n",
       "4    2013            80300              95798\n",
       "5    2014            92600             319210\n",
       "6    2015           110000             325680\n",
       "7    2016           116000             308750\n",
       "8    2017           123000             320670\n",
       "9    2018           132000             309630\n",
       "10   2019           137000             278000\n",
       "11   2020           147000             267937\n",
       "12   2021           154000             266673\n",
       "13   2022           164000             113604\n",
       "14   2023           161000             113604"
      ]
     },
     "execution_count": 14,
     "metadata": {},
     "output_type": "execute_result"
    }
   ],
   "source": [
    "employment = pd.merge(Apple_Employment, Samsung_Employment, how='inner', left_index=True, right_index=True)\n",
    "employment=employment.drop('Samsung_Year', axis=1)\n",
    "employment=employment.rename(columns={'Apple_Year':'Years'})\n",
    "employment"
   ]
  },
  {
   "cell_type": "code",
   "execution_count": 15,
   "metadata": {},
   "outputs": [
    {
     "data": {
      "text/plain": [
       "(15, 3)"
      ]
     },
     "execution_count": 15,
     "metadata": {},
     "output_type": "execute_result"
    }
   ],
   "source": [
    "employment.shape"
   ]
  },
  {
   "cell_type": "code",
   "execution_count": 16,
   "metadata": {
    "scrolled": true
   },
   "outputs": [
    {
     "data": {
      "text/plain": [
       "Years                int64\n",
       "Apple_Employees      int64\n",
       "Samsung_Employees    int64\n",
       "dtype: object"
      ]
     },
     "execution_count": 16,
     "metadata": {},
     "output_type": "execute_result"
    }
   ],
   "source": [
    "employment.dtypes"
   ]
  },
  {
   "cell_type": "code",
   "execution_count": 17,
   "metadata": {
    "scrolled": true
   },
   "outputs": [
    {
     "data": {
      "text/html": [
       "<div>\n",
       "<style scoped>\n",
       "    .dataframe tbody tr th:only-of-type {\n",
       "        vertical-align: middle;\n",
       "    }\n",
       "\n",
       "    .dataframe tbody tr th {\n",
       "        vertical-align: top;\n",
       "    }\n",
       "\n",
       "    .dataframe thead th {\n",
       "        text-align: right;\n",
       "    }\n",
       "</style>\n",
       "<table border=\"1\" class=\"dataframe\">\n",
       "  <thead>\n",
       "    <tr style=\"text-align: right;\">\n",
       "      <th></th>\n",
       "      <th>Years</th>\n",
       "      <th>Apple_Employees</th>\n",
       "      <th>Samsung_Employees</th>\n",
       "    </tr>\n",
       "  </thead>\n",
       "  <tbody>\n",
       "    <tr>\n",
       "      <th>count</th>\n",
       "      <td>15.000000</td>\n",
       "      <td>15.000000</td>\n",
       "      <td>15.000000</td>\n",
       "    </tr>\n",
       "    <tr>\n",
       "      <th>mean</th>\n",
       "      <td>2016.000000</td>\n",
       "      <td>108733.333333</td>\n",
       "      <td>235021.066667</td>\n",
       "    </tr>\n",
       "    <tr>\n",
       "      <th>std</th>\n",
       "      <td>4.472136</td>\n",
       "      <td>42253.345880</td>\n",
       "      <td>82195.923985</td>\n",
       "    </tr>\n",
       "    <tr>\n",
       "      <th>min</th>\n",
       "      <td>2009.000000</td>\n",
       "      <td>34300.000000</td>\n",
       "      <td>95798.000000</td>\n",
       "    </tr>\n",
       "    <tr>\n",
       "      <th>25%</th>\n",
       "      <td>2012.500000</td>\n",
       "      <td>76550.000000</td>\n",
       "      <td>174080.000000</td>\n",
       "    </tr>\n",
       "    <tr>\n",
       "      <th>50%</th>\n",
       "      <td>2016.000000</td>\n",
       "      <td>116000.000000</td>\n",
       "      <td>266673.000000</td>\n",
       "    </tr>\n",
       "    <tr>\n",
       "      <th>75%</th>\n",
       "      <td>2019.500000</td>\n",
       "      <td>142000.000000</td>\n",
       "      <td>309190.000000</td>\n",
       "    </tr>\n",
       "    <tr>\n",
       "      <th>max</th>\n",
       "      <td>2023.000000</td>\n",
       "      <td>164000.000000</td>\n",
       "      <td>325680.000000</td>\n",
       "    </tr>\n",
       "  </tbody>\n",
       "</table>\n",
       "</div>"
      ],
      "text/plain": [
       "             Years  Apple_Employees  Samsung_Employees\n",
       "count    15.000000        15.000000          15.000000\n",
       "mean   2016.000000    108733.333333      235021.066667\n",
       "std       4.472136     42253.345880       82195.923985\n",
       "min    2009.000000     34300.000000       95798.000000\n",
       "25%    2012.500000     76550.000000      174080.000000\n",
       "50%    2016.000000    116000.000000      266673.000000\n",
       "75%    2019.500000    142000.000000      309190.000000\n",
       "max    2023.000000    164000.000000      325680.000000"
      ]
     },
     "execution_count": 17,
     "metadata": {},
     "output_type": "execute_result"
    }
   ],
   "source": [
    "employment.describe()"
   ]
  },
  {
   "cell_type": "markdown",
   "metadata": {},
   "source": [
    "# Results\n",
    "\n",
    "## Exploratory Data Analysis\n",
    "\n",
    "Carry out whatever EDA you need to for your project.  Because every project will be different we can't really give you much of a template at this point. But please make sure you describe the what and why in text here as well as providing interpretation of results and context."
   ]
  },
  {
   "cell_type": "markdown",
   "metadata": {},
   "source": [
    "### Imports"
   ]
  },
  {
   "cell_type": "code",
   "execution_count": 18,
   "metadata": {},
   "outputs": [],
   "source": [
    "import statistics\n",
    "import numpy as np\n",
    "import pandas as pd\n",
    "import seaborn as sns\n",
    "import matplotlib.pyplot as plt\n",
    "import scipy.stats as stats\n",
    "from scipy.stats import ttest_ind, chisquare, normaltest\n",
    "import warnings\n",
    "warnings.filterwarnings(\"ignore\")"
   ]
  },
  {
   "cell_type": "code",
   "execution_count": 19,
   "metadata": {},
   "outputs": [],
   "source": [
    "#This cell is to ensure consistent styling for our visualizations\n",
    "sns.set(font_scale=1.5, style=\"white\")"
   ]
  },
  {
   "cell_type": "markdown",
   "metadata": {},
   "source": [
    "### Section 1 of EDA: Apple Stock Dataset"
   ]
  },
  {
   "cell_type": "code",
   "execution_count": 20,
   "metadata": {
    "scrolled": true
   },
   "outputs": [
    {
     "data": {
      "text/html": [
       "<div>\n",
       "<style scoped>\n",
       "    .dataframe tbody tr th:only-of-type {\n",
       "        vertical-align: middle;\n",
       "    }\n",
       "\n",
       "    .dataframe tbody tr th {\n",
       "        vertical-align: top;\n",
       "    }\n",
       "\n",
       "    .dataframe thead th {\n",
       "        text-align: right;\n",
       "    }\n",
       "</style>\n",
       "<table border=\"1\" class=\"dataframe\">\n",
       "  <thead>\n",
       "    <tr style=\"text-align: right;\">\n",
       "      <th></th>\n",
       "      <th>Date</th>\n",
       "      <th>Open</th>\n",
       "      <th>High</th>\n",
       "      <th>Low</th>\n",
       "      <th>Close</th>\n",
       "      <th>Adj Close</th>\n",
       "      <th>Volume</th>\n",
       "    </tr>\n",
       "  </thead>\n",
       "  <tbody>\n",
       "    <tr>\n",
       "      <th>0</th>\n",
       "      <td>1980-12-12</td>\n",
       "      <td>0.128348</td>\n",
       "      <td>0.128906</td>\n",
       "      <td>0.128348</td>\n",
       "      <td>0.128348</td>\n",
       "      <td>0.100178</td>\n",
       "      <td>469033600</td>\n",
       "    </tr>\n",
       "    <tr>\n",
       "      <th>1</th>\n",
       "      <td>1980-12-15</td>\n",
       "      <td>0.122210</td>\n",
       "      <td>0.122210</td>\n",
       "      <td>0.121652</td>\n",
       "      <td>0.121652</td>\n",
       "      <td>0.094952</td>\n",
       "      <td>175884800</td>\n",
       "    </tr>\n",
       "    <tr>\n",
       "      <th>2</th>\n",
       "      <td>1980-12-16</td>\n",
       "      <td>0.113281</td>\n",
       "      <td>0.113281</td>\n",
       "      <td>0.112723</td>\n",
       "      <td>0.112723</td>\n",
       "      <td>0.087983</td>\n",
       "      <td>105728000</td>\n",
       "    </tr>\n",
       "    <tr>\n",
       "      <th>3</th>\n",
       "      <td>1980-12-17</td>\n",
       "      <td>0.115513</td>\n",
       "      <td>0.116071</td>\n",
       "      <td>0.115513</td>\n",
       "      <td>0.115513</td>\n",
       "      <td>0.090160</td>\n",
       "      <td>86441600</td>\n",
       "    </tr>\n",
       "    <tr>\n",
       "      <th>4</th>\n",
       "      <td>1980-12-18</td>\n",
       "      <td>0.118862</td>\n",
       "      <td>0.119420</td>\n",
       "      <td>0.118862</td>\n",
       "      <td>0.118862</td>\n",
       "      <td>0.092774</td>\n",
       "      <td>73449600</td>\n",
       "    </tr>\n",
       "  </tbody>\n",
       "</table>\n",
       "</div>"
      ],
      "text/plain": [
       "         Date      Open      High       Low     Close  Adj Close     Volume\n",
       "0  1980-12-12  0.128348  0.128906  0.128348  0.128348   0.100178  469033600\n",
       "1  1980-12-15  0.122210  0.122210  0.121652  0.121652   0.094952  175884800\n",
       "2  1980-12-16  0.113281  0.113281  0.112723  0.112723   0.087983  105728000\n",
       "3  1980-12-17  0.115513  0.116071  0.115513  0.115513   0.090160   86441600\n",
       "4  1980-12-18  0.118862  0.119420  0.118862  0.118862   0.092774   73449600"
      ]
     },
     "execution_count": 20,
     "metadata": {},
     "output_type": "execute_result"
    }
   ],
   "source": [
    "# This is roughly what the datset looks like (the first 5 rows)\n",
    "Apple_stocks.head()"
   ]
  },
  {
   "cell_type": "markdown",
   "metadata": {},
   "source": [
    "#### Data Cleaning (Filtering)\n",
    "\n",
    "Since we are only looking in to years 2012-2022 for our project, we will now filter using the feature \"Date\". to do so:\n",
    "\n",
    "- extract a year attribute from the \"Date\" column \n",
    "- filter the original df to a new one called Apple_10yr"
   ]
  },
  {
   "cell_type": "code",
   "execution_count": 21,
   "metadata": {},
   "outputs": [
    {
     "data": {
      "text/html": [
       "<div>\n",
       "<style scoped>\n",
       "    .dataframe tbody tr th:only-of-type {\n",
       "        vertical-align: middle;\n",
       "    }\n",
       "\n",
       "    .dataframe tbody tr th {\n",
       "        vertical-align: top;\n",
       "    }\n",
       "\n",
       "    .dataframe thead th {\n",
       "        text-align: right;\n",
       "    }\n",
       "</style>\n",
       "<table border=\"1\" class=\"dataframe\">\n",
       "  <thead>\n",
       "    <tr style=\"text-align: right;\">\n",
       "      <th></th>\n",
       "      <th>Date</th>\n",
       "      <th>Open</th>\n",
       "      <th>High</th>\n",
       "      <th>Low</th>\n",
       "      <th>Close</th>\n",
       "      <th>Adj Close</th>\n",
       "      <th>Volume</th>\n",
       "      <th>Year</th>\n",
       "    </tr>\n",
       "  </thead>\n",
       "  <tbody>\n",
       "    <tr>\n",
       "      <th>0</th>\n",
       "      <td>1980-12-12</td>\n",
       "      <td>0.128348</td>\n",
       "      <td>0.128906</td>\n",
       "      <td>0.128348</td>\n",
       "      <td>0.128348</td>\n",
       "      <td>0.100178</td>\n",
       "      <td>469033600</td>\n",
       "      <td>1980</td>\n",
       "    </tr>\n",
       "    <tr>\n",
       "      <th>1</th>\n",
       "      <td>1980-12-15</td>\n",
       "      <td>0.122210</td>\n",
       "      <td>0.122210</td>\n",
       "      <td>0.121652</td>\n",
       "      <td>0.121652</td>\n",
       "      <td>0.094952</td>\n",
       "      <td>175884800</td>\n",
       "      <td>1980</td>\n",
       "    </tr>\n",
       "    <tr>\n",
       "      <th>2</th>\n",
       "      <td>1980-12-16</td>\n",
       "      <td>0.113281</td>\n",
       "      <td>0.113281</td>\n",
       "      <td>0.112723</td>\n",
       "      <td>0.112723</td>\n",
       "      <td>0.087983</td>\n",
       "      <td>105728000</td>\n",
       "      <td>1980</td>\n",
       "    </tr>\n",
       "    <tr>\n",
       "      <th>3</th>\n",
       "      <td>1980-12-17</td>\n",
       "      <td>0.115513</td>\n",
       "      <td>0.116071</td>\n",
       "      <td>0.115513</td>\n",
       "      <td>0.115513</td>\n",
       "      <td>0.090160</td>\n",
       "      <td>86441600</td>\n",
       "      <td>1980</td>\n",
       "    </tr>\n",
       "    <tr>\n",
       "      <th>4</th>\n",
       "      <td>1980-12-18</td>\n",
       "      <td>0.118862</td>\n",
       "      <td>0.119420</td>\n",
       "      <td>0.118862</td>\n",
       "      <td>0.118862</td>\n",
       "      <td>0.092774</td>\n",
       "      <td>73449600</td>\n",
       "      <td>1980</td>\n",
       "    </tr>\n",
       "  </tbody>\n",
       "</table>\n",
       "</div>"
      ],
      "text/plain": [
       "         Date      Open      High       Low     Close  Adj Close     Volume  \\\n",
       "0  1980-12-12  0.128348  0.128906  0.128348  0.128348   0.100178  469033600   \n",
       "1  1980-12-15  0.122210  0.122210  0.121652  0.121652   0.094952  175884800   \n",
       "2  1980-12-16  0.113281  0.113281  0.112723  0.112723   0.087983  105728000   \n",
       "3  1980-12-17  0.115513  0.116071  0.115513  0.115513   0.090160   86441600   \n",
       "4  1980-12-18  0.118862  0.119420  0.118862  0.118862   0.092774   73449600   \n",
       "\n",
       "   Year  \n",
       "0  1980  \n",
       "1  1980  \n",
       "2  1980  \n",
       "3  1980  \n",
       "4  1980  "
      ]
     },
     "execution_count": 21,
     "metadata": {},
     "output_type": "execute_result"
    }
   ],
   "source": [
    "# Now we can see that a new column 'Year' is added to the original dataset\n",
    "# We saw that date is an object, therefore, we have to cast it to an integer variable\n",
    "Apple_stocks[\"Year\"]=Apple_stocks[\"Date\"].str.split(\"-\").str[0].astype(int)\n",
    "Apple_stocks.head()"
   ]
  },
  {
   "cell_type": "code",
   "execution_count": 22,
   "metadata": {
    "scrolled": false
   },
   "outputs": [
    {
     "data": {
      "text/plain": [
       "Year\n",
       "1992    254\n",
       "1996    254\n",
       "1988    253\n",
       "1981    253\n",
       "1997    253\n",
       "1993    253\n",
       "1991    253\n",
       "1990    253\n",
       "2020    253\n",
       "1987    253\n",
       "Name: count, dtype: int64"
      ]
     },
     "execution_count": 22,
     "metadata": {},
     "output_type": "execute_result"
    }
   ],
   "source": [
    "# this value counts of the years roughlty looks like this\n",
    "# we can see that there are years we dont want so we now need to perform filter\n",
    "\n",
    "Apple_stocks[\"Year\"].value_counts()[:10]\n",
    "# Print out the first 10 rows of the value counts"
   ]
  },
  {
   "cell_type": "code",
   "execution_count": 23,
   "metadata": {},
   "outputs": [
    {
     "data": {
      "text/html": [
       "<div>\n",
       "<style scoped>\n",
       "    .dataframe tbody tr th:only-of-type {\n",
       "        vertical-align: middle;\n",
       "    }\n",
       "\n",
       "    .dataframe tbody tr th {\n",
       "        vertical-align: top;\n",
       "    }\n",
       "\n",
       "    .dataframe thead th {\n",
       "        text-align: right;\n",
       "    }\n",
       "</style>\n",
       "<table border=\"1\" class=\"dataframe\">\n",
       "  <thead>\n",
       "    <tr style=\"text-align: right;\">\n",
       "      <th></th>\n",
       "      <th>Date</th>\n",
       "      <th>Open</th>\n",
       "      <th>High</th>\n",
       "      <th>Low</th>\n",
       "      <th>Close</th>\n",
       "      <th>Adj Close</th>\n",
       "      <th>Volume</th>\n",
       "      <th>Year</th>\n",
       "    </tr>\n",
       "  </thead>\n",
       "  <tbody>\n",
       "    <tr>\n",
       "      <th>0</th>\n",
       "      <td>1980-12-12</td>\n",
       "      <td>0.128348</td>\n",
       "      <td>0.128906</td>\n",
       "      <td>0.128348</td>\n",
       "      <td>0.128348</td>\n",
       "      <td>0.100178</td>\n",
       "      <td>469033600</td>\n",
       "      <td>1980</td>\n",
       "    </tr>\n",
       "    <tr>\n",
       "      <th>1</th>\n",
       "      <td>1980-12-15</td>\n",
       "      <td>0.122210</td>\n",
       "      <td>0.122210</td>\n",
       "      <td>0.121652</td>\n",
       "      <td>0.121652</td>\n",
       "      <td>0.094952</td>\n",
       "      <td>175884800</td>\n",
       "      <td>1980</td>\n",
       "    </tr>\n",
       "    <tr>\n",
       "      <th>2</th>\n",
       "      <td>1980-12-16</td>\n",
       "      <td>0.113281</td>\n",
       "      <td>0.113281</td>\n",
       "      <td>0.112723</td>\n",
       "      <td>0.112723</td>\n",
       "      <td>0.087983</td>\n",
       "      <td>105728000</td>\n",
       "      <td>1980</td>\n",
       "    </tr>\n",
       "    <tr>\n",
       "      <th>3</th>\n",
       "      <td>1980-12-17</td>\n",
       "      <td>0.115513</td>\n",
       "      <td>0.116071</td>\n",
       "      <td>0.115513</td>\n",
       "      <td>0.115513</td>\n",
       "      <td>0.090160</td>\n",
       "      <td>86441600</td>\n",
       "      <td>1980</td>\n",
       "    </tr>\n",
       "    <tr>\n",
       "      <th>4</th>\n",
       "      <td>1980-12-18</td>\n",
       "      <td>0.118862</td>\n",
       "      <td>0.119420</td>\n",
       "      <td>0.118862</td>\n",
       "      <td>0.118862</td>\n",
       "      <td>0.092774</td>\n",
       "      <td>73449600</td>\n",
       "      <td>1980</td>\n",
       "    </tr>\n",
       "    <tr>\n",
       "      <th>...</th>\n",
       "      <td>...</td>\n",
       "      <td>...</td>\n",
       "      <td>...</td>\n",
       "      <td>...</td>\n",
       "      <td>...</td>\n",
       "      <td>...</td>\n",
       "      <td>...</td>\n",
       "      <td>...</td>\n",
       "    </tr>\n",
       "    <tr>\n",
       "      <th>10444</th>\n",
       "      <td>2022-05-16</td>\n",
       "      <td>145.550003</td>\n",
       "      <td>147.520004</td>\n",
       "      <td>144.179993</td>\n",
       "      <td>145.539993</td>\n",
       "      <td>145.539993</td>\n",
       "      <td>86643800</td>\n",
       "      <td>2022</td>\n",
       "    </tr>\n",
       "    <tr>\n",
       "      <th>10445</th>\n",
       "      <td>2022-05-17</td>\n",
       "      <td>148.860001</td>\n",
       "      <td>149.770004</td>\n",
       "      <td>146.679993</td>\n",
       "      <td>149.240005</td>\n",
       "      <td>149.240005</td>\n",
       "      <td>78336300</td>\n",
       "      <td>2022</td>\n",
       "    </tr>\n",
       "    <tr>\n",
       "      <th>10446</th>\n",
       "      <td>2022-05-18</td>\n",
       "      <td>146.850006</td>\n",
       "      <td>147.360001</td>\n",
       "      <td>139.899994</td>\n",
       "      <td>140.820007</td>\n",
       "      <td>140.820007</td>\n",
       "      <td>109742900</td>\n",
       "      <td>2022</td>\n",
       "    </tr>\n",
       "    <tr>\n",
       "      <th>10447</th>\n",
       "      <td>2022-05-19</td>\n",
       "      <td>139.880005</td>\n",
       "      <td>141.660004</td>\n",
       "      <td>136.600006</td>\n",
       "      <td>137.350006</td>\n",
       "      <td>137.350006</td>\n",
       "      <td>136095600</td>\n",
       "      <td>2022</td>\n",
       "    </tr>\n",
       "    <tr>\n",
       "      <th>10448</th>\n",
       "      <td>2022-05-20</td>\n",
       "      <td>139.089996</td>\n",
       "      <td>140.699997</td>\n",
       "      <td>132.610001</td>\n",
       "      <td>137.589996</td>\n",
       "      <td>137.589996</td>\n",
       "      <td>137194600</td>\n",
       "      <td>2022</td>\n",
       "    </tr>\n",
       "  </tbody>\n",
       "</table>\n",
       "<p>10449 rows × 8 columns</p>\n",
       "</div>"
      ],
      "text/plain": [
       "             Date        Open        High         Low       Close   Adj Close  \\\n",
       "0      1980-12-12    0.128348    0.128906    0.128348    0.128348    0.100178   \n",
       "1      1980-12-15    0.122210    0.122210    0.121652    0.121652    0.094952   \n",
       "2      1980-12-16    0.113281    0.113281    0.112723    0.112723    0.087983   \n",
       "3      1980-12-17    0.115513    0.116071    0.115513    0.115513    0.090160   \n",
       "4      1980-12-18    0.118862    0.119420    0.118862    0.118862    0.092774   \n",
       "...           ...         ...         ...         ...         ...         ...   \n",
       "10444  2022-05-16  145.550003  147.520004  144.179993  145.539993  145.539993   \n",
       "10445  2022-05-17  148.860001  149.770004  146.679993  149.240005  149.240005   \n",
       "10446  2022-05-18  146.850006  147.360001  139.899994  140.820007  140.820007   \n",
       "10447  2022-05-19  139.880005  141.660004  136.600006  137.350006  137.350006   \n",
       "10448  2022-05-20  139.089996  140.699997  132.610001  137.589996  137.589996   \n",
       "\n",
       "          Volume  Year  \n",
       "0      469033600  1980  \n",
       "1      175884800  1980  \n",
       "2      105728000  1980  \n",
       "3       86441600  1980  \n",
       "4       73449600  1980  \n",
       "...          ...   ...  \n",
       "10444   86643800  2022  \n",
       "10445   78336300  2022  \n",
       "10446  109742900  2022  \n",
       "10447  136095600  2022  \n",
       "10448  137194600  2022  \n",
       "\n",
       "[10449 rows x 8 columns]"
      ]
     },
     "execution_count": 23,
     "metadata": {},
     "output_type": "execute_result"
    }
   ],
   "source": [
    "# You can see in the farthest right column we have a new column called 'Year'\n",
    "Apple_stocks"
   ]
  },
  {
   "cell_type": "code",
   "execution_count": 24,
   "metadata": {
    "scrolled": true
   },
   "outputs": [
    {
     "data": {
      "text/html": [
       "<div>\n",
       "<style scoped>\n",
       "    .dataframe tbody tr th:only-of-type {\n",
       "        vertical-align: middle;\n",
       "    }\n",
       "\n",
       "    .dataframe tbody tr th {\n",
       "        vertical-align: top;\n",
       "    }\n",
       "\n",
       "    .dataframe thead th {\n",
       "        text-align: right;\n",
       "    }\n",
       "</style>\n",
       "<table border=\"1\" class=\"dataframe\">\n",
       "  <thead>\n",
       "    <tr style=\"text-align: right;\">\n",
       "      <th></th>\n",
       "      <th>Date</th>\n",
       "      <th>Open</th>\n",
       "      <th>High</th>\n",
       "      <th>Low</th>\n",
       "      <th>Close</th>\n",
       "      <th>Adj Close</th>\n",
       "      <th>Volume</th>\n",
       "      <th>Year</th>\n",
       "    </tr>\n",
       "  </thead>\n",
       "  <tbody>\n",
       "    <tr>\n",
       "      <th>7835</th>\n",
       "      <td>2012-01-03</td>\n",
       "      <td>14.621429</td>\n",
       "      <td>14.732143</td>\n",
       "      <td>14.607143</td>\n",
       "      <td>14.686786</td>\n",
       "      <td>12.557465</td>\n",
       "      <td>302220800</td>\n",
       "      <td>2012</td>\n",
       "    </tr>\n",
       "    <tr>\n",
       "      <th>7836</th>\n",
       "      <td>2012-01-04</td>\n",
       "      <td>14.642857</td>\n",
       "      <td>14.810000</td>\n",
       "      <td>14.617143</td>\n",
       "      <td>14.765714</td>\n",
       "      <td>12.624950</td>\n",
       "      <td>260022000</td>\n",
       "      <td>2012</td>\n",
       "    </tr>\n",
       "    <tr>\n",
       "      <th>7837</th>\n",
       "      <td>2012-01-05</td>\n",
       "      <td>14.819643</td>\n",
       "      <td>14.948214</td>\n",
       "      <td>14.738214</td>\n",
       "      <td>14.929643</td>\n",
       "      <td>12.765111</td>\n",
       "      <td>271269600</td>\n",
       "      <td>2012</td>\n",
       "    </tr>\n",
       "    <tr>\n",
       "      <th>7838</th>\n",
       "      <td>2012-01-06</td>\n",
       "      <td>14.991786</td>\n",
       "      <td>15.098214</td>\n",
       "      <td>14.972143</td>\n",
       "      <td>15.085714</td>\n",
       "      <td>12.898556</td>\n",
       "      <td>318292800</td>\n",
       "      <td>2012</td>\n",
       "    </tr>\n",
       "    <tr>\n",
       "      <th>7839</th>\n",
       "      <td>2012-01-09</td>\n",
       "      <td>15.196429</td>\n",
       "      <td>15.276786</td>\n",
       "      <td>15.048214</td>\n",
       "      <td>15.061786</td>\n",
       "      <td>12.878096</td>\n",
       "      <td>394024400</td>\n",
       "      <td>2012</td>\n",
       "    </tr>\n",
       "  </tbody>\n",
       "</table>\n",
       "</div>"
      ],
      "text/plain": [
       "            Date       Open       High        Low      Close  Adj Close  \\\n",
       "7835  2012-01-03  14.621429  14.732143  14.607143  14.686786  12.557465   \n",
       "7836  2012-01-04  14.642857  14.810000  14.617143  14.765714  12.624950   \n",
       "7837  2012-01-05  14.819643  14.948214  14.738214  14.929643  12.765111   \n",
       "7838  2012-01-06  14.991786  15.098214  14.972143  15.085714  12.898556   \n",
       "7839  2012-01-09  15.196429  15.276786  15.048214  15.061786  12.878096   \n",
       "\n",
       "         Volume  Year  \n",
       "7835  302220800  2012  \n",
       "7836  260022000  2012  \n",
       "7837  271269600  2012  \n",
       "7838  318292800  2012  \n",
       "7839  394024400  2012  "
      ]
     },
     "execution_count": 24,
     "metadata": {},
     "output_type": "execute_result"
    }
   ],
   "source": [
    "# Here we are creating a new dataset 'Apple_10yr' that will show stock prices for Apple within the 2012-2022 timeframe\n",
    "Apple_10yr=Apple_stocks[(Apple_stocks['Year'] >= 2012) & (Apple_stocks['Year'] <= 2022)]\n",
    "Apple_10yr.head()"
   ]
  },
  {
   "cell_type": "code",
   "execution_count": 25,
   "metadata": {
    "scrolled": false
   },
   "outputs": [
    {
     "data": {
      "text/plain": [
       "(2614, 8)"
      ]
     },
     "execution_count": 25,
     "metadata": {},
     "output_type": "execute_result"
    }
   ],
   "source": [
    "Apple_10yr.shape"
   ]
  },
  {
   "cell_type": "markdown",
   "metadata": {},
   "source": [
    "Later in the EDA portion we will have to add the Year column again to find the average closed stock price for Samsung, but since we must change 'Daate' to datetime object and set as index so we can better work with the data in terms of visualiation."
   ]
  },
  {
   "cell_type": "code",
   "execution_count": 26,
   "metadata": {},
   "outputs": [],
   "source": [
    "# Remove 'Year' column\n",
    "Apple_10yr=Apple_10yr[[\"Date\",\"Open\",\"High\",\"Low\",\"Close\",\"Adj Close\",\"Volume\"]]\n",
    "\n",
    "#Change 'Date' to datetime object\n",
    "Apple_10yr['Date'] = pd.to_datetime(Apple_10yr['Date'])"
   ]
  },
  {
   "cell_type": "markdown",
   "metadata": {},
   "source": [
    "#### 1. Line Plot for Stock Prices Over Time:\n"
   ]
  },
  {
   "cell_type": "code",
   "execution_count": 27,
   "metadata": {
    "scrolled": false
   },
   "outputs": [
    {
     "data": {
      "image/png": "[encoded data removed]",
      "text/plain": [
       "<Figure size 864x432 with 1 Axes>"
      ]
     },
     "metadata": {},
     "output_type": "display_data"
    }
   ],
   "source": [
    "# we will be looking at the closed prices to look in to the trends\n",
    "plt.figure(figsize=(12, 6))\n",
    "plt.plot(np.array(Apple_10yr['Date']), np.array(Apple_10yr['Close']))\n",
    "plt.title('Apple Stock Closed Prices Over Time')\n",
    "plt.xlabel('Date')\n",
    "plt.ylabel('Closed Price')\n",
    "plt.xticks(rotation=45) \n",
    "plt.show()"
   ]
  },
  {
   "cell_type": "markdown",
   "metadata": {},
   "source": [
    "#### Findings\n",
    "\n",
    "We can see from the plot that Apple has a positive slope correlation with time, and we saw that there was a steep increase around the years 2020 to 2022."
   ]
  },
  {
   "cell_type": "markdown",
   "metadata": {},
   "source": [
    "#### 2. Volume Traded Over Time:"
   ]
  },
  {
   "cell_type": "code",
   "execution_count": 28,
   "metadata": {},
   "outputs": [
    {
     "data": {
      "image/png": "[encoded data removed]",
      "text/plain": [
       "<Figure size 864x432 with 1 Axes>"
      ]
     },
     "metadata": {},
     "output_type": "display_data"
    }
   ],
   "source": [
    "# we will be looking at the closed prices to look in to the trends\n",
    "plt.figure(figsize=(12, 6))\n",
    "plt.plot(np.array(Apple_10yr['Date']), np.array(Apple_10yr['Volume']))\n",
    "plt.title('Volume of Apple Stocks Traded Over Time')\n",
    "plt.xlabel('Date')\n",
    "plt.ylabel('Volume')\n",
    "plt.xticks(rotation=45) \n",
    "plt.show()"
   ]
  },
  {
   "cell_type": "markdown",
   "metadata": {},
   "source": [
    "#### Findings\n",
    "\n",
    "We can see from the amount of volume traded by day for our 10 year range of 2012-2022 varies. Overall, it appears that there is a decrease and negative slope in the volume of stock traded in our 10 year period.\n",
    "\n",
    "When looking at the lineplot for stocks, between 2020-2022 there is a stark increase in closing price for Apple stock. One thing to note, however, is a little past 2018 and 2020 there is a dip in the stock price. What we see in the visualization shows that generally the price of the stock slopes positively as we move more years into 2022."
   ]
  },
  {
   "cell_type": "markdown",
   "metadata": {},
   "source": [
    "#### In these next steps, we will look at Samsung stock relation with Apple stock. Before we proceed, we will need to perform similar measures that we carried out with Apple's stock data, but now with Samsung's"
   ]
  },
  {
   "cell_type": "markdown",
   "metadata": {},
   "source": [
    "### Section 2 of EDA: Samsung Data Set"
   ]
  },
  {
   "cell_type": "code",
   "execution_count": 29,
   "metadata": {
    "scrolled": false
   },
   "outputs": [
    {
     "data": {
      "text/html": [
       "<div>\n",
       "<style scoped>\n",
       "    .dataframe tbody tr th:only-of-type {\n",
       "        vertical-align: middle;\n",
       "    }\n",
       "\n",
       "    .dataframe tbody tr th {\n",
       "        vertical-align: top;\n",
       "    }\n",
       "\n",
       "    .dataframe thead th {\n",
       "        text-align: right;\n",
       "    }\n",
       "</style>\n",
       "<table border=\"1\" class=\"dataframe\">\n",
       "  <thead>\n",
       "    <tr style=\"text-align: right;\">\n",
       "      <th></th>\n",
       "      <th>Date</th>\n",
       "      <th>Open</th>\n",
       "      <th>High</th>\n",
       "      <th>Low</th>\n",
       "      <th>Close</th>\n",
       "      <th>Adj Close</th>\n",
       "      <th>Volume</th>\n",
       "    </tr>\n",
       "  </thead>\n",
       "  <tbody>\n",
       "    <tr>\n",
       "      <th>0</th>\n",
       "      <td>2000-01-04</td>\n",
       "      <td>6000.0</td>\n",
       "      <td>6110.0</td>\n",
       "      <td>5660.0</td>\n",
       "      <td>6110.0</td>\n",
       "      <td>4651.737793</td>\n",
       "      <td>74195000</td>\n",
       "    </tr>\n",
       "    <tr>\n",
       "      <th>1</th>\n",
       "      <td>2000-01-05</td>\n",
       "      <td>5800.0</td>\n",
       "      <td>6060.0</td>\n",
       "      <td>5520.0</td>\n",
       "      <td>5580.0</td>\n",
       "      <td>4248.232422</td>\n",
       "      <td>74680000</td>\n",
       "    </tr>\n",
       "    <tr>\n",
       "      <th>2</th>\n",
       "      <td>2000-01-06</td>\n",
       "      <td>5750.0</td>\n",
       "      <td>5780.0</td>\n",
       "      <td>5580.0</td>\n",
       "      <td>5620.0</td>\n",
       "      <td>4278.686523</td>\n",
       "      <td>54390000</td>\n",
       "    </tr>\n",
       "    <tr>\n",
       "      <th>3</th>\n",
       "      <td>2000-01-07</td>\n",
       "      <td>5560.0</td>\n",
       "      <td>5670.0</td>\n",
       "      <td>5360.0</td>\n",
       "      <td>5540.0</td>\n",
       "      <td>4217.780273</td>\n",
       "      <td>40305000</td>\n",
       "    </tr>\n",
       "    <tr>\n",
       "      <th>4</th>\n",
       "      <td>2000-01-10</td>\n",
       "      <td>5600.0</td>\n",
       "      <td>5770.0</td>\n",
       "      <td>5580.0</td>\n",
       "      <td>5770.0</td>\n",
       "      <td>4392.884766</td>\n",
       "      <td>46880000</td>\n",
       "    </tr>\n",
       "  </tbody>\n",
       "</table>\n",
       "</div>"
      ],
      "text/plain": [
       "         Date    Open    High     Low   Close    Adj Close    Volume\n",
       "0  2000-01-04  6000.0  6110.0  5660.0  6110.0  4651.737793  74195000\n",
       "1  2000-01-05  5800.0  6060.0  5520.0  5580.0  4248.232422  74680000\n",
       "2  2000-01-06  5750.0  5780.0  5580.0  5620.0  4278.686523  54390000\n",
       "3  2000-01-07  5560.0  5670.0  5360.0  5540.0  4217.780273  40305000\n",
       "4  2000-01-10  5600.0  5770.0  5580.0  5770.0  4392.884766  46880000"
      ]
     },
     "execution_count": 29,
     "metadata": {},
     "output_type": "execute_result"
    }
   ],
   "source": [
    "# This is roughly what the datset looks like (the first 5 rows)\n",
    "Samsung_stocks.head()"
   ]
  },
  {
   "cell_type": "markdown",
   "metadata": {},
   "source": [
    "#### Data Cleaning (Filtering)\n",
    "\n",
    "Since we are only looking in to years 2012-2022 for our project, we will now filter using the feature \"Date\". to do so:\n",
    "\n",
    "- extract a year attribute from the \"Date\" column \n",
    "- filter the original df to a new one called Apple_10yr"
   ]
  },
  {
   "cell_type": "code",
   "execution_count": 30,
   "metadata": {
    "scrolled": true
   },
   "outputs": [
    {
     "data": {
      "text/html": [
       "<div>\n",
       "<style scoped>\n",
       "    .dataframe tbody tr th:only-of-type {\n",
       "        vertical-align: middle;\n",
       "    }\n",
       "\n",
       "    .dataframe tbody tr th {\n",
       "        vertical-align: top;\n",
       "    }\n",
       "\n",
       "    .dataframe thead th {\n",
       "        text-align: right;\n",
       "    }\n",
       "</style>\n",
       "<table border=\"1\" class=\"dataframe\">\n",
       "  <thead>\n",
       "    <tr style=\"text-align: right;\">\n",
       "      <th></th>\n",
       "      <th>Date</th>\n",
       "      <th>Open</th>\n",
       "      <th>High</th>\n",
       "      <th>Low</th>\n",
       "      <th>Close</th>\n",
       "      <th>Adj Close</th>\n",
       "      <th>Volume</th>\n",
       "      <th>Year</th>\n",
       "    </tr>\n",
       "  </thead>\n",
       "  <tbody>\n",
       "    <tr>\n",
       "      <th>0</th>\n",
       "      <td>2000-01-04</td>\n",
       "      <td>6000.0</td>\n",
       "      <td>6110.0</td>\n",
       "      <td>5660.0</td>\n",
       "      <td>6110.0</td>\n",
       "      <td>4651.737793</td>\n",
       "      <td>74195000</td>\n",
       "      <td>2000</td>\n",
       "    </tr>\n",
       "    <tr>\n",
       "      <th>1</th>\n",
       "      <td>2000-01-05</td>\n",
       "      <td>5800.0</td>\n",
       "      <td>6060.0</td>\n",
       "      <td>5520.0</td>\n",
       "      <td>5580.0</td>\n",
       "      <td>4248.232422</td>\n",
       "      <td>74680000</td>\n",
       "      <td>2000</td>\n",
       "    </tr>\n",
       "    <tr>\n",
       "      <th>2</th>\n",
       "      <td>2000-01-06</td>\n",
       "      <td>5750.0</td>\n",
       "      <td>5780.0</td>\n",
       "      <td>5580.0</td>\n",
       "      <td>5620.0</td>\n",
       "      <td>4278.686523</td>\n",
       "      <td>54390000</td>\n",
       "      <td>2000</td>\n",
       "    </tr>\n",
       "  </tbody>\n",
       "</table>\n",
       "</div>"
      ],
      "text/plain": [
       "         Date    Open    High     Low   Close    Adj Close    Volume  Year\n",
       "0  2000-01-04  6000.0  6110.0  5660.0  6110.0  4651.737793  74195000  2000\n",
       "1  2000-01-05  5800.0  6060.0  5520.0  5580.0  4248.232422  74680000  2000\n",
       "2  2000-01-06  5750.0  5780.0  5580.0  5620.0  4278.686523  54390000  2000"
      ]
     },
     "execution_count": 30,
     "metadata": {},
     "output_type": "execute_result"
    }
   ],
   "source": [
    "# Now we can see that a new column 'Year' is added to the original dataset\n",
    "# We saw that date is an object, therefore, we have to cast it to an integer variable\n",
    "Samsung_stocks[\"Year\"]=Samsung_stocks[\"Date\"].str.split(\"-\").str[0].astype(int)\n",
    "Samsung_stocks[0:3]"
   ]
  },
  {
   "cell_type": "code",
   "execution_count": 31,
   "metadata": {
    "scrolled": false
   },
   "outputs": [
    {
     "data": {
      "text/plain": [
       "Year\n",
       "2004    262\n",
       "2002    261\n",
       "2003    261\n",
       "2001    261\n",
       "2000    259\n",
       "2005    259\n",
       "2008    257\n",
       "2009    253\n",
       "2010    251\n",
       "2015    249\n",
       "Name: count, dtype: int64"
      ]
     },
     "execution_count": 31,
     "metadata": {},
     "output_type": "execute_result"
    }
   ],
   "source": [
    "# this value counts of the years roughlty looks like this\n",
    "# we can see that there are years we dont want so we now need to perform filter\n",
    "\n",
    "Samsung_stocks[\"Year\"].value_counts()[:10]\n",
    "# Print out the first 10 rows of the value counts"
   ]
  },
  {
   "cell_type": "code",
   "execution_count": 32,
   "metadata": {},
   "outputs": [
    {
     "data": {
      "text/html": [
       "<div>\n",
       "<style scoped>\n",
       "    .dataframe tbody tr th:only-of-type {\n",
       "        vertical-align: middle;\n",
       "    }\n",
       "\n",
       "    .dataframe tbody tr th {\n",
       "        vertical-align: top;\n",
       "    }\n",
       "\n",
       "    .dataframe thead th {\n",
       "        text-align: right;\n",
       "    }\n",
       "</style>\n",
       "<table border=\"1\" class=\"dataframe\">\n",
       "  <thead>\n",
       "    <tr style=\"text-align: right;\">\n",
       "      <th></th>\n",
       "      <th>Date</th>\n",
       "      <th>Open</th>\n",
       "      <th>High</th>\n",
       "      <th>Low</th>\n",
       "      <th>Close</th>\n",
       "      <th>Adj Close</th>\n",
       "      <th>Volume</th>\n",
       "      <th>Year</th>\n",
       "    </tr>\n",
       "  </thead>\n",
       "  <tbody>\n",
       "    <tr>\n",
       "      <th>0</th>\n",
       "      <td>2000-01-04</td>\n",
       "      <td>6000.0</td>\n",
       "      <td>6110.0</td>\n",
       "      <td>5660.0</td>\n",
       "      <td>6110.0</td>\n",
       "      <td>4651.737793</td>\n",
       "      <td>74195000</td>\n",
       "      <td>2000</td>\n",
       "    </tr>\n",
       "    <tr>\n",
       "      <th>1</th>\n",
       "      <td>2000-01-05</td>\n",
       "      <td>5800.0</td>\n",
       "      <td>6060.0</td>\n",
       "      <td>5520.0</td>\n",
       "      <td>5580.0</td>\n",
       "      <td>4248.232422</td>\n",
       "      <td>74680000</td>\n",
       "      <td>2000</td>\n",
       "    </tr>\n",
       "    <tr>\n",
       "      <th>2</th>\n",
       "      <td>2000-01-06</td>\n",
       "      <td>5750.0</td>\n",
       "      <td>5780.0</td>\n",
       "      <td>5580.0</td>\n",
       "      <td>5620.0</td>\n",
       "      <td>4278.686523</td>\n",
       "      <td>54390000</td>\n",
       "      <td>2000</td>\n",
       "    </tr>\n",
       "    <tr>\n",
       "      <th>3</th>\n",
       "      <td>2000-01-07</td>\n",
       "      <td>5560.0</td>\n",
       "      <td>5670.0</td>\n",
       "      <td>5360.0</td>\n",
       "      <td>5540.0</td>\n",
       "      <td>4217.780273</td>\n",
       "      <td>40305000</td>\n",
       "      <td>2000</td>\n",
       "    </tr>\n",
       "    <tr>\n",
       "      <th>4</th>\n",
       "      <td>2000-01-10</td>\n",
       "      <td>5600.0</td>\n",
       "      <td>5770.0</td>\n",
       "      <td>5580.0</td>\n",
       "      <td>5770.0</td>\n",
       "      <td>4392.884766</td>\n",
       "      <td>46880000</td>\n",
       "      <td>2000</td>\n",
       "    </tr>\n",
       "    <tr>\n",
       "      <th>...</th>\n",
       "      <td>...</td>\n",
       "      <td>...</td>\n",
       "      <td>...</td>\n",
       "      <td>...</td>\n",
       "      <td>...</td>\n",
       "      <td>...</td>\n",
       "      <td>...</td>\n",
       "      <td>...</td>\n",
       "    </tr>\n",
       "    <tr>\n",
       "      <th>5616</th>\n",
       "      <td>2022-05-17</td>\n",
       "      <td>66600.0</td>\n",
       "      <td>67900.0</td>\n",
       "      <td>66600.0</td>\n",
       "      <td>67600.0</td>\n",
       "      <td>67600.000000</td>\n",
       "      <td>15680447</td>\n",
       "      <td>2022</td>\n",
       "    </tr>\n",
       "    <tr>\n",
       "      <th>5617</th>\n",
       "      <td>2022-05-18</td>\n",
       "      <td>68300.0</td>\n",
       "      <td>68700.0</td>\n",
       "      <td>67600.0</td>\n",
       "      <td>68100.0</td>\n",
       "      <td>68100.000000</td>\n",
       "      <td>16486319</td>\n",
       "      <td>2022</td>\n",
       "    </tr>\n",
       "    <tr>\n",
       "      <th>5618</th>\n",
       "      <td>2022-05-19</td>\n",
       "      <td>66500.0</td>\n",
       "      <td>67600.0</td>\n",
       "      <td>66500.0</td>\n",
       "      <td>67500.0</td>\n",
       "      <td>67500.000000</td>\n",
       "      <td>17073727</td>\n",
       "      <td>2022</td>\n",
       "    </tr>\n",
       "    <tr>\n",
       "      <th>5619</th>\n",
       "      <td>2022-05-20</td>\n",
       "      <td>67800.0</td>\n",
       "      <td>68400.0</td>\n",
       "      <td>67700.0</td>\n",
       "      <td>68000.0</td>\n",
       "      <td>68000.000000</td>\n",
       "      <td>12109671</td>\n",
       "      <td>2022</td>\n",
       "    </tr>\n",
       "    <tr>\n",
       "      <th>5620</th>\n",
       "      <td>2022-05-23</td>\n",
       "      <td>68800.0</td>\n",
       "      <td>68800.0</td>\n",
       "      <td>67600.0</td>\n",
       "      <td>67900.0</td>\n",
       "      <td>67900.000000</td>\n",
       "      <td>9942321</td>\n",
       "      <td>2022</td>\n",
       "    </tr>\n",
       "  </tbody>\n",
       "</table>\n",
       "<p>5621 rows × 8 columns</p>\n",
       "</div>"
      ],
      "text/plain": [
       "            Date     Open     High      Low    Close     Adj Close    Volume  \\\n",
       "0     2000-01-04   6000.0   6110.0   5660.0   6110.0   4651.737793  74195000   \n",
       "1     2000-01-05   5800.0   6060.0   5520.0   5580.0   4248.232422  74680000   \n",
       "2     2000-01-06   5750.0   5780.0   5580.0   5620.0   4278.686523  54390000   \n",
       "3     2000-01-07   5560.0   5670.0   5360.0   5540.0   4217.780273  40305000   \n",
       "4     2000-01-10   5600.0   5770.0   5580.0   5770.0   4392.884766  46880000   \n",
       "...          ...      ...      ...      ...      ...           ...       ...   \n",
       "5616  2022-05-17  66600.0  67900.0  66600.0  67600.0  67600.000000  15680447   \n",
       "5617  2022-05-18  68300.0  68700.0  67600.0  68100.0  68100.000000  16486319   \n",
       "5618  2022-05-19  66500.0  67600.0  66500.0  67500.0  67500.000000  17073727   \n",
       "5619  2022-05-20  67800.0  68400.0  67700.0  68000.0  68000.000000  12109671   \n",
       "5620  2022-05-23  68800.0  68800.0  67600.0  67900.0  67900.000000   9942321   \n",
       "\n",
       "      Year  \n",
       "0     2000  \n",
       "1     2000  \n",
       "2     2000  \n",
       "3     2000  \n",
       "4     2000  \n",
       "...    ...  \n",
       "5616  2022  \n",
       "5617  2022  \n",
       "5618  2022  \n",
       "5619  2022  \n",
       "5620  2022  \n",
       "\n",
       "[5621 rows x 8 columns]"
      ]
     },
     "execution_count": 32,
     "metadata": {},
     "output_type": "execute_result"
    }
   ],
   "source": [
    "# You can see in the farthest right column we have a new column called 'Year'\n",
    "Samsung_stocks"
   ]
  },
  {
   "cell_type": "code",
   "execution_count": 33,
   "metadata": {
    "scrolled": true
   },
   "outputs": [
    {
     "data": {
      "text/html": [
       "<div>\n",
       "<style scoped>\n",
       "    .dataframe tbody tr th:only-of-type {\n",
       "        vertical-align: middle;\n",
       "    }\n",
       "\n",
       "    .dataframe tbody tr th {\n",
       "        vertical-align: top;\n",
       "    }\n",
       "\n",
       "    .dataframe thead th {\n",
       "        text-align: right;\n",
       "    }\n",
       "</style>\n",
       "<table border=\"1\" class=\"dataframe\">\n",
       "  <thead>\n",
       "    <tr style=\"text-align: right;\">\n",
       "      <th></th>\n",
       "      <th>Date</th>\n",
       "      <th>Open</th>\n",
       "      <th>High</th>\n",
       "      <th>Low</th>\n",
       "      <th>Close</th>\n",
       "      <th>Adj Close</th>\n",
       "      <th>Volume</th>\n",
       "      <th>Year</th>\n",
       "    </tr>\n",
       "  </thead>\n",
       "  <tbody>\n",
       "    <tr>\n",
       "      <th>3066</th>\n",
       "      <td>2012-01-02</td>\n",
       "      <td>21400.0</td>\n",
       "      <td>21600.0</td>\n",
       "      <td>21300.0</td>\n",
       "      <td>21600.0</td>\n",
       "      <td>17500.320313</td>\n",
       "      <td>13151350</td>\n",
       "      <td>2012</td>\n",
       "    </tr>\n",
       "    <tr>\n",
       "      <th>3067</th>\n",
       "      <td>2012-01-03</td>\n",
       "      <td>21860.0</td>\n",
       "      <td>22100.0</td>\n",
       "      <td>21840.0</td>\n",
       "      <td>22100.0</td>\n",
       "      <td>17905.416016</td>\n",
       "      <td>16927750</td>\n",
       "      <td>2012</td>\n",
       "    </tr>\n",
       "    <tr>\n",
       "      <th>3068</th>\n",
       "      <td>2012-01-04</td>\n",
       "      <td>22100.0</td>\n",
       "      <td>22200.0</td>\n",
       "      <td>21500.0</td>\n",
       "      <td>21600.0</td>\n",
       "      <td>17500.320313</td>\n",
       "      <td>17103700</td>\n",
       "      <td>2012</td>\n",
       "    </tr>\n",
       "    <tr>\n",
       "      <th>3069</th>\n",
       "      <td>2012-01-05</td>\n",
       "      <td>21460.0</td>\n",
       "      <td>21580.0</td>\n",
       "      <td>21100.0</td>\n",
       "      <td>21100.0</td>\n",
       "      <td>17095.218750</td>\n",
       "      <td>17298400</td>\n",
       "      <td>2012</td>\n",
       "    </tr>\n",
       "    <tr>\n",
       "      <th>3070</th>\n",
       "      <td>2012-01-06</td>\n",
       "      <td>21120.0</td>\n",
       "      <td>21320.0</td>\n",
       "      <td>20600.0</td>\n",
       "      <td>20800.0</td>\n",
       "      <td>16852.156250</td>\n",
       "      <td>18816250</td>\n",
       "      <td>2012</td>\n",
       "    </tr>\n",
       "  </tbody>\n",
       "</table>\n",
       "</div>"
      ],
      "text/plain": [
       "            Date     Open     High      Low    Close     Adj Close    Volume  \\\n",
       "3066  2012-01-02  21400.0  21600.0  21300.0  21600.0  17500.320313  13151350   \n",
       "3067  2012-01-03  21860.0  22100.0  21840.0  22100.0  17905.416016  16927750   \n",
       "3068  2012-01-04  22100.0  22200.0  21500.0  21600.0  17500.320313  17103700   \n",
       "3069  2012-01-05  21460.0  21580.0  21100.0  21100.0  17095.218750  17298400   \n",
       "3070  2012-01-06  21120.0  21320.0  20600.0  20800.0  16852.156250  18816250   \n",
       "\n",
       "      Year  \n",
       "3066  2012  \n",
       "3067  2012  \n",
       "3068  2012  \n",
       "3069  2012  \n",
       "3070  2012  "
      ]
     },
     "execution_count": 33,
     "metadata": {},
     "output_type": "execute_result"
    }
   ],
   "source": [
    "# Here we are creating a new dataset 'Samsung_10yr' that will show stock prices for Samsung within the 2012-2022 timeframe\n",
    "Samsung_10yr=Samsung_stocks[(Samsung_stocks['Year'] >= 2012) & (Samsung_stocks['Year'] <= 2022)]\n",
    "Samsung_10yr.head()"
   ]
  },
  {
   "cell_type": "code",
   "execution_count": 34,
   "metadata": {
    "scrolled": false
   },
   "outputs": [
    {
     "data": {
      "text/plain": [
       "(2555, 8)"
      ]
     },
     "execution_count": 34,
     "metadata": {},
     "output_type": "execute_result"
    }
   ],
   "source": [
    "Samsung_10yr.shape"
   ]
  },
  {
   "cell_type": "markdown",
   "metadata": {},
   "source": [
    "To continue with our EDA, we first must apply a function 'exchange' that will conver Samsung's stock price from Korean won to United States dollar. "
   ]
  },
  {
   "cell_type": "code",
   "execution_count": 35,
   "metadata": {},
   "outputs": [
    {
     "data": {
      "text/html": [
       "<div>\n",
       "<style scoped>\n",
       "    .dataframe tbody tr th:only-of-type {\n",
       "        vertical-align: middle;\n",
       "    }\n",
       "\n",
       "    .dataframe tbody tr th {\n",
       "        vertical-align: top;\n",
       "    }\n",
       "\n",
       "    .dataframe thead th {\n",
       "        text-align: right;\n",
       "    }\n",
       "</style>\n",
       "<table border=\"1\" class=\"dataframe\">\n",
       "  <thead>\n",
       "    <tr style=\"text-align: right;\">\n",
       "      <th></th>\n",
       "      <th>Date</th>\n",
       "      <th>Volume</th>\n",
       "      <th>Year</th>\n",
       "      <th>Open_USD</th>\n",
       "      <th>High_USD</th>\n",
       "      <th>Low_USD</th>\n",
       "      <th>Close_USD</th>\n",
       "      <th>Adj Close_USD</th>\n",
       "    </tr>\n",
       "  </thead>\n",
       "  <tbody>\n",
       "    <tr>\n",
       "      <th>3066</th>\n",
       "      <td>2012-01-02</td>\n",
       "      <td>13151350</td>\n",
       "      <td>2012</td>\n",
       "      <td>16.269350</td>\n",
       "      <td>16.421400</td>\n",
       "      <td>16.193325</td>\n",
       "      <td>16.421400</td>\n",
       "      <td>13.304619</td>\n",
       "    </tr>\n",
       "    <tr>\n",
       "      <th>3067</th>\n",
       "      <td>2012-01-03</td>\n",
       "      <td>16927750</td>\n",
       "      <td>2012</td>\n",
       "      <td>16.619065</td>\n",
       "      <td>16.801525</td>\n",
       "      <td>16.603860</td>\n",
       "      <td>16.801525</td>\n",
       "      <td>13.612593</td>\n",
       "    </tr>\n",
       "    <tr>\n",
       "      <th>3068</th>\n",
       "      <td>2012-01-04</td>\n",
       "      <td>17103700</td>\n",
       "      <td>2012</td>\n",
       "      <td>16.801525</td>\n",
       "      <td>16.877550</td>\n",
       "      <td>16.345375</td>\n",
       "      <td>16.421400</td>\n",
       "      <td>13.304619</td>\n",
       "    </tr>\n",
       "    <tr>\n",
       "      <th>3069</th>\n",
       "      <td>2012-01-05</td>\n",
       "      <td>17298400</td>\n",
       "      <td>2012</td>\n",
       "      <td>16.314965</td>\n",
       "      <td>16.406195</td>\n",
       "      <td>16.041275</td>\n",
       "      <td>16.041275</td>\n",
       "      <td>12.996640</td>\n",
       "    </tr>\n",
       "    <tr>\n",
       "      <th>3070</th>\n",
       "      <td>2012-01-06</td>\n",
       "      <td>18816250</td>\n",
       "      <td>2012</td>\n",
       "      <td>16.056480</td>\n",
       "      <td>16.208530</td>\n",
       "      <td>15.661150</td>\n",
       "      <td>15.813200</td>\n",
       "      <td>12.811852</td>\n",
       "    </tr>\n",
       "    <tr>\n",
       "      <th>...</th>\n",
       "      <td>...</td>\n",
       "      <td>...</td>\n",
       "      <td>...</td>\n",
       "      <td>...</td>\n",
       "      <td>...</td>\n",
       "      <td>...</td>\n",
       "      <td>...</td>\n",
       "      <td>...</td>\n",
       "    </tr>\n",
       "    <tr>\n",
       "      <th>5616</th>\n",
       "      <td>2022-05-17</td>\n",
       "      <td>15680447</td>\n",
       "      <td>2022</td>\n",
       "      <td>50.632650</td>\n",
       "      <td>51.620975</td>\n",
       "      <td>50.632650</td>\n",
       "      <td>51.392900</td>\n",
       "      <td>51.392900</td>\n",
       "    </tr>\n",
       "    <tr>\n",
       "      <th>5617</th>\n",
       "      <td>2022-05-18</td>\n",
       "      <td>16486319</td>\n",
       "      <td>2022</td>\n",
       "      <td>51.925075</td>\n",
       "      <td>52.229175</td>\n",
       "      <td>51.392900</td>\n",
       "      <td>51.773025</td>\n",
       "      <td>51.773025</td>\n",
       "    </tr>\n",
       "    <tr>\n",
       "      <th>5618</th>\n",
       "      <td>2022-05-19</td>\n",
       "      <td>17073727</td>\n",
       "      <td>2022</td>\n",
       "      <td>50.556625</td>\n",
       "      <td>51.392900</td>\n",
       "      <td>50.556625</td>\n",
       "      <td>51.316875</td>\n",
       "      <td>51.316875</td>\n",
       "    </tr>\n",
       "    <tr>\n",
       "      <th>5619</th>\n",
       "      <td>2022-05-20</td>\n",
       "      <td>12109671</td>\n",
       "      <td>2022</td>\n",
       "      <td>51.544950</td>\n",
       "      <td>52.001100</td>\n",
       "      <td>51.468925</td>\n",
       "      <td>51.697000</td>\n",
       "      <td>51.697000</td>\n",
       "    </tr>\n",
       "    <tr>\n",
       "      <th>5620</th>\n",
       "      <td>2022-05-23</td>\n",
       "      <td>9942321</td>\n",
       "      <td>2022</td>\n",
       "      <td>52.305200</td>\n",
       "      <td>52.305200</td>\n",
       "      <td>51.392900</td>\n",
       "      <td>51.620975</td>\n",
       "      <td>51.620975</td>\n",
       "    </tr>\n",
       "  </tbody>\n",
       "</table>\n",
       "<p>2555 rows × 8 columns</p>\n",
       "</div>"
      ],
      "text/plain": [
       "            Date    Volume  Year   Open_USD   High_USD    Low_USD  Close_USD  \\\n",
       "3066  2012-01-02  13151350  2012  16.269350  16.421400  16.193325  16.421400   \n",
       "3067  2012-01-03  16927750  2012  16.619065  16.801525  16.603860  16.801525   \n",
       "3068  2012-01-04  17103700  2012  16.801525  16.877550  16.345375  16.421400   \n",
       "3069  2012-01-05  17298400  2012  16.314965  16.406195  16.041275  16.041275   \n",
       "3070  2012-01-06  18816250  2012  16.056480  16.208530  15.661150  15.813200   \n",
       "...          ...       ...   ...        ...        ...        ...        ...   \n",
       "5616  2022-05-17  15680447  2022  50.632650  51.620975  50.632650  51.392900   \n",
       "5617  2022-05-18  16486319  2022  51.925075  52.229175  51.392900  51.773025   \n",
       "5618  2022-05-19  17073727  2022  50.556625  51.392900  50.556625  51.316875   \n",
       "5619  2022-05-20  12109671  2022  51.544950  52.001100  51.468925  51.697000   \n",
       "5620  2022-05-23   9942321  2022  52.305200  52.305200  51.392900  51.620975   \n",
       "\n",
       "      Adj Close_USD  \n",
       "3066      13.304619  \n",
       "3067      13.612593  \n",
       "3068      13.304619  \n",
       "3069      12.996640  \n",
       "3070      12.811852  \n",
       "...             ...  \n",
       "5616      51.392900  \n",
       "5617      51.773025  \n",
       "5618      51.316875  \n",
       "5619      51.697000  \n",
       "5620      51.620975  \n",
       "\n",
       "[2555 rows x 8 columns]"
      ]
     },
     "execution_count": 35,
     "metadata": {},
     "output_type": "execute_result"
    }
   ],
   "source": [
    "price_columns = ['Open', 'High', 'Low', 'Close', 'Adj Close']\n",
    "def exchange(col):\n",
    "    for col in price_columns:\n",
    "        Samsung_10yr[col + '_USD'] = Samsung_10yr[col] * 0.00076025\n",
    "    \n",
    "exchange(Samsung_10yr)\n",
    "Samsung_10yr=Samsung_10yr.drop(columns=['Open', 'High', 'Low', 'Close', 'Adj Close'])\n",
    "Samsung_10yr"
   ]
  },
  {
   "cell_type": "markdown",
   "metadata": {},
   "source": [
    "Later in the EDA portion we will have to add the Year column again to find the average closed stock price for Samsung, but since we must change 'Daate' to datetime object and set as index so we can better work with the data in terms of visualiation."
   ]
  },
  {
   "cell_type": "code",
   "execution_count": 36,
   "metadata": {},
   "outputs": [],
   "source": [
    "# Remove 'Year' column\n",
    "Samsung_10yr=Samsung_10yr.drop(columns=['Year'])\n",
    "\n",
    "#Change 'Date' to datetime object\n",
    "Samsung_10yr['Date'] = pd.to_datetime(Samsung_10yr['Date'])"
   ]
  },
  {
   "cell_type": "markdown",
   "metadata": {},
   "source": [
    "#### 1. Line Plot for Stock Prices Over Time"
   ]
  },
  {
   "cell_type": "code",
   "execution_count": 37,
   "metadata": {
    "scrolled": false
   },
   "outputs": [
    {
     "data": {
      "image/png": "[encoded data removed]",
      "text/plain": [
       "<Figure size 864x432 with 1 Axes>"
      ]
     },
     "metadata": {},
     "output_type": "display_data"
    }
   ],
   "source": [
    "# we will be looking at the closed prices to look in to the trends\n",
    "plt.figure(figsize=(12, 6))\n",
    "plt.plot(np.array(Samsung_10yr['Date']), np.array(Samsung_10yr['Close_USD']))\n",
    "plt.title('Samsung Stock Close Prices Over Time')\n",
    "plt.xlabel('Date')\n",
    "plt.ylabel('Closed Price')\n",
    "plt.xticks(rotation=45) \n",
    "plt.show()"
   ]
  },
  {
   "cell_type": "markdown",
   "metadata": {},
   "source": [
    "#### Findings:\n",
    "We can see from the plot that Samsung has a positive slope correlation with time adn that there is an very obvious increase from 2016-2018 and from 2020-2021."
   ]
  },
  {
   "cell_type": "markdown",
   "metadata": {},
   "source": [
    "#### 2. Volume Traded Over Time:"
   ]
  },
  {
   "cell_type": "code",
   "execution_count": 38,
   "metadata": {
    "scrolled": false
   },
   "outputs": [
    {
     "data": {
      "image/png": "[encoded data removed]",
      "text/plain": [
       "<Figure size 1080x432 with 1 Axes>"
      ]
     },
     "metadata": {},
     "output_type": "display_data"
    }
   ],
   "source": [
    "# we will be looking at the closed prices to look in to the trends\n",
    "plt.figure(figsize=(15, 6))\n",
    "plt.plot(np.array(Samsung_10yr['Date']), np.array(Samsung_10yr['Volume']))\n",
    "plt.title('Volume of Samsung Stocks Traded Over Time from 2012-2022')\n",
    "plt.xlabel('Date')\n",
    "plt.ylabel('Volume')\n",
    "plt.xticks(rotation=45) \n",
    "plt.show()"
   ]
  },
  {
   "cell_type": "markdown",
   "metadata": {},
   "source": [
    "#### Findings:\n",
    "\n",
    "From the Samsung volume trades, we can see that it's quite similar in Apple in that it varies day by day. However, it does not look like there is a change in volumnes by year, rather there are random peaks. Especially, there is a significant peak in stock traded between 2020-2022. Thus unlike Apple, the volume remains quite constant.\n",
    "\n",
    "In observing Samsung stock pricing, it presents a wedding cake layer patter where there are signficant hills and valleys in stock price. Overalll, stock price for Samsung is cheaper than Apple, but when observing the dips we see really deep declines between a little before and after 2018 and in 2020. However, we do note that moving into 2021 the stock price skyrockets at an all time high which inclines us to beleive that if we were to find the slope, this outlier would suggest stock prices slope positively overall."
   ]
  },
  {
   "cell_type": "markdown",
   "metadata": {},
   "source": [
    "### Section 3 of EDA: Joint Dataset fo Apple Employees and Samsung Employees from 2012-2022"
   ]
  },
  {
   "cell_type": "code",
   "execution_count": 39,
   "metadata": {
    "scrolled": false
   },
   "outputs": [
    {
     "data": {
      "text/html": [
       "<div>\n",
       "<style scoped>\n",
       "    .dataframe tbody tr th:only-of-type {\n",
       "        vertical-align: middle;\n",
       "    }\n",
       "\n",
       "    .dataframe tbody tr th {\n",
       "        vertical-align: top;\n",
       "    }\n",
       "\n",
       "    .dataframe thead th {\n",
       "        text-align: right;\n",
       "    }\n",
       "</style>\n",
       "<table border=\"1\" class=\"dataframe\">\n",
       "  <thead>\n",
       "    <tr style=\"text-align: right;\">\n",
       "      <th></th>\n",
       "      <th>Years</th>\n",
       "      <th>Apple_Employees</th>\n",
       "      <th>Samsung_Employees</th>\n",
       "    </tr>\n",
       "  </thead>\n",
       "  <tbody>\n",
       "    <tr>\n",
       "      <th>3</th>\n",
       "      <td>2012</td>\n",
       "      <td>72800</td>\n",
       "      <td>235870</td>\n",
       "    </tr>\n",
       "    <tr>\n",
       "      <th>4</th>\n",
       "      <td>2013</td>\n",
       "      <td>80300</td>\n",
       "      <td>95798</td>\n",
       "    </tr>\n",
       "    <tr>\n",
       "      <th>5</th>\n",
       "      <td>2014</td>\n",
       "      <td>92600</td>\n",
       "      <td>319210</td>\n",
       "    </tr>\n",
       "    <tr>\n",
       "      <th>6</th>\n",
       "      <td>2015</td>\n",
       "      <td>110000</td>\n",
       "      <td>325680</td>\n",
       "    </tr>\n",
       "    <tr>\n",
       "      <th>7</th>\n",
       "      <td>2016</td>\n",
       "      <td>116000</td>\n",
       "      <td>308750</td>\n",
       "    </tr>\n",
       "    <tr>\n",
       "      <th>8</th>\n",
       "      <td>2017</td>\n",
       "      <td>123000</td>\n",
       "      <td>320670</td>\n",
       "    </tr>\n",
       "    <tr>\n",
       "      <th>9</th>\n",
       "      <td>2018</td>\n",
       "      <td>132000</td>\n",
       "      <td>309630</td>\n",
       "    </tr>\n",
       "    <tr>\n",
       "      <th>10</th>\n",
       "      <td>2019</td>\n",
       "      <td>137000</td>\n",
       "      <td>278000</td>\n",
       "    </tr>\n",
       "    <tr>\n",
       "      <th>11</th>\n",
       "      <td>2020</td>\n",
       "      <td>147000</td>\n",
       "      <td>267937</td>\n",
       "    </tr>\n",
       "    <tr>\n",
       "      <th>12</th>\n",
       "      <td>2021</td>\n",
       "      <td>154000</td>\n",
       "      <td>266673</td>\n",
       "    </tr>\n",
       "    <tr>\n",
       "      <th>13</th>\n",
       "      <td>2022</td>\n",
       "      <td>164000</td>\n",
       "      <td>113604</td>\n",
       "    </tr>\n",
       "  </tbody>\n",
       "</table>\n",
       "</div>"
      ],
      "text/plain": [
       "    Years  Apple_Employees  Samsung_Employees\n",
       "3    2012            72800             235870\n",
       "4    2013            80300              95798\n",
       "5    2014            92600             319210\n",
       "6    2015           110000             325680\n",
       "7    2016           116000             308750\n",
       "8    2017           123000             320670\n",
       "9    2018           132000             309630\n",
       "10   2019           137000             278000\n",
       "11   2020           147000             267937\n",
       "12   2021           154000             266673\n",
       "13   2022           164000             113604"
      ]
     },
     "execution_count": 39,
     "metadata": {},
     "output_type": "execute_result"
    }
   ],
   "source": [
    "# Here we are creating a new dataset with the same name 'employment' that will show empoyment numbers for Apple and Samsung within the 2012-2022 timeframe\n",
    "\n",
    "employment=employment[(employment['Years']>=2012) & (employment['Years']<=2022)]\n",
    "employment"
   ]
  },
  {
   "cell_type": "markdown",
   "metadata": {},
   "source": [
    "#### 2. Employment Values Over Time:\n",
    "\n",
    "In the cell below, we plotted employment numbers for our competitor companies side by side. "
   ]
  },
  {
   "cell_type": "code",
   "execution_count": 40,
   "metadata": {},
   "outputs": [
    {
     "data": {
      "image/png": "[encoded data removed]",
      "text/plain": [
       "<Figure size 1440x720 with 2 Axes>"
      ]
     },
     "metadata": {},
     "output_type": "display_data"
    }
   ],
   "source": [
    "fig, ax = plt.subplots(1, 2, figsize=(20, 10)) \n",
    "sns.lineplot(x=np.array(employment['Years']), y=np.array(employment['Samsung_Employees']), label='Samsung', ax=ax[0], color='blue')\n",
    "sns.lineplot(x=np.array(employment['Years']), y=np.array(employment['Apple_Employees']), label='Apple', ax=ax[1], color='red')\n",
    "plt.xlabel('Year')\n",
    "plt.ylabel('Employees')\n",
    "plt.suptitle('Samsung and Apple Close Employee Numbers Over Time')\n",
    "plt.legend()\n",
    "plt.show()"
   ]
  },
  {
   "cell_type": "markdown",
   "metadata": {},
   "source": [
    "#### Findings\n",
    "From the two line plots, we first observe that there is no concrete way to tell the trend of employees at Samsung, there is an unusually deep decrease in employees in 2013 then an absurd increase that same year. We note a similar decrease in 2021, but from what we see in between, after the stark increase the company slowly lost employees. From what we conclude in our findings for now, there is a possible negative sloped correlation for employement at Samsung. For Apple, the emloyment steadily increases every year from 2012 to 2022 with no significant hills or valleys in the visualization."
   ]
  },
  {
   "cell_type": "markdown",
   "metadata": {},
   "source": [
    "## Analysis 1: Comparative Results for Stock and Employment Data"
   ]
  },
  {
   "cell_type": "markdown",
   "metadata": {},
   "source": [
    "In the following cell, we created a histogram as well as a lineplot to show an overlay of stock price trends between Apple and Samsung. It can be noted from the visualizations below that the stock trends follow one another by a large margin."
   ]
  },
  {
   "cell_type": "code",
   "execution_count": 41,
   "metadata": {
    "scrolled": false
   },
   "outputs": [
    {
     "data": {
      "image/png": "[encoded data removed]",
      "text/plain": [
       "<Figure size 720x432 with 1 Axes>"
      ]
     },
     "metadata": {},
     "output_type": "display_data"
    }
   ],
   "source": [
    "plt.figure(figsize=(10, 6))\n",
    "\n",
    "plt.hist(Samsung_10yr['Close_USD'], label='Samsung', bins=10, color='blue', alpha=0.5)\n",
    "plt.hist(Apple_10yr['Close'], label='Apple', bins=10, color='red', alpha=0.3)\n",
    "\n",
    "plt.xlabel('Closed Price')\n",
    "plt.ylabel('Frequency')\n",
    "plt.title('Histogram of Samsung and Apple Stock Prices')\n",
    "plt.legend()\n",
    "plt.show()"
   ]
  },
  {
   "cell_type": "code",
   "execution_count": 42,
   "metadata": {
    "scrolled": true
   },
   "outputs": [
    {
     "data": {
      "image/png": "[encoded data removed]",
      "text/plain": [
       "<Figure size 432x288 with 1 Axes>"
      ]
     },
     "metadata": {},
     "output_type": "display_data"
    }
   ],
   "source": [
    "Samsung_10yr['Date'] = pd.to_datetime(Samsung_10yr['Date'])\n",
    "Apple_10yr['Date'] = pd.to_datetime(Apple_10yr['Date'])\n",
    "\n",
    "plt.plot(Samsung_10yr['Date'].values, Samsung_10yr['Close_USD'].values, label='Samsung', color='blue')\n",
    "plt.plot(Apple_10yr['Date'].values, Apple_10yr['Close'].values, label='Apple', color='red')\n",
    "\n",
    "plt.xlabel('Year')\n",
    "plt.ylabel('Close Price')\n",
    "plt.title('Samsung and Apple Stock Prices Over Time')\n",
    "plt.legend()\n",
    "plt.show()"
   ]
  },
  {
   "cell_type": "markdown",
   "metadata": {},
   "source": [
    "The overlaied histogram for closed stock price in both competitor companies shows the highest frequent stock price. For Samsung we see that from what we can perceive in the visualzation, the highest their stock has every sold for was a little below 75 USD and it had to lowest frequency compared to their highest frequented price of less that 25 USD. When looking at Apple we see a broader price range for closed stock price where their lowest frequented price was for 100 USD and their highest was around 25 USD. We previously addressed that Samsung stock generally sells for significantly less, but what we can conclude from what we're seeing in the histogram plot, both companies frequent less at higher closed prices, but frequent more at lower prices. \n",
    "\n",
    "Moving onto the line plot where we see the overlaid plot with stock price for both companies, from 2012 to 2017 they are inversing in price. That is, for example, in 2015 where Apple's stocks increased and Samsung's decreased. Past 2018, Apple' closed stock price increases yearly with some dips in 2020. With Samsung, there was also a small dip in 2020 alongside a significant increase entering 2021 and shorly decreasing once again and inversing Apple's stock price in the process."
   ]
  },
  {
   "cell_type": "markdown",
   "metadata": {},
   "source": [
    "In the cells below, we write code that shows the process of trying to retreive backk the 'Year' column previosuly taken in out and dropping all other columns besides the 'Close' stock price column for both Apple and Samsung. In the end will will only have 11 rows in the 'Apple_Result' and 'Samsung_Result' dataset which include mean prices from 2012-2022."
   ]
  },
  {
   "cell_type": "code",
   "execution_count": 43,
   "metadata": {
    "scrolled": false
   },
   "outputs": [
    {
     "data": {
      "text/html": [
       "<div>\n",
       "<style scoped>\n",
       "    .dataframe tbody tr th:only-of-type {\n",
       "        vertical-align: middle;\n",
       "    }\n",
       "\n",
       "    .dataframe tbody tr th {\n",
       "        vertical-align: top;\n",
       "    }\n",
       "\n",
       "    .dataframe thead th {\n",
       "        text-align: right;\n",
       "    }\n",
       "</style>\n",
       "<table border=\"1\" class=\"dataframe\">\n",
       "  <thead>\n",
       "    <tr style=\"text-align: right;\">\n",
       "      <th></th>\n",
       "      <th>Close</th>\n",
       "      <th>Year</th>\n",
       "    </tr>\n",
       "  </thead>\n",
       "  <tbody>\n",
       "    <tr>\n",
       "      <th>7835</th>\n",
       "      <td>14.686786</td>\n",
       "      <td>2012</td>\n",
       "    </tr>\n",
       "    <tr>\n",
       "      <th>7836</th>\n",
       "      <td>14.765714</td>\n",
       "      <td>2012</td>\n",
       "    </tr>\n",
       "    <tr>\n",
       "      <th>7837</th>\n",
       "      <td>14.929643</td>\n",
       "      <td>2012</td>\n",
       "    </tr>\n",
       "    <tr>\n",
       "      <th>7838</th>\n",
       "      <td>15.085714</td>\n",
       "      <td>2012</td>\n",
       "    </tr>\n",
       "    <tr>\n",
       "      <th>7839</th>\n",
       "      <td>15.061786</td>\n",
       "      <td>2012</td>\n",
       "    </tr>\n",
       "    <tr>\n",
       "      <th>...</th>\n",
       "      <td>...</td>\n",
       "      <td>...</td>\n",
       "    </tr>\n",
       "    <tr>\n",
       "      <th>10444</th>\n",
       "      <td>145.539993</td>\n",
       "      <td>2022</td>\n",
       "    </tr>\n",
       "    <tr>\n",
       "      <th>10445</th>\n",
       "      <td>149.240005</td>\n",
       "      <td>2022</td>\n",
       "    </tr>\n",
       "    <tr>\n",
       "      <th>10446</th>\n",
       "      <td>140.820007</td>\n",
       "      <td>2022</td>\n",
       "    </tr>\n",
       "    <tr>\n",
       "      <th>10447</th>\n",
       "      <td>137.350006</td>\n",
       "      <td>2022</td>\n",
       "    </tr>\n",
       "    <tr>\n",
       "      <th>10448</th>\n",
       "      <td>137.589996</td>\n",
       "      <td>2022</td>\n",
       "    </tr>\n",
       "  </tbody>\n",
       "</table>\n",
       "<p>2614 rows × 2 columns</p>\n",
       "</div>"
      ],
      "text/plain": [
       "            Close  Year\n",
       "7835    14.686786  2012\n",
       "7836    14.765714  2012\n",
       "7837    14.929643  2012\n",
       "7838    15.085714  2012\n",
       "7839    15.061786  2012\n",
       "...           ...   ...\n",
       "10444  145.539993  2022\n",
       "10445  149.240005  2022\n",
       "10446  140.820007  2022\n",
       "10447  137.350006  2022\n",
       "10448  137.589996  2022\n",
       "\n",
       "[2614 rows x 2 columns]"
      ]
     },
     "execution_count": 43,
     "metadata": {},
     "output_type": "execute_result"
    }
   ],
   "source": [
    "Apple_stocks[\"Year\"]=Apple_stocks[\"Date\"].str.split(\"-\").str[0].astype(int)\n",
    "Apple_stocks=Apple_stocks.drop(columns=['Volume', 'Open', 'Adj Close', 'High', 'Low', 'Date'])\n",
    "\n",
    "Apple_closed=Apple_stocks[(Apple_stocks['Year'] >= 2012) & (Apple_stocks['Year'] <= 2022)]\n",
    "\n",
    "Apple_closed"
   ]
  },
  {
   "cell_type": "code",
   "execution_count": 44,
   "metadata": {},
   "outputs": [
    {
     "data": {
      "text/html": [
       "<div>\n",
       "<style scoped>\n",
       "    .dataframe tbody tr th:only-of-type {\n",
       "        vertical-align: middle;\n",
       "    }\n",
       "\n",
       "    .dataframe tbody tr th {\n",
       "        vertical-align: top;\n",
       "    }\n",
       "\n",
       "    .dataframe thead th {\n",
       "        text-align: right;\n",
       "    }\n",
       "</style>\n",
       "<table border=\"1\" class=\"dataframe\">\n",
       "  <thead>\n",
       "    <tr style=\"text-align: right;\">\n",
       "      <th></th>\n",
       "      <th>Year</th>\n",
       "      <th>Close</th>\n",
       "    </tr>\n",
       "  </thead>\n",
       "  <tbody>\n",
       "    <tr>\n",
       "      <th>0</th>\n",
       "      <td>2012</td>\n",
       "      <td>20.573204</td>\n",
       "    </tr>\n",
       "    <tr>\n",
       "      <th>1</th>\n",
       "      <td>2013</td>\n",
       "      <td>16.879817</td>\n",
       "    </tr>\n",
       "    <tr>\n",
       "      <th>2</th>\n",
       "      <td>2014</td>\n",
       "      <td>23.066164</td>\n",
       "    </tr>\n",
       "    <tr>\n",
       "      <th>3</th>\n",
       "      <td>2015</td>\n",
       "      <td>30.010000</td>\n",
       "    </tr>\n",
       "    <tr>\n",
       "      <th>4</th>\n",
       "      <td>2016</td>\n",
       "      <td>26.151002</td>\n",
       "    </tr>\n",
       "    <tr>\n",
       "      <th>5</th>\n",
       "      <td>2017</td>\n",
       "      <td>37.637769</td>\n",
       "    </tr>\n",
       "    <tr>\n",
       "      <th>6</th>\n",
       "      <td>2018</td>\n",
       "      <td>47.263357</td>\n",
       "    </tr>\n",
       "    <tr>\n",
       "      <th>7</th>\n",
       "      <td>2019</td>\n",
       "      <td>52.063988</td>\n",
       "    </tr>\n",
       "    <tr>\n",
       "      <th>8</th>\n",
       "      <td>2020</td>\n",
       "      <td>95.347075</td>\n",
       "    </tr>\n",
       "    <tr>\n",
       "      <th>9</th>\n",
       "      <td>2021</td>\n",
       "      <td>140.989365</td>\n",
       "    </tr>\n",
       "    <tr>\n",
       "      <th>10</th>\n",
       "      <td>2022</td>\n",
       "      <td>165.086083</td>\n",
       "    </tr>\n",
       "  </tbody>\n",
       "</table>\n",
       "</div>"
      ],
      "text/plain": [
       "    Year       Close\n",
       "0   2012   20.573204\n",
       "1   2013   16.879817\n",
       "2   2014   23.066164\n",
       "3   2015   30.010000\n",
       "4   2016   26.151002\n",
       "5   2017   37.637769\n",
       "6   2018   47.263357\n",
       "7   2019   52.063988\n",
       "8   2020   95.347075\n",
       "9   2021  140.989365\n",
       "10  2022  165.086083"
      ]
     },
     "execution_count": 44,
     "metadata": {},
     "output_type": "execute_result"
    }
   ],
   "source": [
    "#.groupby() function used to group each row by 'Year' and finding the mean closed stock price \n",
    "Apple_Result = Apple_closed.groupby('Year')['Close'].mean().reset_index()\n",
    "Apple_Result"
   ]
  },
  {
   "cell_type": "code",
   "execution_count": 45,
   "metadata": {
    "scrolled": false
   },
   "outputs": [
    {
     "data": {
      "text/html": [
       "<div>\n",
       "<style scoped>\n",
       "    .dataframe tbody tr th:only-of-type {\n",
       "        vertical-align: middle;\n",
       "    }\n",
       "\n",
       "    .dataframe tbody tr th {\n",
       "        vertical-align: top;\n",
       "    }\n",
       "\n",
       "    .dataframe thead th {\n",
       "        text-align: right;\n",
       "    }\n",
       "</style>\n",
       "<table border=\"1\" class=\"dataframe\">\n",
       "  <thead>\n",
       "    <tr style=\"text-align: right;\">\n",
       "      <th></th>\n",
       "      <th>Year</th>\n",
       "      <th>Close_USD</th>\n",
       "    </tr>\n",
       "  </thead>\n",
       "  <tbody>\n",
       "    <tr>\n",
       "      <th>3066</th>\n",
       "      <td>2012</td>\n",
       "      <td>16.421400</td>\n",
       "    </tr>\n",
       "    <tr>\n",
       "      <th>3067</th>\n",
       "      <td>2012</td>\n",
       "      <td>16.801525</td>\n",
       "    </tr>\n",
       "    <tr>\n",
       "      <th>3068</th>\n",
       "      <td>2012</td>\n",
       "      <td>16.421400</td>\n",
       "    </tr>\n",
       "    <tr>\n",
       "      <th>3069</th>\n",
       "      <td>2012</td>\n",
       "      <td>16.041275</td>\n",
       "    </tr>\n",
       "    <tr>\n",
       "      <th>3070</th>\n",
       "      <td>2012</td>\n",
       "      <td>15.813200</td>\n",
       "    </tr>\n",
       "    <tr>\n",
       "      <th>...</th>\n",
       "      <td>...</td>\n",
       "      <td>...</td>\n",
       "    </tr>\n",
       "    <tr>\n",
       "      <th>5616</th>\n",
       "      <td>2022</td>\n",
       "      <td>51.392900</td>\n",
       "    </tr>\n",
       "    <tr>\n",
       "      <th>5617</th>\n",
       "      <td>2022</td>\n",
       "      <td>51.773025</td>\n",
       "    </tr>\n",
       "    <tr>\n",
       "      <th>5618</th>\n",
       "      <td>2022</td>\n",
       "      <td>51.316875</td>\n",
       "    </tr>\n",
       "    <tr>\n",
       "      <th>5619</th>\n",
       "      <td>2022</td>\n",
       "      <td>51.697000</td>\n",
       "    </tr>\n",
       "    <tr>\n",
       "      <th>5620</th>\n",
       "      <td>2022</td>\n",
       "      <td>51.620975</td>\n",
       "    </tr>\n",
       "  </tbody>\n",
       "</table>\n",
       "<p>2555 rows × 2 columns</p>\n",
       "</div>"
      ],
      "text/plain": [
       "      Year  Close_USD\n",
       "3066  2012  16.421400\n",
       "3067  2012  16.801525\n",
       "3068  2012  16.421400\n",
       "3069  2012  16.041275\n",
       "3070  2012  15.813200\n",
       "...    ...        ...\n",
       "5616  2022  51.392900\n",
       "5617  2022  51.773025\n",
       "5618  2022  51.316875\n",
       "5619  2022  51.697000\n",
       "5620  2022  51.620975\n",
       "\n",
       "[2555 rows x 2 columns]"
      ]
     },
     "execution_count": 45,
     "metadata": {},
     "output_type": "execute_result"
    }
   ],
   "source": [
    "Samsung_stocks[\"Year\"]=Samsung_stocks[\"Date\"].str.split(\"-\").str[0].astype(int)\n",
    "Samsung_closed=Samsung_stocks[(Samsung_stocks['Year'] >= 2012) & (Samsung_stocks['Year'] <= 2022)]\n",
    "\n",
    "def exchange_change(col):\n",
    "    for col in price_columns:\n",
    "        Samsung_closed[col + '_USD'] = Samsung_closed[col] * 0.00076025\n",
    "        \n",
    "exchange_change(Samsung_closed['Close'])\n",
    "\n",
    "Samsung_closed=Samsung_closed.drop(columns=['Volume', 'Open', 'Adj Close', 'High', 'Low', 'Date', 'Close', 'Open_USD', 'Adj Close_USD', 'High_USD', 'Low_USD'])\n",
    "Samsung_closed"
   ]
  },
  {
   "cell_type": "code",
   "execution_count": 46,
   "metadata": {},
   "outputs": [
    {
     "data": {
      "text/html": [
       "<div>\n",
       "<style scoped>\n",
       "    .dataframe tbody tr th:only-of-type {\n",
       "        vertical-align: middle;\n",
       "    }\n",
       "\n",
       "    .dataframe tbody tr th {\n",
       "        vertical-align: top;\n",
       "    }\n",
       "\n",
       "    .dataframe thead th {\n",
       "        text-align: right;\n",
       "    }\n",
       "</style>\n",
       "<table border=\"1\" class=\"dataframe\">\n",
       "  <thead>\n",
       "    <tr style=\"text-align: right;\">\n",
       "      <th></th>\n",
       "      <th>Year</th>\n",
       "      <th>Close_USD</th>\n",
       "    </tr>\n",
       "  </thead>\n",
       "  <tbody>\n",
       "    <tr>\n",
       "      <th>0</th>\n",
       "      <td>2012</td>\n",
       "      <td>19.169397</td>\n",
       "    </tr>\n",
       "    <tr>\n",
       "      <th>1</th>\n",
       "      <td>2013</td>\n",
       "      <td>21.726837</td>\n",
       "    </tr>\n",
       "    <tr>\n",
       "      <th>2</th>\n",
       "      <td>2014</td>\n",
       "      <td>19.641757</td>\n",
       "    </tr>\n",
       "    <tr>\n",
       "      <th>3</th>\n",
       "      <td>2015</td>\n",
       "      <td>19.744761</td>\n",
       "    </tr>\n",
       "    <tr>\n",
       "      <th>4</th>\n",
       "      <td>2016</td>\n",
       "      <td>21.895262</td>\n",
       "    </tr>\n",
       "    <tr>\n",
       "      <th>5</th>\n",
       "      <td>2017</td>\n",
       "      <td>35.258250</td>\n",
       "    </tr>\n",
       "    <tr>\n",
       "      <th>6</th>\n",
       "      <td>2018</td>\n",
       "      <td>35.602601</td>\n",
       "    </tr>\n",
       "    <tr>\n",
       "      <th>7</th>\n",
       "      <td>2019</td>\n",
       "      <td>35.414979</td>\n",
       "    </tr>\n",
       "    <tr>\n",
       "      <th>8</th>\n",
       "      <td>2020</td>\n",
       "      <td>43.461776</td>\n",
       "    </tr>\n",
       "    <tr>\n",
       "      <th>9</th>\n",
       "      <td>2021</td>\n",
       "      <td>60.178079</td>\n",
       "    </tr>\n",
       "    <tr>\n",
       "      <th>10</th>\n",
       "      <td>2022</td>\n",
       "      <td>54.035791</td>\n",
       "    </tr>\n",
       "  </tbody>\n",
       "</table>\n",
       "</div>"
      ],
      "text/plain": [
       "    Year  Close_USD\n",
       "0   2012  19.169397\n",
       "1   2013  21.726837\n",
       "2   2014  19.641757\n",
       "3   2015  19.744761\n",
       "4   2016  21.895262\n",
       "5   2017  35.258250\n",
       "6   2018  35.602601\n",
       "7   2019  35.414979\n",
       "8   2020  43.461776\n",
       "9   2021  60.178079\n",
       "10  2022  54.035791"
      ]
     },
     "execution_count": 46,
     "metadata": {},
     "output_type": "execute_result"
    }
   ],
   "source": [
    "#.groupby() function used to group each row by 'Year' and finding the mean closed stock price \n",
    "Samsung_Result = Samsung_closed.groupby('Year')['Close_USD'].mean().reset_index()\n",
    "Samsung_Result"
   ]
  },
  {
   "cell_type": "code",
   "execution_count": 47,
   "metadata": {},
   "outputs": [
    {
     "data": {
      "image/png": "[encoded data removed]",
      "text/plain": [
       "<Figure size 1440x720 with 2 Axes>"
      ]
     },
     "metadata": {},
     "output_type": "display_data"
    }
   ],
   "source": [
    "fig, ax = plt.subplots(1, 2, figsize=(20, 10)) \n",
    "sns.lineplot(x=np.array(Samsung_Result['Year']), y=np.array(Samsung_Result['Close_USD']), label='Samsung', ax=ax[0], color='blue')\n",
    "sns.lineplot(x=np.array(Apple_Result['Year']), y=np.array(Apple_Result['Close']), label='Apple', ax=ax[1], color='red')\n",
    "plt.xlabel('Year')\n",
    "plt.ylabel('Employees')\n",
    "plt.suptitle('Samsung and Apple Close Stock Prices Over Time')\n",
    "plt.legend()\n",
    "plt.show()"
   ]
  },
  {
   "cell_type": "markdown",
   "metadata": {},
   "source": [
    "The line plots explain the same trends we seen in the visualizations above, but smoothed and with average closed stock price. That samsung has a positive slope correlation with time with an increase from 2016-2018 and from 2020-2021, and Apple also has a positive slope correlation with a steep increase around the years 2020 to 2022. Even with only showing the mean price of closed stock by year, the plot still exhibit the same trends from the daily price data."
   ]
  },
  {
   "cell_type": "code",
   "execution_count": 48,
   "metadata": {
    "scrolled": false
   },
   "outputs": [
    {
     "data": {
      "image/png": "[encoded data removed]",
      "text/plain": [
       "<Figure size 720x432 with 1 Axes>"
      ]
     },
     "metadata": {},
     "output_type": "display_data"
    }
   ],
   "source": [
    "#Here is an overlapped line plot that shows both the Samsung and Apple employment data\n",
    "#There is no direct relationship with the employment rate of each comapny compared to each other\n",
    "#What we can conclude for now is that Samsung fluctuates more and more varying activity than Apple\n",
    "#Apple's emloyment is constantly increasing\n",
    "\n",
    "plt.figure(figsize=(10, 6))\n",
    "plt.plot(employment['Years'].values, employment['Samsung_Employees'].values, label='Samsung', color='blue')\n",
    "\n",
    "plt.plot(employment['Years'].values, employment['Apple_Employees'].values, label='Apple', color='red')\n",
    "\n",
    "plt.legend()\n",
    "\n",
    "plt.title('Employee Growth and Decay Over Time')\n",
    "plt.xlabel('Year')\n",
    "plt.ylabel('Number of Employees')\n",
    "plt.xticks(rotation=0)\n",
    "plt.show()"
   ]
  },
  {
   "cell_type": "markdown",
   "metadata": {},
   "source": [
    "## Testing"
   ]
  },
  {
   "cell_type": "markdown",
   "metadata": {},
   "source": [
    "Per our hypothesis, we want to prove that there is an inverse relationship between the stocks of Samsung and Apple, with that using employment data. Our group will use. Pearson correlation coefficient to see whether merged data sets for each company will be negative or positive. That is we will merge the following:\n",
    "- Apple yearly average closed stock with Samsung yearly average closed stock\n",
    "- Apple yearly employment with Samsung yearly employment \n",
    "- Apple yearly average closed stock with Apple yearly employment\n",
    "- Samsung yearly average closed stock with Samsung yearly employment\n",
    "\n",
    "In forming these correlation coefficient, our group hopes to find that stocks and employment within a company will be positive while stocks and employment of competitor comapnies will be negative."
   ]
  },
  {
   "cell_type": "code",
   "execution_count": 49,
   "metadata": {},
   "outputs": [],
   "source": [
    "# Changing column name 'Apple_Year' and 'Samsung_Year' to 'Year'\n",
    "col_apple={'Apple_Year':'Year'}\n",
    "col_samsung={'Samsung_Year':'Year'}\n",
    "Apple_Employment.rename(columns=col_apple, inplace=True)\n",
    "Samsung_Employment.rename(columns=col_samsung, inplace=True)"
   ]
  },
  {
   "cell_type": "code",
   "execution_count": 50,
   "metadata": {},
   "outputs": [
    {
     "data": {
      "text/html": [
       "<div>\n",
       "<style scoped>\n",
       "    .dataframe tbody tr th:only-of-type {\n",
       "        vertical-align: middle;\n",
       "    }\n",
       "\n",
       "    .dataframe tbody tr th {\n",
       "        vertical-align: top;\n",
       "    }\n",
       "\n",
       "    .dataframe thead th {\n",
       "        text-align: right;\n",
       "    }\n",
       "</style>\n",
       "<table border=\"1\" class=\"dataframe\">\n",
       "  <thead>\n",
       "    <tr style=\"text-align: right;\">\n",
       "      <th></th>\n",
       "      <th>Year</th>\n",
       "      <th>Close_USD</th>\n",
       "      <th>Samsung_Employees</th>\n",
       "    </tr>\n",
       "  </thead>\n",
       "  <tbody>\n",
       "    <tr>\n",
       "      <th>0</th>\n",
       "      <td>2012</td>\n",
       "      <td>19.169397</td>\n",
       "      <td>235870</td>\n",
       "    </tr>\n",
       "    <tr>\n",
       "      <th>1</th>\n",
       "      <td>2013</td>\n",
       "      <td>21.726837</td>\n",
       "      <td>95798</td>\n",
       "    </tr>\n",
       "    <tr>\n",
       "      <th>2</th>\n",
       "      <td>2014</td>\n",
       "      <td>19.641757</td>\n",
       "      <td>319210</td>\n",
       "    </tr>\n",
       "    <tr>\n",
       "      <th>3</th>\n",
       "      <td>2015</td>\n",
       "      <td>19.744761</td>\n",
       "      <td>325680</td>\n",
       "    </tr>\n",
       "    <tr>\n",
       "      <th>4</th>\n",
       "      <td>2016</td>\n",
       "      <td>21.895262</td>\n",
       "      <td>308750</td>\n",
       "    </tr>\n",
       "    <tr>\n",
       "      <th>5</th>\n",
       "      <td>2017</td>\n",
       "      <td>35.258250</td>\n",
       "      <td>320670</td>\n",
       "    </tr>\n",
       "    <tr>\n",
       "      <th>6</th>\n",
       "      <td>2018</td>\n",
       "      <td>35.602601</td>\n",
       "      <td>309630</td>\n",
       "    </tr>\n",
       "    <tr>\n",
       "      <th>7</th>\n",
       "      <td>2019</td>\n",
       "      <td>35.414979</td>\n",
       "      <td>278000</td>\n",
       "    </tr>\n",
       "    <tr>\n",
       "      <th>8</th>\n",
       "      <td>2020</td>\n",
       "      <td>43.461776</td>\n",
       "      <td>267937</td>\n",
       "    </tr>\n",
       "    <tr>\n",
       "      <th>9</th>\n",
       "      <td>2021</td>\n",
       "      <td>60.178079</td>\n",
       "      <td>266673</td>\n",
       "    </tr>\n",
       "    <tr>\n",
       "      <th>10</th>\n",
       "      <td>2022</td>\n",
       "      <td>54.035791</td>\n",
       "      <td>113604</td>\n",
       "    </tr>\n",
       "  </tbody>\n",
       "</table>\n",
       "</div>"
      ],
      "text/plain": [
       "    Year  Close_USD  Samsung_Employees\n",
       "0   2012  19.169397             235870\n",
       "1   2013  21.726837              95798\n",
       "2   2014  19.641757             319210\n",
       "3   2015  19.744761             325680\n",
       "4   2016  21.895262             308750\n",
       "5   2017  35.258250             320670\n",
       "6   2018  35.602601             309630\n",
       "7   2019  35.414979             278000\n",
       "8   2020  43.461776             267937\n",
       "9   2021  60.178079             266673\n",
       "10  2022  54.035791             113604"
      ]
     },
     "execution_count": 50,
     "metadata": {},
     "output_type": "execute_result"
    }
   ],
   "source": [
    "# Merging Samsung yearly average stock closed stocke price and yearly employment data\n",
    "merged_Samsung=pd.merge(Samsung_Result, Samsung_Employment, on='Year')\n",
    "merged_Samsung"
   ]
  },
  {
   "cell_type": "code",
   "execution_count": 51,
   "metadata": {},
   "outputs": [
    {
     "data": {
      "text/plain": [
       "-0.21421207400035028"
      ]
     },
     "execution_count": 51,
     "metadata": {},
     "output_type": "execute_result"
    }
   ],
   "source": [
    "# Pearson correlation coefficient to figure out polarity of relationship\n",
    "correlation_coefficient_Samsung = np.corrcoef(merged_Samsung['Samsung_Employees'], merged_Samsung['Close_USD'])[0, 1]\n",
    "correlation_coefficient_Samsung"
   ]
  },
  {
   "cell_type": "code",
   "execution_count": 52,
   "metadata": {
    "scrolled": true
   },
   "outputs": [
    {
     "data": {
      "text/html": [
       "<div>\n",
       "<style scoped>\n",
       "    .dataframe tbody tr th:only-of-type {\n",
       "        vertical-align: middle;\n",
       "    }\n",
       "\n",
       "    .dataframe tbody tr th {\n",
       "        vertical-align: top;\n",
       "    }\n",
       "\n",
       "    .dataframe thead th {\n",
       "        text-align: right;\n",
       "    }\n",
       "</style>\n",
       "<table border=\"1\" class=\"dataframe\">\n",
       "  <thead>\n",
       "    <tr style=\"text-align: right;\">\n",
       "      <th></th>\n",
       "      <th>Year</th>\n",
       "      <th>Close</th>\n",
       "      <th>Apple_Employees</th>\n",
       "    </tr>\n",
       "  </thead>\n",
       "  <tbody>\n",
       "    <tr>\n",
       "      <th>0</th>\n",
       "      <td>2012</td>\n",
       "      <td>20.573204</td>\n",
       "      <td>72800</td>\n",
       "    </tr>\n",
       "    <tr>\n",
       "      <th>1</th>\n",
       "      <td>2013</td>\n",
       "      <td>16.879817</td>\n",
       "      <td>80300</td>\n",
       "    </tr>\n",
       "    <tr>\n",
       "      <th>2</th>\n",
       "      <td>2014</td>\n",
       "      <td>23.066164</td>\n",
       "      <td>92600</td>\n",
       "    </tr>\n",
       "    <tr>\n",
       "      <th>3</th>\n",
       "      <td>2015</td>\n",
       "      <td>30.010000</td>\n",
       "      <td>110000</td>\n",
       "    </tr>\n",
       "    <tr>\n",
       "      <th>4</th>\n",
       "      <td>2016</td>\n",
       "      <td>26.151002</td>\n",
       "      <td>116000</td>\n",
       "    </tr>\n",
       "    <tr>\n",
       "      <th>5</th>\n",
       "      <td>2017</td>\n",
       "      <td>37.637769</td>\n",
       "      <td>123000</td>\n",
       "    </tr>\n",
       "    <tr>\n",
       "      <th>6</th>\n",
       "      <td>2018</td>\n",
       "      <td>47.263357</td>\n",
       "      <td>132000</td>\n",
       "    </tr>\n",
       "    <tr>\n",
       "      <th>7</th>\n",
       "      <td>2019</td>\n",
       "      <td>52.063988</td>\n",
       "      <td>137000</td>\n",
       "    </tr>\n",
       "    <tr>\n",
       "      <th>8</th>\n",
       "      <td>2020</td>\n",
       "      <td>95.347075</td>\n",
       "      <td>147000</td>\n",
       "    </tr>\n",
       "    <tr>\n",
       "      <th>9</th>\n",
       "      <td>2021</td>\n",
       "      <td>140.989365</td>\n",
       "      <td>154000</td>\n",
       "    </tr>\n",
       "    <tr>\n",
       "      <th>10</th>\n",
       "      <td>2022</td>\n",
       "      <td>165.086083</td>\n",
       "      <td>164000</td>\n",
       "    </tr>\n",
       "  </tbody>\n",
       "</table>\n",
       "</div>"
      ],
      "text/plain": [
       "    Year       Close  Apple_Employees\n",
       "0   2012   20.573204            72800\n",
       "1   2013   16.879817            80300\n",
       "2   2014   23.066164            92600\n",
       "3   2015   30.010000           110000\n",
       "4   2016   26.151002           116000\n",
       "5   2017   37.637769           123000\n",
       "6   2018   47.263357           132000\n",
       "7   2019   52.063988           137000\n",
       "8   2020   95.347075           147000\n",
       "9   2021  140.989365           154000\n",
       "10  2022  165.086083           164000"
      ]
     },
     "execution_count": 52,
     "metadata": {},
     "output_type": "execute_result"
    }
   ],
   "source": [
    "# Merging Apple yearly average stock closed stocke price and yearly employment data\n",
    "merged_Apple=pd.merge(Apple_Result, Apple_Employment, on='Year')\n",
    "merged_Apple"
   ]
  },
  {
   "cell_type": "code",
   "execution_count": 53,
   "metadata": {},
   "outputs": [
    {
     "data": {
      "text/plain": [
       "0.8469199547808521"
      ]
     },
     "execution_count": 53,
     "metadata": {},
     "output_type": "execute_result"
    }
   ],
   "source": [
    "# Pearson correlation coefficient to figure out polarity of relationship\n",
    "correlation_coefficient_Apple = np.corrcoef(merged_Apple['Apple_Employees'], merged_Apple['Close'])[0, 1]\n",
    "correlation_coefficient_Apple"
   ]
  },
  {
   "cell_type": "code",
   "execution_count": 54,
   "metadata": {
    "scrolled": false
   },
   "outputs": [
    {
     "data": {
      "text/html": [
       "<div>\n",
       "<style scoped>\n",
       "    .dataframe tbody tr th:only-of-type {\n",
       "        vertical-align: middle;\n",
       "    }\n",
       "\n",
       "    .dataframe tbody tr th {\n",
       "        vertical-align: top;\n",
       "    }\n",
       "\n",
       "    .dataframe thead th {\n",
       "        text-align: right;\n",
       "    }\n",
       "</style>\n",
       "<table border=\"1\" class=\"dataframe\">\n",
       "  <thead>\n",
       "    <tr style=\"text-align: right;\">\n",
       "      <th></th>\n",
       "      <th>Year</th>\n",
       "      <th>Close</th>\n",
       "      <th>Close_USD</th>\n",
       "    </tr>\n",
       "  </thead>\n",
       "  <tbody>\n",
       "    <tr>\n",
       "      <th>0</th>\n",
       "      <td>2012</td>\n",
       "      <td>20.573204</td>\n",
       "      <td>19.169397</td>\n",
       "    </tr>\n",
       "    <tr>\n",
       "      <th>1</th>\n",
       "      <td>2013</td>\n",
       "      <td>16.879817</td>\n",
       "      <td>21.726837</td>\n",
       "    </tr>\n",
       "    <tr>\n",
       "      <th>2</th>\n",
       "      <td>2014</td>\n",
       "      <td>23.066164</td>\n",
       "      <td>19.641757</td>\n",
       "    </tr>\n",
       "    <tr>\n",
       "      <th>3</th>\n",
       "      <td>2015</td>\n",
       "      <td>30.010000</td>\n",
       "      <td>19.744761</td>\n",
       "    </tr>\n",
       "    <tr>\n",
       "      <th>4</th>\n",
       "      <td>2016</td>\n",
       "      <td>26.151002</td>\n",
       "      <td>21.895262</td>\n",
       "    </tr>\n",
       "    <tr>\n",
       "      <th>5</th>\n",
       "      <td>2017</td>\n",
       "      <td>37.637769</td>\n",
       "      <td>35.258250</td>\n",
       "    </tr>\n",
       "    <tr>\n",
       "      <th>6</th>\n",
       "      <td>2018</td>\n",
       "      <td>47.263357</td>\n",
       "      <td>35.602601</td>\n",
       "    </tr>\n",
       "    <tr>\n",
       "      <th>7</th>\n",
       "      <td>2019</td>\n",
       "      <td>52.063988</td>\n",
       "      <td>35.414979</td>\n",
       "    </tr>\n",
       "    <tr>\n",
       "      <th>8</th>\n",
       "      <td>2020</td>\n",
       "      <td>95.347075</td>\n",
       "      <td>43.461776</td>\n",
       "    </tr>\n",
       "    <tr>\n",
       "      <th>9</th>\n",
       "      <td>2021</td>\n",
       "      <td>140.989365</td>\n",
       "      <td>60.178079</td>\n",
       "    </tr>\n",
       "    <tr>\n",
       "      <th>10</th>\n",
       "      <td>2022</td>\n",
       "      <td>165.086083</td>\n",
       "      <td>54.035791</td>\n",
       "    </tr>\n",
       "  </tbody>\n",
       "</table>\n",
       "</div>"
      ],
      "text/plain": [
       "    Year       Close  Close_USD\n",
       "0   2012   20.573204  19.169397\n",
       "1   2013   16.879817  21.726837\n",
       "2   2014   23.066164  19.641757\n",
       "3   2015   30.010000  19.744761\n",
       "4   2016   26.151002  21.895262\n",
       "5   2017   37.637769  35.258250\n",
       "6   2018   47.263357  35.602601\n",
       "7   2019   52.063988  35.414979\n",
       "8   2020   95.347075  43.461776\n",
       "9   2021  140.989365  60.178079\n",
       "10  2022  165.086083  54.035791"
      ]
     },
     "execution_count": 54,
     "metadata": {},
     "output_type": "execute_result"
    }
   ],
   "source": [
    "# Merging Apple and Samsung yearly average stock closed stocke price\n",
    "merged_Results=pd.merge(Apple_Result, Samsung_Result, on='Year')\n",
    "merged_Results"
   ]
  },
  {
   "cell_type": "code",
   "execution_count": 55,
   "metadata": {},
   "outputs": [
    {
     "data": {
      "text/plain": [
       "0.93652115821672"
      ]
     },
     "execution_count": 55,
     "metadata": {},
     "output_type": "execute_result"
    }
   ],
   "source": [
    "# Pearson correlation coefficient to figure out polarity of relationship\n",
    "correlation_coefficient_Results = np.corrcoef(merged_Results['Close'], merged_Results['Close_USD'])[0, 1]\n",
    "correlation_coefficient_Results"
   ]
  },
  {
   "cell_type": "code",
   "execution_count": 56,
   "metadata": {
    "scrolled": false
   },
   "outputs": [
    {
     "data": {
      "text/html": [
       "<div>\n",
       "<style scoped>\n",
       "    .dataframe tbody tr th:only-of-type {\n",
       "        vertical-align: middle;\n",
       "    }\n",
       "\n",
       "    .dataframe tbody tr th {\n",
       "        vertical-align: top;\n",
       "    }\n",
       "\n",
       "    .dataframe thead th {\n",
       "        text-align: right;\n",
       "    }\n",
       "</style>\n",
       "<table border=\"1\" class=\"dataframe\">\n",
       "  <thead>\n",
       "    <tr style=\"text-align: right;\">\n",
       "      <th></th>\n",
       "      <th>Year</th>\n",
       "      <th>Apple_Employees</th>\n",
       "      <th>Samsung_Employees</th>\n",
       "    </tr>\n",
       "  </thead>\n",
       "  <tbody>\n",
       "    <tr>\n",
       "      <th>0</th>\n",
       "      <td>2009</td>\n",
       "      <td>34300</td>\n",
       "      <td>157700</td>\n",
       "    </tr>\n",
       "    <tr>\n",
       "      <th>1</th>\n",
       "      <td>2010</td>\n",
       "      <td>46600</td>\n",
       "      <td>190460</td>\n",
       "    </tr>\n",
       "    <tr>\n",
       "      <th>2</th>\n",
       "      <td>2011</td>\n",
       "      <td>60400</td>\n",
       "      <td>221730</td>\n",
       "    </tr>\n",
       "    <tr>\n",
       "      <th>3</th>\n",
       "      <td>2012</td>\n",
       "      <td>72800</td>\n",
       "      <td>235870</td>\n",
       "    </tr>\n",
       "    <tr>\n",
       "      <th>4</th>\n",
       "      <td>2013</td>\n",
       "      <td>80300</td>\n",
       "      <td>95798</td>\n",
       "    </tr>\n",
       "    <tr>\n",
       "      <th>5</th>\n",
       "      <td>2014</td>\n",
       "      <td>92600</td>\n",
       "      <td>319210</td>\n",
       "    </tr>\n",
       "    <tr>\n",
       "      <th>6</th>\n",
       "      <td>2015</td>\n",
       "      <td>110000</td>\n",
       "      <td>325680</td>\n",
       "    </tr>\n",
       "    <tr>\n",
       "      <th>7</th>\n",
       "      <td>2016</td>\n",
       "      <td>116000</td>\n",
       "      <td>308750</td>\n",
       "    </tr>\n",
       "    <tr>\n",
       "      <th>8</th>\n",
       "      <td>2017</td>\n",
       "      <td>123000</td>\n",
       "      <td>320670</td>\n",
       "    </tr>\n",
       "    <tr>\n",
       "      <th>9</th>\n",
       "      <td>2018</td>\n",
       "      <td>132000</td>\n",
       "      <td>309630</td>\n",
       "    </tr>\n",
       "    <tr>\n",
       "      <th>10</th>\n",
       "      <td>2019</td>\n",
       "      <td>137000</td>\n",
       "      <td>278000</td>\n",
       "    </tr>\n",
       "    <tr>\n",
       "      <th>11</th>\n",
       "      <td>2020</td>\n",
       "      <td>147000</td>\n",
       "      <td>267937</td>\n",
       "    </tr>\n",
       "    <tr>\n",
       "      <th>12</th>\n",
       "      <td>2021</td>\n",
       "      <td>154000</td>\n",
       "      <td>266673</td>\n",
       "    </tr>\n",
       "    <tr>\n",
       "      <th>13</th>\n",
       "      <td>2022</td>\n",
       "      <td>164000</td>\n",
       "      <td>113604</td>\n",
       "    </tr>\n",
       "    <tr>\n",
       "      <th>14</th>\n",
       "      <td>2023</td>\n",
       "      <td>161000</td>\n",
       "      <td>113604</td>\n",
       "    </tr>\n",
       "  </tbody>\n",
       "</table>\n",
       "</div>"
      ],
      "text/plain": [
       "    Year  Apple_Employees  Samsung_Employees\n",
       "0   2009            34300             157700\n",
       "1   2010            46600             190460\n",
       "2   2011            60400             221730\n",
       "3   2012            72800             235870\n",
       "4   2013            80300              95798\n",
       "5   2014            92600             319210\n",
       "6   2015           110000             325680\n",
       "7   2016           116000             308750\n",
       "8   2017           123000             320670\n",
       "9   2018           132000             309630\n",
       "10  2019           137000             278000\n",
       "11  2020           147000             267937\n",
       "12  2021           154000             266673\n",
       "13  2022           164000             113604\n",
       "14  2023           161000             113604"
      ]
     },
     "execution_count": 56,
     "metadata": {},
     "output_type": "execute_result"
    }
   ],
   "source": [
    "# Merging Apple and Samsung yearly employment data\n",
    "merged_Employment=pd.merge(Apple_Employment, Samsung_Employment, on='Year')\n",
    "merged_Employment"
   ]
  },
  {
   "cell_type": "code",
   "execution_count": 57,
   "metadata": {
    "scrolled": true
   },
   "outputs": [
    {
     "data": {
      "text/plain": [
       "0.12741961390285927"
      ]
     },
     "execution_count": 57,
     "metadata": {},
     "output_type": "execute_result"
    }
   ],
   "source": [
    "# Pearson correlation coefficient to figure out polarity of relationship\n",
    "correlation_coefficient_Employment = np.corrcoef(merged_Employment['Apple_Employees'], merged_Employment['Samsung_Employees'])[0, 1]\n",
    "correlation_coefficient_Employment"
   ]
  },
  {
   "cell_type": "markdown",
   "metadata": {},
   "source": [
    "Next steps: Our question aims to find a significant relationship between stocks at Apple and at Samsung within a 10 year period from 2012 to 2022. Not only that, but one of our goals was to try to see if we could use employment data alongside stock data to build a predictive model to help others decide which stock is more worth purchasing. The reason for our decision in using employment data is because you can determine the security in a company in the amount of employees they keep. The logic is that if a company looses a significant amount of employees or has a severe dip in employment rate, then you can conclude they are not as secure of a company to invest in that moment as they would be required to downsize for some reason and vise versa. For our predictive model, we are looking for a function that can take an input and run it through a loop of boolean variables which would give the user an idea of the risk in stock purchase. The function would first see if an average stock price has either increased or decreased, this would be by using daily stock data. From there, it will take yearly employment numbers to see if the company has grown or shrunk by any value within the last year. The function would then reuturn a statement such as 'Stock secure' or 'Stock NOT secure'. "
   ]
  },
  {
   "cell_type": "markdown",
   "metadata": {},
   "source": [
    "Idealy this is what we are looking for but due to the limitations in data and our model we can only try our best and see what we can do for the predictive analysis..."
   ]
  },
  {
   "cell_type": "markdown",
   "metadata": {},
   "source": [
    "## Analysis 2: Predictive Model"
   ]
  },
  {
   "cell_type": "markdown",
   "metadata": {},
   "source": [
    "lets first examine the data we have to decide on what kind of predictive anlysis we can do."
   ]
  },
  {
   "cell_type": "code",
   "execution_count": 58,
   "metadata": {
    "scrolled": false
   },
   "outputs": [
    {
     "data": {
      "text/html": [
       "<div>\n",
       "<style scoped>\n",
       "    .dataframe tbody tr th:only-of-type {\n",
       "        vertical-align: middle;\n",
       "    }\n",
       "\n",
       "    .dataframe tbody tr th {\n",
       "        vertical-align: top;\n",
       "    }\n",
       "\n",
       "    .dataframe thead th {\n",
       "        text-align: right;\n",
       "    }\n",
       "</style>\n",
       "<table border=\"1\" class=\"dataframe\">\n",
       "  <thead>\n",
       "    <tr style=\"text-align: right;\">\n",
       "      <th></th>\n",
       "      <th>Date</th>\n",
       "      <th>Volume</th>\n",
       "      <th>Open_USD</th>\n",
       "      <th>High_USD</th>\n",
       "      <th>Low_USD</th>\n",
       "      <th>Close_USD</th>\n",
       "      <th>Adj Close_USD</th>\n",
       "    </tr>\n",
       "  </thead>\n",
       "  <tbody>\n",
       "    <tr>\n",
       "      <th>3066</th>\n",
       "      <td>2012-01-02</td>\n",
       "      <td>13151350</td>\n",
       "      <td>16.269350</td>\n",
       "      <td>16.421400</td>\n",
       "      <td>16.193325</td>\n",
       "      <td>16.421400</td>\n",
       "      <td>13.304619</td>\n",
       "    </tr>\n",
       "    <tr>\n",
       "      <th>3067</th>\n",
       "      <td>2012-01-03</td>\n",
       "      <td>16927750</td>\n",
       "      <td>16.619065</td>\n",
       "      <td>16.801525</td>\n",
       "      <td>16.603860</td>\n",
       "      <td>16.801525</td>\n",
       "      <td>13.612593</td>\n",
       "    </tr>\n",
       "    <tr>\n",
       "      <th>3068</th>\n",
       "      <td>2012-01-04</td>\n",
       "      <td>17103700</td>\n",
       "      <td>16.801525</td>\n",
       "      <td>16.877550</td>\n",
       "      <td>16.345375</td>\n",
       "      <td>16.421400</td>\n",
       "      <td>13.304619</td>\n",
       "    </tr>\n",
       "  </tbody>\n",
       "</table>\n",
       "</div>"
      ],
      "text/plain": [
       "           Date    Volume   Open_USD   High_USD    Low_USD  Close_USD  \\\n",
       "3066 2012-01-02  13151350  16.269350  16.421400  16.193325  16.421400   \n",
       "3067 2012-01-03  16927750  16.619065  16.801525  16.603860  16.801525   \n",
       "3068 2012-01-04  17103700  16.801525  16.877550  16.345375  16.421400   \n",
       "\n",
       "      Adj Close_USD  \n",
       "3066      13.304619  \n",
       "3067      13.612593  \n",
       "3068      13.304619  "
      ]
     },
     "execution_count": 58,
     "metadata": {},
     "output_type": "execute_result"
    }
   ],
   "source": [
    "#first few rows of our samsung data from 2012 to 2022\n",
    "Samsung_10yr[0:3]"
   ]
  },
  {
   "cell_type": "code",
   "execution_count": 59,
   "metadata": {},
   "outputs": [
    {
     "data": {
      "text/html": [
       "<div>\n",
       "<style scoped>\n",
       "    .dataframe tbody tr th:only-of-type {\n",
       "        vertical-align: middle;\n",
       "    }\n",
       "\n",
       "    .dataframe tbody tr th {\n",
       "        vertical-align: top;\n",
       "    }\n",
       "\n",
       "    .dataframe thead th {\n",
       "        text-align: right;\n",
       "    }\n",
       "</style>\n",
       "<table border=\"1\" class=\"dataframe\">\n",
       "  <thead>\n",
       "    <tr style=\"text-align: right;\">\n",
       "      <th></th>\n",
       "      <th>Date</th>\n",
       "      <th>Open</th>\n",
       "      <th>High</th>\n",
       "      <th>Low</th>\n",
       "      <th>Close</th>\n",
       "      <th>Adj Close</th>\n",
       "      <th>Volume</th>\n",
       "    </tr>\n",
       "  </thead>\n",
       "  <tbody>\n",
       "    <tr>\n",
       "      <th>7835</th>\n",
       "      <td>2012-01-03</td>\n",
       "      <td>14.621429</td>\n",
       "      <td>14.732143</td>\n",
       "      <td>14.607143</td>\n",
       "      <td>14.686786</td>\n",
       "      <td>12.557465</td>\n",
       "      <td>302220800</td>\n",
       "    </tr>\n",
       "    <tr>\n",
       "      <th>7836</th>\n",
       "      <td>2012-01-04</td>\n",
       "      <td>14.642857</td>\n",
       "      <td>14.810000</td>\n",
       "      <td>14.617143</td>\n",
       "      <td>14.765714</td>\n",
       "      <td>12.624950</td>\n",
       "      <td>260022000</td>\n",
       "    </tr>\n",
       "    <tr>\n",
       "      <th>7837</th>\n",
       "      <td>2012-01-05</td>\n",
       "      <td>14.819643</td>\n",
       "      <td>14.948214</td>\n",
       "      <td>14.738214</td>\n",
       "      <td>14.929643</td>\n",
       "      <td>12.765111</td>\n",
       "      <td>271269600</td>\n",
       "    </tr>\n",
       "  </tbody>\n",
       "</table>\n",
       "</div>"
      ],
      "text/plain": [
       "           Date       Open       High        Low      Close  Adj Close  \\\n",
       "7835 2012-01-03  14.621429  14.732143  14.607143  14.686786  12.557465   \n",
       "7836 2012-01-04  14.642857  14.810000  14.617143  14.765714  12.624950   \n",
       "7837 2012-01-05  14.819643  14.948214  14.738214  14.929643  12.765111   \n",
       "\n",
       "         Volume  \n",
       "7835  302220800  \n",
       "7836  260022000  \n",
       "7837  271269600  "
      ]
     },
     "execution_count": 59,
     "metadata": {},
     "output_type": "execute_result"
    }
   ],
   "source": [
    "#first few rows of our apple data from 2012 to 2022\n",
    "Apple_10yr[0:3]"
   ]
  },
  {
   "cell_type": "code",
   "execution_count": 60,
   "metadata": {},
   "outputs": [
    {
     "data": {
      "text/plain": [
       "(11, 3)"
      ]
     },
     "execution_count": 60,
     "metadata": {},
     "output_type": "execute_result"
    }
   ],
   "source": [
    "# first few rows of our apple and samsung employment data from 2012 to 2022\n",
    "employment.shape"
   ]
  },
  {
   "cell_type": "markdown",
   "metadata": {},
   "source": [
    "#### Limitation 1:\n",
    "By examining the data, we see that for our employment data since we only have 11 rows, it doesnt really make sense to do a predictive analysis on it. We would not have enough data to split the in to train, test and validation sets. "
   ]
  },
  {
   "cell_type": "code",
   "execution_count": 61,
   "metadata": {},
   "outputs": [
    {
     "data": {
      "text/plain": [
       "(2555, 2614)"
      ]
     },
     "execution_count": 61,
     "metadata": {},
     "output_type": "execute_result"
    }
   ],
   "source": [
    "Samsung_10yr.shape[0],Apple_10yr.shape[0]"
   ]
  },
  {
   "cell_type": "markdown",
   "metadata": {},
   "source": [
    "We can see that we do have enough data to try to do somthing on the samsung and apple 2012-2022 dataset. What we can try to do is to see if the apple trends can help us predict samsung trends. Also,it wouldn't make sense to look at daily stock data because daily values will not provide a lot of insights, especially for long-term investment strategies. There ill be a lot of noise in it. So lets take a look at it monthly and we will look at the open usd for both companies to be consistant with the values."
   ]
  },
  {
   "cell_type": "code",
   "execution_count": 62,
   "metadata": {},
   "outputs": [],
   "source": [
    "df_samsung=Samsung_10yr[[\"Date\",\"Open_USD\"]]"
   ]
  },
  {
   "cell_type": "code",
   "execution_count": 63,
   "metadata": {},
   "outputs": [],
   "source": [
    "# these are the columns we are interested in looking at\n",
    "df_apple=Apple_10yr[[\"Date\",\"Open\"]]"
   ]
  },
  {
   "cell_type": "markdown",
   "metadata": {},
   "source": [
    "#### goal: \n",
    "creat a predictive model to see if monthly changes in Apple's stock prices can predict the direction of changes in Samsung's stock prices. "
   ]
  },
  {
   "cell_type": "code",
   "execution_count": 64,
   "metadata": {},
   "outputs": [],
   "source": [
    "df_samsung['Date'] = pd.to_datetime(df_samsung['Date'])\n",
    "df_apple['Date'] = pd.to_datetime(df_apple['Date'])"
   ]
  },
  {
   "cell_type": "code",
   "execution_count": 65,
   "metadata": {},
   "outputs": [],
   "source": [
    "# add a year month column\n",
    "df_samsung['Year'] = df_samsung['Date'].dt.year\n",
    "df_apple['Year'] = df_apple['Date'].dt.year\n",
    "df_samsung['Month'] = df_samsung['Date'].dt.month\n",
    "df_apple['Month'] = df_apple['Date'].dt.month"
   ]
  },
  {
   "cell_type": "code",
   "execution_count": 66,
   "metadata": {},
   "outputs": [],
   "source": [
    "# group by year and month to get monthly average for 2012-2022\n",
    "samsung_monthly=df_samsung.groupby(['Year', 'Month']).mean()\n",
    "apple_monthly=df_apple.groupby(['Year', 'Month']).mean()"
   ]
  },
  {
   "cell_type": "code",
   "execution_count": 67,
   "metadata": {},
   "outputs": [
    {
     "data": {
      "text/html": [
       "<div>\n",
       "<style scoped>\n",
       "    .dataframe tbody tr th:only-of-type {\n",
       "        vertical-align: middle;\n",
       "    }\n",
       "\n",
       "    .dataframe tbody tr th {\n",
       "        vertical-align: top;\n",
       "    }\n",
       "\n",
       "    .dataframe thead th {\n",
       "        text-align: right;\n",
       "    }\n",
       "</style>\n",
       "<table border=\"1\" class=\"dataframe\">\n",
       "  <thead>\n",
       "    <tr style=\"text-align: right;\">\n",
       "      <th></th>\n",
       "      <th></th>\n",
       "      <th>Date</th>\n",
       "      <th>Open_USD</th>\n",
       "    </tr>\n",
       "    <tr>\n",
       "      <th>Year</th>\n",
       "      <th>Month</th>\n",
       "      <th></th>\n",
       "      <th></th>\n",
       "    </tr>\n",
       "  </thead>\n",
       "  <tbody>\n",
       "    <tr>\n",
       "      <th rowspan=\"5\" valign=\"top\">2012</th>\n",
       "      <th>1</th>\n",
       "      <td>2012-01-15 04:48:00.000000000</td>\n",
       "      <td>16.224495</td>\n",
       "    </tr>\n",
       "    <tr>\n",
       "      <th>2</th>\n",
       "      <td>2012-02-15 00:00:00.000000000</td>\n",
       "      <td>17.128795</td>\n",
       "    </tr>\n",
       "    <tr>\n",
       "      <th>3</th>\n",
       "      <td>2012-03-16 18:17:08.571428608</td>\n",
       "      <td>18.794104</td>\n",
       "    </tr>\n",
       "    <tr>\n",
       "      <th>4</th>\n",
       "      <td>2012-04-15 10:48:00.000000000</td>\n",
       "      <td>19.790828</td>\n",
       "    </tr>\n",
       "    <tr>\n",
       "      <th>5</th>\n",
       "      <td>2012-05-16 03:25:42.857142784</td>\n",
       "      <td>19.545665</td>\n",
       "    </tr>\n",
       "    <tr>\n",
       "      <th>...</th>\n",
       "      <th>...</th>\n",
       "      <td>...</td>\n",
       "      <td>...</td>\n",
       "    </tr>\n",
       "    <tr>\n",
       "      <th rowspan=\"5\" valign=\"top\">2022</th>\n",
       "      <th>1</th>\n",
       "      <td>2022-01-16 03:47:22.105263104</td>\n",
       "      <td>58.355189</td>\n",
       "    </tr>\n",
       "    <tr>\n",
       "      <th>2</th>\n",
       "      <td>2022-02-15 06:40:00.000000000</td>\n",
       "      <td>56.224711</td>\n",
       "    </tr>\n",
       "    <tr>\n",
       "      <th>3</th>\n",
       "      <td>2022-03-17 01:08:34.285714176</td>\n",
       "      <td>53.525220</td>\n",
       "    </tr>\n",
       "    <tr>\n",
       "      <th>4</th>\n",
       "      <td>2022-04-15 18:17:08.571428608</td>\n",
       "      <td>51.255331</td>\n",
       "    </tr>\n",
       "    <tr>\n",
       "      <th>5</th>\n",
       "      <td>2022-05-12 10:17:08.571428608</td>\n",
       "      <td>50.828143</td>\n",
       "    </tr>\n",
       "  </tbody>\n",
       "</table>\n",
       "<p>125 rows × 2 columns</p>\n",
       "</div>"
      ],
      "text/plain": [
       "                                    Date   Open_USD\n",
       "Year Month                                         \n",
       "2012 1     2012-01-15 04:48:00.000000000  16.224495\n",
       "     2     2012-02-15 00:00:00.000000000  17.128795\n",
       "     3     2012-03-16 18:17:08.571428608  18.794104\n",
       "     4     2012-04-15 10:48:00.000000000  19.790828\n",
       "     5     2012-05-16 03:25:42.857142784  19.545665\n",
       "...                                  ...        ...\n",
       "2022 1     2022-01-16 03:47:22.105263104  58.355189\n",
       "     2     2022-02-15 06:40:00.000000000  56.224711\n",
       "     3     2022-03-17 01:08:34.285714176  53.525220\n",
       "     4     2022-04-15 18:17:08.571428608  51.255331\n",
       "     5     2022-05-12 10:17:08.571428608  50.828143\n",
       "\n",
       "[125 rows x 2 columns]"
      ]
     },
     "execution_count": 67,
     "metadata": {},
     "output_type": "execute_result"
    }
   ],
   "source": [
    "samsung_monthly"
   ]
  },
  {
   "cell_type": "code",
   "execution_count": 68,
   "metadata": {
    "scrolled": true
   },
   "outputs": [
    {
     "data": {
      "text/html": [
       "<div>\n",
       "<style scoped>\n",
       "    .dataframe tbody tr th:only-of-type {\n",
       "        vertical-align: middle;\n",
       "    }\n",
       "\n",
       "    .dataframe tbody tr th {\n",
       "        vertical-align: top;\n",
       "    }\n",
       "\n",
       "    .dataframe thead th {\n",
       "        text-align: right;\n",
       "    }\n",
       "</style>\n",
       "<table border=\"1\" class=\"dataframe\">\n",
       "  <thead>\n",
       "    <tr style=\"text-align: right;\">\n",
       "      <th></th>\n",
       "      <th>Year</th>\n",
       "      <th>Month</th>\n",
       "      <th>Date</th>\n",
       "      <th>Open_USD</th>\n",
       "    </tr>\n",
       "  </thead>\n",
       "  <tbody>\n",
       "    <tr>\n",
       "      <th>0</th>\n",
       "      <td>2012</td>\n",
       "      <td>1</td>\n",
       "      <td>2012-01-15 04:48:00.000000000</td>\n",
       "      <td>16.224495</td>\n",
       "    </tr>\n",
       "    <tr>\n",
       "      <th>1</th>\n",
       "      <td>2012</td>\n",
       "      <td>2</td>\n",
       "      <td>2012-02-15 00:00:00.000000000</td>\n",
       "      <td>17.128795</td>\n",
       "    </tr>\n",
       "    <tr>\n",
       "      <th>2</th>\n",
       "      <td>2012</td>\n",
       "      <td>3</td>\n",
       "      <td>2012-03-16 18:17:08.571428608</td>\n",
       "      <td>18.794104</td>\n",
       "    </tr>\n",
       "    <tr>\n",
       "      <th>3</th>\n",
       "      <td>2012</td>\n",
       "      <td>4</td>\n",
       "      <td>2012-04-15 10:48:00.000000000</td>\n",
       "      <td>19.790828</td>\n",
       "    </tr>\n",
       "    <tr>\n",
       "      <th>4</th>\n",
       "      <td>2012</td>\n",
       "      <td>5</td>\n",
       "      <td>2012-05-16 03:25:42.857142784</td>\n",
       "      <td>19.545665</td>\n",
       "    </tr>\n",
       "  </tbody>\n",
       "</table>\n",
       "</div>"
      ],
      "text/plain": [
       "   Year  Month                          Date   Open_USD\n",
       "0  2012      1 2012-01-15 04:48:00.000000000  16.224495\n",
       "1  2012      2 2012-02-15 00:00:00.000000000  17.128795\n",
       "2  2012      3 2012-03-16 18:17:08.571428608  18.794104\n",
       "3  2012      4 2012-04-15 10:48:00.000000000  19.790828\n",
       "4  2012      5 2012-05-16 03:25:42.857142784  19.545665"
      ]
     },
     "execution_count": 68,
     "metadata": {},
     "output_type": "execute_result"
    }
   ],
   "source": [
    "# want to flatten the data so its easier to merge\n",
    "samsung_monthly_flat = samsung_monthly.reset_index()\n",
    "apple_monthly_flat = apple_monthly.reset_index()\n",
    "samsung_monthly_flat[0:5]"
   ]
  },
  {
   "cell_type": "code",
   "execution_count": 69,
   "metadata": {},
   "outputs": [
    {
     "data": {
      "text/html": [
       "<div>\n",
       "<style scoped>\n",
       "    .dataframe tbody tr th:only-of-type {\n",
       "        vertical-align: middle;\n",
       "    }\n",
       "\n",
       "    .dataframe tbody tr th {\n",
       "        vertical-align: top;\n",
       "    }\n",
       "\n",
       "    .dataframe thead th {\n",
       "        text-align: right;\n",
       "    }\n",
       "</style>\n",
       "<table border=\"1\" class=\"dataframe\">\n",
       "  <thead>\n",
       "    <tr style=\"text-align: right;\">\n",
       "      <th></th>\n",
       "      <th>Year</th>\n",
       "      <th>Month</th>\n",
       "      <th>Date</th>\n",
       "      <th>Open_USD</th>\n",
       "    </tr>\n",
       "  </thead>\n",
       "  <tbody>\n",
       "    <tr>\n",
       "      <th>0</th>\n",
       "      <td>2012</td>\n",
       "      <td>1</td>\n",
       "      <td>2012-01-16 15:36:00.000000000</td>\n",
       "      <td>15.312857</td>\n",
       "    </tr>\n",
       "    <tr>\n",
       "      <th>1</th>\n",
       "      <td>2012</td>\n",
       "      <td>2</td>\n",
       "      <td>2012-02-14 18:00:00.000000000</td>\n",
       "      <td>17.671536</td>\n",
       "    </tr>\n",
       "    <tr>\n",
       "      <th>2</th>\n",
       "      <td>2012</td>\n",
       "      <td>3</td>\n",
       "      <td>2012-03-16 01:05:27.272727296</td>\n",
       "      <td>20.602078</td>\n",
       "    </tr>\n",
       "    <tr>\n",
       "      <th>3</th>\n",
       "      <td>2012</td>\n",
       "      <td>4</td>\n",
       "      <td>2012-04-15 16:48:00.000000000</td>\n",
       "      <td>21.771696</td>\n",
       "    </tr>\n",
       "    <tr>\n",
       "      <th>4</th>\n",
       "      <td>2012</td>\n",
       "      <td>5</td>\n",
       "      <td>2012-05-15 10:54:32.727272704</td>\n",
       "      <td>20.206607</td>\n",
       "    </tr>\n",
       "  </tbody>\n",
       "</table>\n",
       "</div>"
      ],
      "text/plain": [
       "   Year  Month                          Date   Open_USD\n",
       "0  2012      1 2012-01-16 15:36:00.000000000  15.312857\n",
       "1  2012      2 2012-02-14 18:00:00.000000000  17.671536\n",
       "2  2012      3 2012-03-16 01:05:27.272727296  20.602078\n",
       "3  2012      4 2012-04-15 16:48:00.000000000  21.771696\n",
       "4  2012      5 2012-05-15 10:54:32.727272704  20.206607"
      ]
     },
     "execution_count": 69,
     "metadata": {},
     "output_type": "execute_result"
    }
   ],
   "source": [
    "apple_monthly_flat.rename(columns={'Open': 'Open_USD'}, inplace=True)\n",
    "apple_monthly_flat[0:5]"
   ]
  },
  {
   "cell_type": "code",
   "execution_count": 70,
   "metadata": {},
   "outputs": [],
   "source": [
    "combined_monthly_data = pd.merge(samsung_monthly_flat, apple_monthly_flat, on=['Year', 'Month'], suffixes=('_samsung', '_apple'))"
   ]
  },
  {
   "cell_type": "code",
   "execution_count": 71,
   "metadata": {},
   "outputs": [
    {
     "data": {
      "text/html": [
       "<div>\n",
       "<style scoped>\n",
       "    .dataframe tbody tr th:only-of-type {\n",
       "        vertical-align: middle;\n",
       "    }\n",
       "\n",
       "    .dataframe tbody tr th {\n",
       "        vertical-align: top;\n",
       "    }\n",
       "\n",
       "    .dataframe thead th {\n",
       "        text-align: right;\n",
       "    }\n",
       "</style>\n",
       "<table border=\"1\" class=\"dataframe\">\n",
       "  <thead>\n",
       "    <tr style=\"text-align: right;\">\n",
       "      <th></th>\n",
       "      <th>Year</th>\n",
       "      <th>Month</th>\n",
       "      <th>Date_samsung</th>\n",
       "      <th>Open_USD_samsung</th>\n",
       "      <th>Date_apple</th>\n",
       "      <th>Open_USD_apple</th>\n",
       "    </tr>\n",
       "  </thead>\n",
       "  <tbody>\n",
       "    <tr>\n",
       "      <th>0</th>\n",
       "      <td>2012</td>\n",
       "      <td>1</td>\n",
       "      <td>2012-01-15 04:48:00.000000000</td>\n",
       "      <td>16.224495</td>\n",
       "      <td>2012-01-16 15:36:00.000000000</td>\n",
       "      <td>15.312857</td>\n",
       "    </tr>\n",
       "    <tr>\n",
       "      <th>1</th>\n",
       "      <td>2012</td>\n",
       "      <td>2</td>\n",
       "      <td>2012-02-15 00:00:00.000000000</td>\n",
       "      <td>17.128795</td>\n",
       "      <td>2012-02-14 18:00:00.000000000</td>\n",
       "      <td>17.671536</td>\n",
       "    </tr>\n",
       "    <tr>\n",
       "      <th>2</th>\n",
       "      <td>2012</td>\n",
       "      <td>3</td>\n",
       "      <td>2012-03-16 18:17:08.571428608</td>\n",
       "      <td>18.794104</td>\n",
       "      <td>2012-03-16 01:05:27.272727296</td>\n",
       "      <td>20.602078</td>\n",
       "    </tr>\n",
       "    <tr>\n",
       "      <th>3</th>\n",
       "      <td>2012</td>\n",
       "      <td>4</td>\n",
       "      <td>2012-04-15 10:48:00.000000000</td>\n",
       "      <td>19.790828</td>\n",
       "      <td>2012-04-15 16:48:00.000000000</td>\n",
       "      <td>21.771696</td>\n",
       "    </tr>\n",
       "    <tr>\n",
       "      <th>4</th>\n",
       "      <td>2012</td>\n",
       "      <td>5</td>\n",
       "      <td>2012-05-16 03:25:42.857142784</td>\n",
       "      <td>19.545665</td>\n",
       "      <td>2012-05-15 10:54:32.727272704</td>\n",
       "      <td>20.206607</td>\n",
       "    </tr>\n",
       "    <tr>\n",
       "      <th>...</th>\n",
       "      <td>...</td>\n",
       "      <td>...</td>\n",
       "      <td>...</td>\n",
       "      <td>...</td>\n",
       "      <td>...</td>\n",
       "      <td>...</td>\n",
       "    </tr>\n",
       "    <tr>\n",
       "      <th>120</th>\n",
       "      <td>2022</td>\n",
       "      <td>1</td>\n",
       "      <td>2022-01-16 03:47:22.105263104</td>\n",
       "      <td>58.355189</td>\n",
       "      <td>2022-01-16 04:48:00.000000000</td>\n",
       "      <td>170.201500</td>\n",
       "    </tr>\n",
       "    <tr>\n",
       "      <th>121</th>\n",
       "      <td>2022</td>\n",
       "      <td>2</td>\n",
       "      <td>2022-02-15 06:40:00.000000000</td>\n",
       "      <td>56.224711</td>\n",
       "      <td>2022-02-13 12:37:53.684210432</td>\n",
       "      <td>169.635262</td>\n",
       "    </tr>\n",
       "    <tr>\n",
       "      <th>122</th>\n",
       "      <td>2022</td>\n",
       "      <td>3</td>\n",
       "      <td>2022-03-17 01:08:34.285714176</td>\n",
       "      <td>53.525220</td>\n",
       "      <td>2022-03-16 00:00:00.000000000</td>\n",
       "      <td>164.806956</td>\n",
       "    </tr>\n",
       "    <tr>\n",
       "      <th>123</th>\n",
       "      <td>2022</td>\n",
       "      <td>4</td>\n",
       "      <td>2022-04-15 18:17:08.571428608</td>\n",
       "      <td>51.255331</td>\n",
       "      <td>2022-04-15 19:12:00.000000000</td>\n",
       "      <td>167.479001</td>\n",
       "    </tr>\n",
       "    <tr>\n",
       "      <th>124</th>\n",
       "      <td>2022</td>\n",
       "      <td>5</td>\n",
       "      <td>2022-05-12 10:17:08.571428608</td>\n",
       "      <td>50.828143</td>\n",
       "      <td>2022-05-11 00:00:00.000000000</td>\n",
       "      <td>151.062001</td>\n",
       "    </tr>\n",
       "  </tbody>\n",
       "</table>\n",
       "<p>125 rows × 6 columns</p>\n",
       "</div>"
      ],
      "text/plain": [
       "     Year  Month                  Date_samsung  Open_USD_samsung  \\\n",
       "0    2012      1 2012-01-15 04:48:00.000000000         16.224495   \n",
       "1    2012      2 2012-02-15 00:00:00.000000000         17.128795   \n",
       "2    2012      3 2012-03-16 18:17:08.571428608         18.794104   \n",
       "3    2012      4 2012-04-15 10:48:00.000000000         19.790828   \n",
       "4    2012      5 2012-05-16 03:25:42.857142784         19.545665   \n",
       "..    ...    ...                           ...               ...   \n",
       "120  2022      1 2022-01-16 03:47:22.105263104         58.355189   \n",
       "121  2022      2 2022-02-15 06:40:00.000000000         56.224711   \n",
       "122  2022      3 2022-03-17 01:08:34.285714176         53.525220   \n",
       "123  2022      4 2022-04-15 18:17:08.571428608         51.255331   \n",
       "124  2022      5 2022-05-12 10:17:08.571428608         50.828143   \n",
       "\n",
       "                       Date_apple  Open_USD_apple  \n",
       "0   2012-01-16 15:36:00.000000000       15.312857  \n",
       "1   2012-02-14 18:00:00.000000000       17.671536  \n",
       "2   2012-03-16 01:05:27.272727296       20.602078  \n",
       "3   2012-04-15 16:48:00.000000000       21.771696  \n",
       "4   2012-05-15 10:54:32.727272704       20.206607  \n",
       "..                            ...             ...  \n",
       "120 2022-01-16 04:48:00.000000000      170.201500  \n",
       "121 2022-02-13 12:37:53.684210432      169.635262  \n",
       "122 2022-03-16 00:00:00.000000000      164.806956  \n",
       "123 2022-04-15 19:12:00.000000000      167.479001  \n",
       "124 2022-05-11 00:00:00.000000000      151.062001  \n",
       "\n",
       "[125 rows x 6 columns]"
      ]
     },
     "execution_count": 71,
     "metadata": {},
     "output_type": "execute_result"
    }
   ],
   "source": [
    "combined_monthly_data"
   ]
  },
  {
   "cell_type": "markdown",
   "metadata": {},
   "source": [
    "now the combined data looks good, we want to see extract a binary value of weather it increased of decreased compare the the previous month using the function diff."
   ]
  },
  {
   "cell_type": "code",
   "execution_count": 72,
   "metadata": {},
   "outputs": [
    {
     "data": {
      "text/html": [
       "<div>\n",
       "<style scoped>\n",
       "    .dataframe tbody tr th:only-of-type {\n",
       "        vertical-align: middle;\n",
       "    }\n",
       "\n",
       "    .dataframe tbody tr th {\n",
       "        vertical-align: top;\n",
       "    }\n",
       "\n",
       "    .dataframe thead th {\n",
       "        text-align: right;\n",
       "    }\n",
       "</style>\n",
       "<table border=\"1\" class=\"dataframe\">\n",
       "  <thead>\n",
       "    <tr style=\"text-align: right;\">\n",
       "      <th></th>\n",
       "      <th>Year</th>\n",
       "      <th>Month</th>\n",
       "      <th>Date_samsung</th>\n",
       "      <th>Open_USD_samsung</th>\n",
       "      <th>Date_apple</th>\n",
       "      <th>Open_USD_apple</th>\n",
       "      <th>Change_USD_samsung</th>\n",
       "      <th>Change_USD_apple</th>\n",
       "    </tr>\n",
       "  </thead>\n",
       "  <tbody>\n",
       "    <tr>\n",
       "      <th>1</th>\n",
       "      <td>2012</td>\n",
       "      <td>2</td>\n",
       "      <td>2012-02-15 00:00:00.000000000</td>\n",
       "      <td>17.128795</td>\n",
       "      <td>2012-02-14 18:00:00.000000000</td>\n",
       "      <td>17.671536</td>\n",
       "      <td>0.904299</td>\n",
       "      <td>2.358679</td>\n",
       "    </tr>\n",
       "    <tr>\n",
       "      <th>2</th>\n",
       "      <td>2012</td>\n",
       "      <td>3</td>\n",
       "      <td>2012-03-16 18:17:08.571428608</td>\n",
       "      <td>18.794104</td>\n",
       "      <td>2012-03-16 01:05:27.272727296</td>\n",
       "      <td>20.602078</td>\n",
       "      <td>1.665310</td>\n",
       "      <td>2.930542</td>\n",
       "    </tr>\n",
       "    <tr>\n",
       "      <th>3</th>\n",
       "      <td>2012</td>\n",
       "      <td>4</td>\n",
       "      <td>2012-04-15 10:48:00.000000000</td>\n",
       "      <td>19.790828</td>\n",
       "      <td>2012-04-15 16:48:00.000000000</td>\n",
       "      <td>21.771696</td>\n",
       "      <td>0.996724</td>\n",
       "      <td>1.169619</td>\n",
       "    </tr>\n",
       "    <tr>\n",
       "      <th>4</th>\n",
       "      <td>2012</td>\n",
       "      <td>5</td>\n",
       "      <td>2012-05-16 03:25:42.857142784</td>\n",
       "      <td>19.545665</td>\n",
       "      <td>2012-05-15 10:54:32.727272704</td>\n",
       "      <td>20.206607</td>\n",
       "      <td>-0.245163</td>\n",
       "      <td>-1.565089</td>\n",
       "    </tr>\n",
       "    <tr>\n",
       "      <th>5</th>\n",
       "      <td>2012</td>\n",
       "      <td>6</td>\n",
       "      <td>2012-06-16 06:00:00.000000000</td>\n",
       "      <td>18.522731</td>\n",
       "      <td>2012-06-15 18:17:08.571428608</td>\n",
       "      <td>20.523605</td>\n",
       "      <td>-1.022934</td>\n",
       "      <td>0.316998</td>\n",
       "    </tr>\n",
       "    <tr>\n",
       "      <th>...</th>\n",
       "      <td>...</td>\n",
       "      <td>...</td>\n",
       "      <td>...</td>\n",
       "      <td>...</td>\n",
       "      <td>...</td>\n",
       "      <td>...</td>\n",
       "      <td>...</td>\n",
       "      <td>...</td>\n",
       "    </tr>\n",
       "    <tr>\n",
       "      <th>120</th>\n",
       "      <td>2022</td>\n",
       "      <td>1</td>\n",
       "      <td>2022-01-16 03:47:22.105263104</td>\n",
       "      <td>58.355189</td>\n",
       "      <td>2022-01-16 04:48:00.000000000</td>\n",
       "      <td>170.201500</td>\n",
       "      <td>-0.581464</td>\n",
       "      <td>-2.953955</td>\n",
       "    </tr>\n",
       "    <tr>\n",
       "      <th>121</th>\n",
       "      <td>2022</td>\n",
       "      <td>2</td>\n",
       "      <td>2022-02-15 06:40:00.000000000</td>\n",
       "      <td>56.224711</td>\n",
       "      <td>2022-02-13 12:37:53.684210432</td>\n",
       "      <td>169.635262</td>\n",
       "      <td>-2.130478</td>\n",
       "      <td>-0.566238</td>\n",
       "    </tr>\n",
       "    <tr>\n",
       "      <th>122</th>\n",
       "      <td>2022</td>\n",
       "      <td>3</td>\n",
       "      <td>2022-03-17 01:08:34.285714176</td>\n",
       "      <td>53.525220</td>\n",
       "      <td>2022-03-16 00:00:00.000000000</td>\n",
       "      <td>164.806956</td>\n",
       "      <td>-2.699491</td>\n",
       "      <td>-4.828306</td>\n",
       "    </tr>\n",
       "    <tr>\n",
       "      <th>123</th>\n",
       "      <td>2022</td>\n",
       "      <td>4</td>\n",
       "      <td>2022-04-15 18:17:08.571428608</td>\n",
       "      <td>51.255331</td>\n",
       "      <td>2022-04-15 19:12:00.000000000</td>\n",
       "      <td>167.479001</td>\n",
       "      <td>-2.269889</td>\n",
       "      <td>2.672045</td>\n",
       "    </tr>\n",
       "    <tr>\n",
       "      <th>124</th>\n",
       "      <td>2022</td>\n",
       "      <td>5</td>\n",
       "      <td>2022-05-12 10:17:08.571428608</td>\n",
       "      <td>50.828143</td>\n",
       "      <td>2022-05-11 00:00:00.000000000</td>\n",
       "      <td>151.062001</td>\n",
       "      <td>-0.427188</td>\n",
       "      <td>-16.417000</td>\n",
       "    </tr>\n",
       "  </tbody>\n",
       "</table>\n",
       "<p>124 rows × 8 columns</p>\n",
       "</div>"
      ],
      "text/plain": [
       "     Year  Month                  Date_samsung  Open_USD_samsung  \\\n",
       "1    2012      2 2012-02-15 00:00:00.000000000         17.128795   \n",
       "2    2012      3 2012-03-16 18:17:08.571428608         18.794104   \n",
       "3    2012      4 2012-04-15 10:48:00.000000000         19.790828   \n",
       "4    2012      5 2012-05-16 03:25:42.857142784         19.545665   \n",
       "5    2012      6 2012-06-16 06:00:00.000000000         18.522731   \n",
       "..    ...    ...                           ...               ...   \n",
       "120  2022      1 2022-01-16 03:47:22.105263104         58.355189   \n",
       "121  2022      2 2022-02-15 06:40:00.000000000         56.224711   \n",
       "122  2022      3 2022-03-17 01:08:34.285714176         53.525220   \n",
       "123  2022      4 2022-04-15 18:17:08.571428608         51.255331   \n",
       "124  2022      5 2022-05-12 10:17:08.571428608         50.828143   \n",
       "\n",
       "                       Date_apple  Open_USD_apple  Change_USD_samsung  \\\n",
       "1   2012-02-14 18:00:00.000000000       17.671536            0.904299   \n",
       "2   2012-03-16 01:05:27.272727296       20.602078            1.665310   \n",
       "3   2012-04-15 16:48:00.000000000       21.771696            0.996724   \n",
       "4   2012-05-15 10:54:32.727272704       20.206607           -0.245163   \n",
       "5   2012-06-15 18:17:08.571428608       20.523605           -1.022934   \n",
       "..                            ...             ...                 ...   \n",
       "120 2022-01-16 04:48:00.000000000      170.201500           -0.581464   \n",
       "121 2022-02-13 12:37:53.684210432      169.635262           -2.130478   \n",
       "122 2022-03-16 00:00:00.000000000      164.806956           -2.699491   \n",
       "123 2022-04-15 19:12:00.000000000      167.479001           -2.269889   \n",
       "124 2022-05-11 00:00:00.000000000      151.062001           -0.427188   \n",
       "\n",
       "     Change_USD_apple  \n",
       "1            2.358679  \n",
       "2            2.930542  \n",
       "3            1.169619  \n",
       "4           -1.565089  \n",
       "5            0.316998  \n",
       "..                ...  \n",
       "120         -2.953955  \n",
       "121         -0.566238  \n",
       "122         -4.828306  \n",
       "123          2.672045  \n",
       "124        -16.417000  \n",
       "\n",
       "[124 rows x 8 columns]"
      ]
     },
     "execution_count": 72,
     "metadata": {},
     "output_type": "execute_result"
    }
   ],
   "source": [
    "# step 1 use diff\n",
    "combined_monthly_data['Change_USD_samsung'] = combined_monthly_data['Open_USD_samsung'].diff()\n",
    "combined_monthly_data['Change_USD_apple'] = combined_monthly_data['Open_USD_apple'].diff()\n",
    "combined_monthly_data.dropna()"
   ]
  },
  {
   "cell_type": "code",
   "execution_count": 73,
   "metadata": {},
   "outputs": [],
   "source": [
    "# chnage it to a binary value\n",
    "combined_monthly_data['Change_USD_samsung'] = combined_monthly_data['Change_USD_samsung'].apply(\n",
    "    lambda x: 1 if x > 0 else -1)\n",
    "combined_monthly_data['Change_USD_apple'] = combined_monthly_data['Change_USD_apple'].apply(\n",
    "    lambda x: 1 if x > 0 else -1)"
   ]
  },
  {
   "cell_type": "code",
   "execution_count": 74,
   "metadata": {},
   "outputs": [
    {
     "data": {
      "text/plain": [
       "Change_USD_samsung\n",
       " 1    70\n",
       "-1    55\n",
       "Name: count, dtype: int64"
      ]
     },
     "execution_count": 74,
     "metadata": {},
     "output_type": "execute_result"
    }
   ],
   "source": [
    "combined_monthly_data[\"Change_USD_samsung\"].value_counts()"
   ]
  },
  {
   "cell_type": "code",
   "execution_count": 75,
   "metadata": {
    "scrolled": true
   },
   "outputs": [
    {
     "data": {
      "text/plain": [
       "Change_USD_apple\n",
       " 1    77\n",
       "-1    48\n",
       "Name: count, dtype: int64"
      ]
     },
     "execution_count": 75,
     "metadata": {},
     "output_type": "execute_result"
    }
   ],
   "source": [
    "combined_monthly_data[\"Change_USD_apple\"].value_counts()"
   ]
  },
  {
   "cell_type": "markdown",
   "metadata": {},
   "source": [
    "#### now we can proceed with our predictive anlysis"
   ]
  },
  {
   "cell_type": "code",
   "execution_count": 76,
   "metadata": {},
   "outputs": [
    {
     "data": {
      "text/html": [
       "<div>\n",
       "<style scoped>\n",
       "    .dataframe tbody tr th:only-of-type {\n",
       "        vertical-align: middle;\n",
       "    }\n",
       "\n",
       "    .dataframe tbody tr th {\n",
       "        vertical-align: top;\n",
       "    }\n",
       "\n",
       "    .dataframe thead th {\n",
       "        text-align: right;\n",
       "    }\n",
       "</style>\n",
       "<table border=\"1\" class=\"dataframe\">\n",
       "  <thead>\n",
       "    <tr style=\"text-align: right;\">\n",
       "      <th></th>\n",
       "      <th>Year</th>\n",
       "      <th>Month</th>\n",
       "      <th>Date_samsung</th>\n",
       "      <th>Open_USD_samsung</th>\n",
       "      <th>Date_apple</th>\n",
       "      <th>Open_USD_apple</th>\n",
       "      <th>Change_USD_samsung</th>\n",
       "      <th>Change_USD_apple</th>\n",
       "    </tr>\n",
       "  </thead>\n",
       "  <tbody>\n",
       "    <tr>\n",
       "      <th>0</th>\n",
       "      <td>2012</td>\n",
       "      <td>1</td>\n",
       "      <td>2012-01-15 04:48:00.000000000</td>\n",
       "      <td>16.224495</td>\n",
       "      <td>2012-01-16 15:36:00.000000000</td>\n",
       "      <td>15.312857</td>\n",
       "      <td>-1</td>\n",
       "      <td>-1</td>\n",
       "    </tr>\n",
       "    <tr>\n",
       "      <th>1</th>\n",
       "      <td>2012</td>\n",
       "      <td>2</td>\n",
       "      <td>2012-02-15 00:00:00.000000000</td>\n",
       "      <td>17.128795</td>\n",
       "      <td>2012-02-14 18:00:00.000000000</td>\n",
       "      <td>17.671536</td>\n",
       "      <td>1</td>\n",
       "      <td>1</td>\n",
       "    </tr>\n",
       "    <tr>\n",
       "      <th>2</th>\n",
       "      <td>2012</td>\n",
       "      <td>3</td>\n",
       "      <td>2012-03-16 18:17:08.571428608</td>\n",
       "      <td>18.794104</td>\n",
       "      <td>2012-03-16 01:05:27.272727296</td>\n",
       "      <td>20.602078</td>\n",
       "      <td>1</td>\n",
       "      <td>1</td>\n",
       "    </tr>\n",
       "    <tr>\n",
       "      <th>3</th>\n",
       "      <td>2012</td>\n",
       "      <td>4</td>\n",
       "      <td>2012-04-15 10:48:00.000000000</td>\n",
       "      <td>19.790828</td>\n",
       "      <td>2012-04-15 16:48:00.000000000</td>\n",
       "      <td>21.771696</td>\n",
       "      <td>1</td>\n",
       "      <td>1</td>\n",
       "    </tr>\n",
       "    <tr>\n",
       "      <th>4</th>\n",
       "      <td>2012</td>\n",
       "      <td>5</td>\n",
       "      <td>2012-05-16 03:25:42.857142784</td>\n",
       "      <td>19.545665</td>\n",
       "      <td>2012-05-15 10:54:32.727272704</td>\n",
       "      <td>20.206607</td>\n",
       "      <td>-1</td>\n",
       "      <td>-1</td>\n",
       "    </tr>\n",
       "    <tr>\n",
       "      <th>...</th>\n",
       "      <td>...</td>\n",
       "      <td>...</td>\n",
       "      <td>...</td>\n",
       "      <td>...</td>\n",
       "      <td>...</td>\n",
       "      <td>...</td>\n",
       "      <td>...</td>\n",
       "      <td>...</td>\n",
       "    </tr>\n",
       "    <tr>\n",
       "      <th>120</th>\n",
       "      <td>2022</td>\n",
       "      <td>1</td>\n",
       "      <td>2022-01-16 03:47:22.105263104</td>\n",
       "      <td>58.355189</td>\n",
       "      <td>2022-01-16 04:48:00.000000000</td>\n",
       "      <td>170.201500</td>\n",
       "      <td>-1</td>\n",
       "      <td>-1</td>\n",
       "    </tr>\n",
       "    <tr>\n",
       "      <th>121</th>\n",
       "      <td>2022</td>\n",
       "      <td>2</td>\n",
       "      <td>2022-02-15 06:40:00.000000000</td>\n",
       "      <td>56.224711</td>\n",
       "      <td>2022-02-13 12:37:53.684210432</td>\n",
       "      <td>169.635262</td>\n",
       "      <td>-1</td>\n",
       "      <td>-1</td>\n",
       "    </tr>\n",
       "    <tr>\n",
       "      <th>122</th>\n",
       "      <td>2022</td>\n",
       "      <td>3</td>\n",
       "      <td>2022-03-17 01:08:34.285714176</td>\n",
       "      <td>53.525220</td>\n",
       "      <td>2022-03-16 00:00:00.000000000</td>\n",
       "      <td>164.806956</td>\n",
       "      <td>-1</td>\n",
       "      <td>-1</td>\n",
       "    </tr>\n",
       "    <tr>\n",
       "      <th>123</th>\n",
       "      <td>2022</td>\n",
       "      <td>4</td>\n",
       "      <td>2022-04-15 18:17:08.571428608</td>\n",
       "      <td>51.255331</td>\n",
       "      <td>2022-04-15 19:12:00.000000000</td>\n",
       "      <td>167.479001</td>\n",
       "      <td>-1</td>\n",
       "      <td>1</td>\n",
       "    </tr>\n",
       "    <tr>\n",
       "      <th>124</th>\n",
       "      <td>2022</td>\n",
       "      <td>5</td>\n",
       "      <td>2022-05-12 10:17:08.571428608</td>\n",
       "      <td>50.828143</td>\n",
       "      <td>2022-05-11 00:00:00.000000000</td>\n",
       "      <td>151.062001</td>\n",
       "      <td>-1</td>\n",
       "      <td>-1</td>\n",
       "    </tr>\n",
       "  </tbody>\n",
       "</table>\n",
       "<p>125 rows × 8 columns</p>\n",
       "</div>"
      ],
      "text/plain": [
       "     Year  Month                  Date_samsung  Open_USD_samsung  \\\n",
       "0    2012      1 2012-01-15 04:48:00.000000000         16.224495   \n",
       "1    2012      2 2012-02-15 00:00:00.000000000         17.128795   \n",
       "2    2012      3 2012-03-16 18:17:08.571428608         18.794104   \n",
       "3    2012      4 2012-04-15 10:48:00.000000000         19.790828   \n",
       "4    2012      5 2012-05-16 03:25:42.857142784         19.545665   \n",
       "..    ...    ...                           ...               ...   \n",
       "120  2022      1 2022-01-16 03:47:22.105263104         58.355189   \n",
       "121  2022      2 2022-02-15 06:40:00.000000000         56.224711   \n",
       "122  2022      3 2022-03-17 01:08:34.285714176         53.525220   \n",
       "123  2022      4 2022-04-15 18:17:08.571428608         51.255331   \n",
       "124  2022      5 2022-05-12 10:17:08.571428608         50.828143   \n",
       "\n",
       "                       Date_apple  Open_USD_apple  Change_USD_samsung  \\\n",
       "0   2012-01-16 15:36:00.000000000       15.312857                  -1   \n",
       "1   2012-02-14 18:00:00.000000000       17.671536                   1   \n",
       "2   2012-03-16 01:05:27.272727296       20.602078                   1   \n",
       "3   2012-04-15 16:48:00.000000000       21.771696                   1   \n",
       "4   2012-05-15 10:54:32.727272704       20.206607                  -1   \n",
       "..                            ...             ...                 ...   \n",
       "120 2022-01-16 04:48:00.000000000      170.201500                  -1   \n",
       "121 2022-02-13 12:37:53.684210432      169.635262                  -1   \n",
       "122 2022-03-16 00:00:00.000000000      164.806956                  -1   \n",
       "123 2022-04-15 19:12:00.000000000      167.479001                  -1   \n",
       "124 2022-05-11 00:00:00.000000000      151.062001                  -1   \n",
       "\n",
       "     Change_USD_apple  \n",
       "0                  -1  \n",
       "1                   1  \n",
       "2                   1  \n",
       "3                   1  \n",
       "4                  -1  \n",
       "..                ...  \n",
       "120                -1  \n",
       "121                -1  \n",
       "122                -1  \n",
       "123                 1  \n",
       "124                -1  \n",
       "\n",
       "[125 rows x 8 columns]"
      ]
     },
     "execution_count": 76,
     "metadata": {},
     "output_type": "execute_result"
    }
   ],
   "source": [
    "combined_monthly_data"
   ]
  },
  {
   "cell_type": "code",
   "execution_count": 77,
   "metadata": {},
   "outputs": [],
   "source": [
    "X=combined_monthly_data[\"Change_USD_apple\"]\n",
    "y=combined_monthly_data[\"Change_USD_samsung\"]"
   ]
  },
  {
   "cell_type": "markdown",
   "metadata": {},
   "source": [
    "#### train test split the data:\n",
    "we will have 80% as the training and have 20 as the testing set"
   ]
  },
  {
   "cell_type": "code",
   "execution_count": 78,
   "metadata": {},
   "outputs": [],
   "source": [
    "from sklearn.model_selection import train_test_split\n",
    "from sklearn.linear_model import LogisticRegression\n",
    "from sklearn.metrics import accuracy_score"
   ]
  },
  {
   "cell_type": "code",
   "execution_count": 79,
   "metadata": {},
   "outputs": [],
   "source": [
    "X_train, X_test, y_train, y_test = train_test_split(X, y, test_size=0.2, random_state=1314)"
   ]
  },
  {
   "cell_type": "code",
   "execution_count": 80,
   "metadata": {},
   "outputs": [
    {
     "data": {
      "text/plain": [
       "(100, 100, 25, 25)"
      ]
     },
     "execution_count": 80,
     "metadata": {},
     "output_type": "execute_result"
    }
   ],
   "source": [
    "len(X_train), len(y_train) , len(X_test), len(y_test)"
   ]
  },
  {
   "cell_type": "markdown",
   "metadata": {},
   "source": [
    "We will be using logistic regression, which is a model that is suitable for binary classification tasks like predicting the direction of stock price changes. "
   ]
  },
  {
   "cell_type": "code",
   "execution_count": 81,
   "metadata": {},
   "outputs": [],
   "source": [
    "X_train = X_train.values.reshape(-1, 1)\n",
    "X_test = X_test.values.reshape(-1, 1)"
   ]
  },
  {
   "cell_type": "code",
   "execution_count": 82,
   "metadata": {
    "scrolled": false
   },
   "outputs": [
    {
     "data": {
      "text/plain": [
       "LogisticRegression()"
      ]
     },
     "execution_count": 82,
     "metadata": {},
     "output_type": "execute_result"
    }
   ],
   "source": [
    "model = LogisticRegression()\n",
    "model.fit(X_train, y_train)"
   ]
  },
  {
   "cell_type": "code",
   "execution_count": 83,
   "metadata": {},
   "outputs": [
    {
     "name": "stdout",
     "output_type": "stream",
     "text": [
      "Training Set Accuracy: 0.62\n"
     ]
    }
   ],
   "source": [
    "# Training set accuracy\n",
    "y_pred_train = model.predict(X_train)\n",
    "train_accuracy = accuracy_score(y_train, y_pred_train)\n",
    "print(f\"Training Set Accuracy:\", train_accuracy )"
   ]
  },
  {
   "cell_type": "code",
   "execution_count": 84,
   "metadata": {},
   "outputs": [
    {
     "name": "stdout",
     "output_type": "stream",
     "text": [
      "Testing Set Accuracy: 0.64\n"
     ]
    }
   ],
   "source": [
    "# test set accuracy\n",
    "y_pred = model.predict(X_test)\n",
    "accuracy = accuracy_score(y_test, y_pred)\n",
    "print(\"Testing Set Accuracy:\", accuracy)"
   ]
  },
  {
   "cell_type": "markdown",
   "metadata": {},
   "source": [
    "### Model limitaions"
   ]
  },
  {
   "cell_type": "markdown",
   "metadata": {},
   "source": [
    "#### Results: \n",
    "\n",
    "In the end we were able to get a 0.62% accuracy on the training data and a 0.64% accuracy on the testing data. But the results is not ideal given the limitations listed below and the low accuracy we recieved. the low accuracy relfects that the model might not be ideal to see if monthly changes in Apple's stock prices can predict the direction of changes in Samsung's stock prices. \n",
    "\n",
    "- Limitaion 1: In the real world, it is very likely that samsung stock prices is not affected by apple stock prices. Although they are competative companies, we have too less of data to predict what happens behind the scense. And no definatge conclusion can be drawn.\n",
    "\n",
    "   \n",
    "- Limitation 2: Since it doesnt make sense to look at stock by day, in the model we groupedby by year. But this resulted in a dataframe thats only 125 rows. Which leaves us with a 100 row of training and 25 rows for testing. This is definatly not enough data but it is the best can do.\n",
    "\n",
    "\n",
    "- Limitation 3: in the model we are only useing one feature to predict another. In the real stock market there are a lot more external factors but are all not present in the dataset we have. So we would say that one of the biggest limitations we have is from our data.\n",
    "    "
   ]
  },
  {
   "cell_type": "markdown",
   "metadata": {},
   "source": [
    "# Ethics & Privacy"
   ]
  },
  {
   "cell_type": "markdown",
   "metadata": {},
   "source": [
    "We do not have reason to believe that our data for stock prices would pose a privacy concern for investors. As for the datasets our group will create for Apple and Samsung stock, the data is simply a count of the amount of employees in each company and does not include factors such as race, gender, or wage. Simply, the datasets being created are only to note employment rates, which we believe would not be a concern for employee privacy. Moreover, we sourced this data from Kaggle, a reputable platform that provides access to a wide range of free public datasets. By using secondary data from this platform, we are confident that we have obtained our data with proper consent and in compliance with ethical standards. However, when working with publicly available data sets, we still put different ethical factors into consideration.There could also be some bias in that each data set might be more biased towards that certain company (i.e. apple users versus samsung users). Not only that, but in our dataset for Samsung we noted that the currency was in Korean won instead of United States dollar. Thus, we had to find the average currency exchange between 2012 and 2022 and create a function that converts the KRW to USD, but in that process we aknowledge that out accuracy of the selling price proved a little less accurate. \n",
    "\n",
    "The dataset for employment rates in both companies could pose some ethical bias. Specifically, we are working with a dataset that compiles yearly employee numbers, not monthly or daily. Our group aknowledges the possible bias this poses because there could be an instnace of random layoffs in one month of the year or dramatic increase in hiring that would ultimately skew the rate of employment. We sourced these datasets from two different websites that could potentially be the reason for this bias. Since these two sets were not originally in CSV form, the accuracy of the employment data is much lower than the stocks data sourced from Kaggle. Our noted ethical bias with stock price and employment both present the same concern of overgeneralization that as a result left us with a downsized version of our previous dataset. This was all done, however, as a way to make the datasets have a common variable to which they could be compared to each other.\n",
    "\n",
    "The period we chose between (2012-2022) can introduce bias based on the economic events and trends during that specific time period. Market disruptions within those years can impact the analysis. The Apple stock dataset goes from 1980-2022 while the Samsung stocks go from 2000-2022, this might cause potential biases that we will have to dive deeper into when looking at our analysis. Another important concern to note is how the dataset was collected (i.e. what news source did the data come from) can also influence the reporting biases.\n",
    "Here we will explain how we will set out to detect specific biases before, during, and after communication in our analysis for this question:\n",
    "\n",
    "Before analysis: We will conduct an exploratory data analysis (EDA) to understand the datasets we are working with and look for specific patterns or outliers while also checking for missing data. Then we would consider the years that the data were collected for both Apple and Samsung stocks, as well as employment, to assure the datasets we use represent our research analysis and what we are trying to uncover.\n",
    "\n",
    "During analysis: Our group will remain mindful of the trends in employment and trends in stock prices as we decide what to use and what to leave out for our conclusion while also taking into account the time period we are analyzing. We will also keep in mind that our data may not reflect the comeplete truth as we previously mentioned bias with average yearly closed stock price and yearly total employment.\n",
    "\n",
    "After analysis: We will acknowledge the limitations we find in our analysis. By doing so, we will also be careful and conscious of the language and vocabulary used when conducting our analysis to ensure it does not exude bias towards one company.\n",
    "\n",
    "The dynamic nature of financial markets, specifically the stock market, is dynamic and can change quickly over time. It is important to consider the implications of using historical data to make predictions about future trends, especially in evolving markets. Historical data can also reflect biases or inaccuracies that were present at the time of collection so we should acknowledge and address these potential sources of bias. We will ensure the algorithms used do not perpetuate or amplify existing biases. In this case, it would be apple users versus samsung users. Not only that, but it our predictive model, we understand that from late 2019-2022 COVID-19 was on a rise which led to high rates of unemployment, thus skewing the employment data we have. Because of this, we chose to use daily data to hopefully minimize inaccuracy. How we interpret and communicate our analysis can have ethical implications so it is essential that we are clear about the limitations of our analysis and avoid overgeneralizing claims.\n",
    "\n",
    "We will do a comprehensive assessment of potential biases, ensuring fairness in data representation, and maintaining transparency in our analytical methods. We understand that while the data itself may not include personal information, there could still be downstream consequences associated with our analysis or predictive modeling. Thus, we aim to avoid overgeneralizing our claims. Our group will make sure we are transparent and honest about our data methods, data sources, and potential limitations and biases in our analysis and ensure there is no downplaying or exaggeration of our results despite our own biases. Our group will make certain there are no misinterpretations or misinformation in our research that could lead to false analysis."
   ]
  },
  {
   "cell_type": "markdown",
   "metadata": {},
   "source": [
    "## Overall Observed Findings:\n",
    "Exploring the relationship between stock prices and employment data for Apple and Samsung, our hypothesis was centered around the existence of an inverse correlation between the two companies. We hypothesized that while stocks and employment within a company would exhibit a positive relationship, the relationship between the stocks of competitor companies would be negative.Merging the yearly average stock prices of Apple and Samsung yielded a remarkably high positive correlation coefficient, indicating a strong positive relationship between the stock prices of the two companies. These findings suggest that the stock prices of Apple and Samsung exhibit a strong positive correlation, while their employment data shows a weaker positive correlation. The relationships highlight the complexities involved in understanding the dynamics between stock performance and employment within and across companies, emphasizing the need for further exploration and consideration of various influencing factors.\n",
    "\n",
    "Both Apple and Samsung show positive slopes in their stock prices overtime, despite significant fluctuations and occasional dips. However, Apple's stock has a steadier rise compared to Samsung's stock. While Apple showcased a decreasing trend in trading volume over the 10-year period, Samsung's trading volume remained relatively constant with random peaks. Furthermore, Apple demonstrates a consistent and steady inncrease in employment, in contrast to Samsung's fluctuations, indicating a negative employment trend. Both companies exhibit positive slopes in their stock prices over time, but Apple tends to have more stable and consistent trends over stock price, volume traded, and employmenet compared to Samsung, which shows more erratic fluctuations in its data points."
   ]
  },
  {
   "cell_type": "markdown",
   "metadata": {},
   "source": [
    "# Discusison and Conclusion\n"
   ]
  },
  {
   "cell_type": "markdown",
   "metadata": {},
   "source": [
    "### Conclusion"
   ]
  },
  {
   "cell_type": "markdown",
   "metadata": {},
   "source": [
    "Through an extensive analysis  of Apple and Samsung's stock prices and employment records from 2012 to 2022, we observed interesting patterns and correlations. Our hypothesis aimed to find out the potential inverse relationship between the stock performances of these tech industries, alongside their employment metrics. The analysis revealed that while Apple and Samsung both showcased positive slopes in their stock prices over time, Apple's trajectory seemed more stable and consistent, experiencing gradual increases with occasional dips. On the other hand, Samsung exhibited more erratic fluctuations in its stock prices, showcasing big peaks and valleys, mainly around 2018 and 2020. Interestingly, the examination of trading volumes indicated a decline in Apple's trading volume over the decade, while Samsung's remained constant with sporadic peaks, with a surge between 2020 and 2022. When exploring employment trends, Apple showed a consistent upward trend, suggesting steady growth in their workforce. However, Samsung's employment records exhibited fluctuations, including drastic decreases in 2013 and 2021, raising questions about the company's employment stability during those periods. While our hypothesis anticipated an inverse relationship between Apple and Samsung stocks, the analysis revealed a generally positive correlation, suggesting that their stock prices moved in a similar direction over time except during the years of Apple’s lawsuit. Moving forward, it would be beneficial to dive deeper into specific economic events and refine data accuracy. We should also consider additional influencing factors to better understand the intricate relationship between stock prices and employment trends within these two companies. "
   ]
  },
  {
   "cell_type": "markdown",
   "metadata": {},
   "source": [
    "### Limitations:"
   ]
  },
  {
   "cell_type": "markdown",
   "metadata": {},
   "source": [
    "Despite the exhaustive analysis, certain limitations need consideration. The dataset's time frame (2012-2022) might have missed specific economic events or trends that can significantly impact stock prices or employment, potentially introducing bias or incomplete representations of market dynamics. Moreover, the datasets' sources and formats might have inherent biases or defects, impacting the accuracy of our analysis. Fluctuations in currency exchange rates for Samsung's stock prices, as well as the compilation of employment data from different sources, could have influenced the precision of our findings. Another limitation revolves around the precision of our employment data being annual rather than more frequent monthly intervals. This could potentially miss specific employment fluctuations within a year that could impact overall trends. Lastly, the COVID-19 pandemic's effect on both employment rates and stock prices could have skewed the analysis during the latter part of the decade, and this influence might not have been fully accounted for in our evaluation.\n",
    "\n",
    "Acknowledging these limitations and considering the complexities of market dynamics, this analysis highlights the need for an understanding of multiple factors influencing stock prices and employment trends. It underscores the importance of continually refining data sources and methodologies to attain more accurate and comprehensive insights into the financial and employment landscapes of these tech giants.\n",
    "\n",
    "\n"
   ]
  },
  {
   "cell_type": "markdown",
   "metadata": {},
   "source": [
    "# Team Contributions"
   ]
  },
  {
   "cell_type": "markdown",
   "metadata": {},
   "source": [
    "- Adrainna: Research Question, Data overview, Data Wrangling, Dataset creation, Video Editing, Troubleshooting\n",
    "- Kim: Research Question, Ethics & Privacy, Limitations, Conclusions, Abstract, Video Editing \n",
    "- Nikita: Research Question, Abstract, Background and Prior Work, Hypothesis, Stock Dictionary, EDA, Predictive model, Video filming/editing, Overall edits\n",
    "- Ashley: Research Question, Abstract, Background and Prior Work, Hypothesis, EDA, Annotation and Explanations of all visualizations and findings, Testing,  Predictive Model, Video filiming/editing, Final/overall edits, submission of video and final notebook\n",
    "- Grace: Research Question, Data, Data Overview, EDA, Predictive Analysis and Model Limitations"
   ]
  }
 ],
 "metadata": {
  "kernelspec": {
   "display_name": "Python 3 (ipykernel)",
   "language": "python",
   "name": "python3"
  },
  "language_info": {
   "codemirror_mode": {
    "name": "ipython",
    "version": 3
   },
   "file_extension": ".py",
   "mimetype": "text/x-python",
   "name": "python",
   "nbconvert_exporter": "python",
   "pygments_lexer": "ipython3",
   "version": "3.9.5"
  }
 },
 "nbformat": 4,
 "nbformat_minor": 2
}
